{
 "cells": [
  {
   "cell_type": "code",
   "execution_count": 10,
   "id": "b45f64fb-3091-409d-9252-ca50f1e0faf1",
   "metadata": {
    "editable": true,
    "slideshow": {
     "slide_type": ""
    },
    "tags": []
   },
   "outputs": [],
   "source": [
    "import pandas as pd\n",
    "import glob\n",
    "import random\n",
    "from tqdm.notebook import tqdm_notebook\n",
    "pd.options.mode.chained_assignment = None  # default='warn'\n",
    "\n",
    "# Get a list of all CSV files in a directory\n",
    "csv_files = glob.glob('*.csv')"
   ]
  },
  {
   "cell_type": "code",
   "execution_count": 14,
   "id": "d708fd8d-4308-4d12-b0f0-2bce4f149ef7",
   "metadata": {},
   "outputs": [
    {
     "data": {
      "application/vnd.jupyter.widget-view+json": {
       "model_id": "8a36a0990ae8427cb10e46677b481901",
       "version_major": 2,
       "version_minor": 0
      },
      "text/plain": [
       "Progress using tqdm_notebook():   0%|          | 0/410 [00:00<?, ?it/s]"
      ]
     },
     "metadata": {},
     "output_type": "display_data"
    },
    {
     "name": "stdout",
     "output_type": "stream",
     "text": [
      "                      Datetime             Tweet Id  \\\n",
      "16   2019-03-06 19:35:34+00:00  1103378608717025280   \n",
      "8    2019-03-12 01:28:22+00:00  1105279329896812545   \n",
      "14   2019-03-08 03:19:30+00:00  1103857748184350721   \n",
      "15   2019-03-07 16:01:44+00:00  1103687181326057472   \n",
      "147  2015-06-24 22:03:34+00:00   613829847131930628   \n",
      "..                         ...                  ...   \n",
      "14   2014-04-09 06:33:16+00:00   453782680572657664   \n",
      "74   2014-04-04 17:14:41+00:00   452132160476958720   \n",
      "27   2014-04-09 00:34:33+00:00   453692404382449664   \n",
      "116  2014-03-31 00:00:41+00:00   450422391055724544   \n",
      "51   2014-04-07 03:33:46+00:00   453012732225146882   \n",
      "\n",
      "                                                  Text         Username  \\\n",
      "16   @Corven666 @ComicBook Says the guys who is gon...  BeagleTheDeagle   \n",
      "8    Yep, It’s oficial, I’m exited for this movie #...          Ro1Argo   \n",
      "14   @HellboyMovie Looking forward to April for the...        dbbamafan   \n",
      "15   @spojankles @perlmutations Ugliest motherf#cke...          Run_556   \n",
      "147  #SkyBarFilms L.A. Slasher http://t.co/Syceb01X...      SkyBarFilms   \n",
      "..                                                 ...              ...   \n",
      "14   Sci-fi movie Jinn features car designer, Fireb...     DatabaseView   \n",
      "74   lol @ Muslims freaking out at the movie \"Jinn\"...    chaplainusama   \n",
      "27   New post: Sci-fi movie Jinn features car desig...     GatesDigital   \n",
      "116  Am I the only one who thinks that the trailer ...  joetherobertson   \n",
      "51                   the movie #jinn was pretty okay 😊  thebadguy______   \n",
      "\n",
      "    reply_count retweet_count like_count quote_count language  \\\n",
      "16            1             0          0           0       en   \n",
      "8             0             0          1           0       en   \n",
      "14            0             0          1           0       en   \n",
      "15            0             0          0           0       en   \n",
      "147           0             0          0           0       en   \n",
      "..          ...           ...        ...         ...      ...   \n",
      "14            0             0          0           0       en   \n",
      "74            0             0          3           0       en   \n",
      "27            0             0          0           0       en   \n",
      "116           0             0          1           0       en   \n",
      "51            0             0          0           0       en   \n",
      "\n",
      "    id_if_retweetd_tweet                                 íd_if_quoted_tweet  \\\n",
      "16                   NaN                                                NaN   \n",
      "8                    NaN  https://twitter.com/hellboy_news/status/110525...   \n",
      "14                   NaN                                                NaN   \n",
      "15                   NaN                                                NaN   \n",
      "147                  NaN                                                NaN   \n",
      "..                   ...                                                ...   \n",
      "14                   NaN                                                NaN   \n",
      "74                   NaN                                                NaN   \n",
      "27                   NaN                                                NaN   \n",
      "116                  NaN                                                NaN   \n",
      "51                   NaN                                                NaN   \n",
      "\n",
      "                           name  \n",
      "16      Hellboy-sem-retweet.csv  \n",
      "8       Hellboy-sem-retweet.csv  \n",
      "14      Hellboy-sem-retweet.csv  \n",
      "15      Hellboy-sem-retweet.csv  \n",
      "147  LA-Slasher-sem-retweet.csv  \n",
      "..                          ...  \n",
      "14         Jinn-sem-retweet.csv  \n",
      "74         Jinn-sem-retweet.csv  \n",
      "27         Jinn-sem-retweet.csv  \n",
      "116        Jinn-sem-retweet.csv  \n",
      "51         Jinn-sem-retweet.csv  \n",
      "\n",
      "[996555 rows x 12 columns]\n"
     ]
    }
   ],
   "source": [
    "# Create an empty dataframe to store the combined data\n",
    "combined_df = pd.DataFrame()\n",
    "\n",
    "# Loop through each CSV file and append its contents to the combined dataframe\n",
    "for csv_file in tqdm_notebook(csv_files, desc = 'Progress using tqdm_notebook()', total=len(csv_files)):\n",
    "    df = pd.read_csv(csv_file, dtype = {'Datetime': str, 'Tweet Id': str, 'Text': str, 'Username': str, 'reply_count': str, 'retweet_count': str,\n",
    "                                                         'like_count': str, 'quote_count': str, 'language': str, 'id_if_retweetd_tweet': str, 'id_if_quoted_tweet': str},\n",
    "                    engine='python',encoding='utf-8', on_bad_lines='skip')\n",
    "    newdf = df.query('language == \"en\"')\n",
    "    newdf[\"name\"] = csv_file\n",
    "    combined_df = pd.concat([combined_df, newdf.sample(frac=0.2)])\n",
    "    \n",
    "# Print the combined dataframe\n",
    "print(combined_df)"
   ]
  },
  {
   "cell_type": "code",
   "execution_count": 15,
   "id": "b3108676-09b5-47b6-bbb6-dddbe20d8aaf",
   "metadata": {
    "editable": true,
    "slideshow": {
     "slide_type": ""
    },
    "tags": []
   },
   "outputs": [],
   "source": [
    "combined_df.to_csv('sampled_tweets.csv', encoding='utf-8')"
   ]
  },
  {
   "cell_type": "code",
   "execution_count": null,
   "id": "ec6a6bb2-f62e-4ed4-832a-348dacc35b12",
   "metadata": {
    "editable": true,
    "slideshow": {
     "slide_type": ""
    },
    "tags": []
   },
   "outputs": [],
   "source": []
  }
 ],
 "metadata": {
  "kernelspec": {
   "display_name": "Python 3 (ipykernel)",
   "language": "python",
   "name": "python3"
  },
  "language_info": {
   "codemirror_mode": {
    "name": "ipython",
    "version": 3
   },
   "file_extension": ".py",
   "mimetype": "text/x-python",
   "name": "python",
   "nbconvert_exporter": "python",
   "pygments_lexer": "ipython3",
   "version": "3.11.4"
  }
 },
 "nbformat": 4,
 "nbformat_minor": 5
}
