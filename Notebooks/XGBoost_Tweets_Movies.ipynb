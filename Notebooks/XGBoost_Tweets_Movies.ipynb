{
  "nbformat": 4,
  "nbformat_minor": 0,
  "metadata": {
    "colab": {
      "provenance": [],
      "authorship_tag": "ABX9TyNxdlkAGC7C/8qdxEQjkQhA",
      "include_colab_link": true
    },
    "kernelspec": {
      "name": "python3",
      "display_name": "Python 3"
    },
    "language_info": {
      "name": "python"
    }
  },
  "cells": [
    {
      "cell_type": "markdown",
      "metadata": {
        "id": "view-in-github",
        "colab_type": "text"
      },
      "source": [
        "<a href=\"https://colab.research.google.com/github/stuned/Mestrado/blob/main/XGBoost_Tweets_Movies.ipynb\" target=\"_parent\"><img src=\"https://colab.research.google.com/assets/colab-badge.svg\" alt=\"Open In Colab\"/></a>"
      ]
    },
    {
      "cell_type": "code",
      "execution_count": 1,
      "metadata": {
        "colab": {
          "base_uri": "https://localhost:8080/"
        },
        "id": "fwdLeLBywPwN",
        "outputId": "adb990e6-0925-4bb4-d1dd-0d7cb7e581e7"
      },
      "outputs": [
        {
          "output_type": "stream",
          "name": "stdout",
          "text": [
            "Requirement already satisfied: xgboost in /usr/local/lib/python3.10/dist-packages (2.0.3)\n",
            "Requirement already satisfied: numpy in /usr/local/lib/python3.10/dist-packages (from xgboost) (1.25.2)\n",
            "Requirement already satisfied: scipy in /usr/local/lib/python3.10/dist-packages (from xgboost) (1.11.4)\n"
          ]
        }
      ],
      "source": [
        "!pip install xgboost"
      ]
    },
    {
      "cell_type": "code",
      "source": [
        "!pip install -U imbalanced-learn"
      ],
      "metadata": {
        "colab": {
          "base_uri": "https://localhost:8080/"
        },
        "id": "jgR6N2Wyw6GF",
        "outputId": "88767b8d-0db2-46df-c672-707924279b40"
      },
      "execution_count": 2,
      "outputs": [
        {
          "output_type": "stream",
          "name": "stdout",
          "text": [
            "Requirement already satisfied: imbalanced-learn in /usr/local/lib/python3.10/dist-packages (0.10.1)\n",
            "Collecting imbalanced-learn\n",
            "  Downloading imbalanced_learn-0.12.2-py3-none-any.whl (257 kB)\n",
            "\u001b[2K     \u001b[90m━━━━━━━━━━━━━━━━━━━━━━━━━━━━━━━━━━━━━━━━\u001b[0m \u001b[32m258.0/258.0 kB\u001b[0m \u001b[31m1.9 MB/s\u001b[0m eta \u001b[36m0:00:00\u001b[0m\n",
            "\u001b[?25hRequirement already satisfied: numpy>=1.17.3 in /usr/local/lib/python3.10/dist-packages (from imbalanced-learn) (1.25.2)\n",
            "Requirement already satisfied: scipy>=1.5.0 in /usr/local/lib/python3.10/dist-packages (from imbalanced-learn) (1.11.4)\n",
            "Requirement already satisfied: scikit-learn>=1.0.2 in /usr/local/lib/python3.10/dist-packages (from imbalanced-learn) (1.2.2)\n",
            "Requirement already satisfied: joblib>=1.1.1 in /usr/local/lib/python3.10/dist-packages (from imbalanced-learn) (1.4.2)\n",
            "Requirement already satisfied: threadpoolctl>=2.0.0 in /usr/local/lib/python3.10/dist-packages (from imbalanced-learn) (3.5.0)\n",
            "Installing collected packages: imbalanced-learn\n",
            "  Attempting uninstall: imbalanced-learn\n",
            "    Found existing installation: imbalanced-learn 0.10.1\n",
            "    Uninstalling imbalanced-learn-0.10.1:\n",
            "      Successfully uninstalled imbalanced-learn-0.10.1\n",
            "Successfully installed imbalanced-learn-0.12.2\n"
          ]
        }
      ]
    },
    {
      "cell_type": "code",
      "source": [
        "import pandas as pd\n",
        "import numpy as np\n",
        "from sklearn.model_selection import train_test_split\n",
        "from sklearn import metrics\n",
        "import xgboost as xgb\n",
        "import seaborn as sns\n",
        "import matplotlib.pyplot as plt"
      ],
      "metadata": {
        "id": "p-lIh8e4wiPx"
      },
      "execution_count": 3,
      "outputs": []
    },
    {
      "cell_type": "code",
      "source": [
        "from google.colab import drive\n",
        "drive.mount('/content/drive')"
      ],
      "metadata": {
        "colab": {
          "base_uri": "https://localhost:8080/"
        },
        "id": "cmUa4nBGwy_2",
        "outputId": "8b0e15f6-88cf-47e2-93f2-c834505e16ad"
      },
      "execution_count": 4,
      "outputs": [
        {
          "output_type": "stream",
          "name": "stdout",
          "text": [
            "Mounted at /content/drive\n"
          ]
        }
      ]
    },
    {
      "cell_type": "code",
      "source": [
        "base_filmes = pd.read_csv ('/content/drive/MyDrive/Mestrado/mestrado - base de dados/movies_full_info_merged.csv', dtype = {'index': str, 'filename': str, 'count_valid_tweets': int, 'reply_count': int, 'retweet_count': int, 'like_count': int, 'quote_count': int, 'anger': float, 'anticipation': float, 'disgust': float, 'fear': float, 'joy': float, 'love': float, 'optimism': float, 'pessimism': float, 'sadness': float, 'surprise': float, 'trust': float, 'negative': float, 'neutral': float, 'positive': float, 'FILME': str, 'ANO': int, 'REL_MONTH_NAME': str, 'REL_MONTH': int, 'REL_DAY': int, 'REL_YEAR': int, 'MARKETS': str, 'DISTRIBUTOR_GROUPED': bool, 'DISTRIBUTOR': str, 'GENRE': str, 'Drama': bool, 'Action': bool, 'Comedy': bool, 'Horror': bool, 'Adventure': bool, 'Crime': bool, 'Fantasy': bool, 'Biography': bool, 'Documentary': bool, 'Animation': bool, 'Thriller': bool, 'Mystery': bool, 'History': bool, 'Sci-Fi': bool, 'Romance': bool, 'Music': bool, 'Family': bool, 'Western': bool, 'Musical': bool, 'War': bool, 'MPAA': str, 'MPAA_BIN': bool, 'RUNTIME_HOUR': str, 'RUNTIME_MINUTES': str, 'RUNTIME': int, 'ACTOR': str, 'CREW': str, 'SINOPSE': str, 'BUDGET': float, 'DOMESTIC_OPENING': float, 'DOMESTIC_GROSS': float, 'INTERNATIONAL_GROSS': float, 'WORLDWIDE_GROSS': float, 'BUDGET_DEFLACIONADO': float, 'DOMESTIC_OPENING_DEFLACIONADO': float, 'DOMESTIC_GROSS_DEFLACIONADO': float, 'INTERNATIONAL_GROSS_DEFLACIONADO': float, 'WORLDWIDE_GROSS_DEFLACIONADO': float, 'SEQUEL': bool, 'HAVE_SEQUEL': bool, 'IS_SPINOFF': bool, 'SEQUEL_SPINOFF': bool, 'INFO': str},\n",
        "                                    engine='python',encoding='utf-8', on_bad_lines='skip', index_col=False)"
      ],
      "metadata": {
        "id": "ndnHgcU0xBwP"
      },
      "execution_count": 5,
      "outputs": []
    },
    {
      "cell_type": "code",
      "source": [
        "base_filmes_rf =  base_filmes[['count_valid_tweets', 'reply_count', 'retweet_count', 'like_count', 'quote_count', 'anger', 'anticipation', 'disgust', 'fear', 'joy', 'love', 'optimism', 'pessimism', 'sadness', 'surprise', 'trust', 'negative', 'neutral', 'positive', 'DISTRIBUTOR_GROUPED', 'Drama', 'Action', 'Comedy', 'Horror', 'Adventure', 'Crime', 'Fantasy', 'Biography', 'Documentary', 'Animation', 'Thriller', 'Mystery', 'History', 'Sci-Fi', 'Romance', 'Music', 'Family', 'Western', 'Musical', 'War', 'MPAA_BIN', 'BUDGET_DEFLACIONADO', 'DOMESTIC_OPENING_DEFLACIONADO', 'DOMESTIC_GROSS_DEFLACIONADO', 'INTERNATIONAL_GROSS_DEFLACIONADO', 'WORLDWIDE_GROSS_DEFLACIONADO', 'HAVE_SEQUEL', 'SEQUEL_SPINOFF', 'RUNTIME', 'REL_YEAR', 'REL_MONTH']]"
      ],
      "metadata": {
        "id": "73oKNTVMxKr8"
      },
      "execution_count": 6,
      "outputs": []
    },
    {
      "cell_type": "code",
      "source": [
        "base_filmes.shape"
      ],
      "metadata": {
        "colab": {
          "base_uri": "https://localhost:8080/"
        },
        "id": "H4ya959WxkO1",
        "outputId": "f8c4298c-41ce-4b25-ac84-334e46612598"
      },
      "execution_count": 7,
      "outputs": [
        {
          "output_type": "execute_result",
          "data": {
            "text/plain": [
              "(386, 74)"
            ]
          },
          "metadata": {},
          "execution_count": 7
        }
      ]
    },
    {
      "cell_type": "code",
      "source": [
        "base_filmes_rf.shape"
      ],
      "metadata": {
        "colab": {
          "base_uri": "https://localhost:8080/"
        },
        "id": "V_GVXjONxlZe",
        "outputId": "c59c0380-18ca-47bc-c563-ad3b49c3468e"
      },
      "execution_count": 8,
      "outputs": [
        {
          "output_type": "execute_result",
          "data": {
            "text/plain": [
              "(386, 51)"
            ]
          },
          "metadata": {},
          "execution_count": 8
        }
      ]
    },
    {
      "cell_type": "code",
      "source": [
        "base_filmes_rf.head()"
      ],
      "metadata": {
        "colab": {
          "base_uri": "https://localhost:8080/",
          "height": 256
        },
        "id": "WvKKfrPpxmsp",
        "outputId": "3fa1fc0d-893f-4f84-f31a-fa94d22670fb"
      },
      "execution_count": 9,
      "outputs": [
        {
          "output_type": "execute_result",
          "data": {
            "text/plain": [
              "   count_valid_tweets  reply_count  retweet_count  like_count  quote_count  \\\n",
              "0               34152         7137          18987       49807           16   \n",
              "1                  29            5             14          22            2   \n",
              "2                 533           72            195          68            0   \n",
              "3                 749           81             73         190            0   \n",
              "4                1959          113            484        1142            7   \n",
              "\n",
              "      anger  anticipation   disgust      fear       joy  ...  \\\n",
              "0  0.030253      0.285267  0.030638  0.067985  0.445574  ...   \n",
              "1  0.038646      0.233765  0.058740  0.489303  0.090981  ...   \n",
              "2  0.036060      0.333602  0.042019  0.105184  0.345716  ...   \n",
              "3  0.066029      0.227398  0.073734  0.073973  0.325812  ...   \n",
              "4  0.020444      0.291011  0.028198  0.115785  0.407732  ...   \n",
              "\n",
              "   BUDGET_DEFLACIONADO  DOMESTIC_OPENING_DEFLACIONADO  \\\n",
              "0                  0.0                     26317981.0   \n",
              "1                  0.0                          997.0   \n",
              "2                  0.0                         3805.0   \n",
              "3                  0.0                         9994.0   \n",
              "4                  0.0                            0.0   \n",
              "\n",
              "   DOMESTIC_GROSS_DEFLACIONADO  INTERNATIONAL_GROSS_DEFLACIONADO  \\\n",
              "0                   76719597.0                        40586896.0   \n",
              "1                       5152.0                               0.0   \n",
              "2                       7109.0                               0.0   \n",
              "3                      14903.0                          877532.0   \n",
              "4                          0.0                           17111.0   \n",
              "\n",
              "   WORLDWIDE_GROSS_DEFLACIONADO  HAVE_SEQUEL  SEQUEL_SPINOFF  RUNTIME  \\\n",
              "0                   117306493.0         True            True      103   \n",
              "1                        5152.0        False           False       85   \n",
              "2                        7109.0        False           False       91   \n",
              "3                      892435.0        False           False       93   \n",
              "4                       17111.0         True            True      120   \n",
              "\n",
              "   REL_YEAR  REL_MONTH  \n",
              "0      2016          3  \n",
              "1      2019         10  \n",
              "2      2013          6  \n",
              "3      2014          4  \n",
              "4      2016          5  \n",
              "\n",
              "[5 rows x 51 columns]"
            ],
            "text/html": [
              "\n",
              "  <div id=\"df-0ccd1bff-691f-4155-bc24-6aba43baa9d5\" class=\"colab-df-container\">\n",
              "    <div>\n",
              "<style scoped>\n",
              "    .dataframe tbody tr th:only-of-type {\n",
              "        vertical-align: middle;\n",
              "    }\n",
              "\n",
              "    .dataframe tbody tr th {\n",
              "        vertical-align: top;\n",
              "    }\n",
              "\n",
              "    .dataframe thead th {\n",
              "        text-align: right;\n",
              "    }\n",
              "</style>\n",
              "<table border=\"1\" class=\"dataframe\">\n",
              "  <thead>\n",
              "    <tr style=\"text-align: right;\">\n",
              "      <th></th>\n",
              "      <th>count_valid_tweets</th>\n",
              "      <th>reply_count</th>\n",
              "      <th>retweet_count</th>\n",
              "      <th>like_count</th>\n",
              "      <th>quote_count</th>\n",
              "      <th>anger</th>\n",
              "      <th>anticipation</th>\n",
              "      <th>disgust</th>\n",
              "      <th>fear</th>\n",
              "      <th>joy</th>\n",
              "      <th>...</th>\n",
              "      <th>BUDGET_DEFLACIONADO</th>\n",
              "      <th>DOMESTIC_OPENING_DEFLACIONADO</th>\n",
              "      <th>DOMESTIC_GROSS_DEFLACIONADO</th>\n",
              "      <th>INTERNATIONAL_GROSS_DEFLACIONADO</th>\n",
              "      <th>WORLDWIDE_GROSS_DEFLACIONADO</th>\n",
              "      <th>HAVE_SEQUEL</th>\n",
              "      <th>SEQUEL_SPINOFF</th>\n",
              "      <th>RUNTIME</th>\n",
              "      <th>REL_YEAR</th>\n",
              "      <th>REL_MONTH</th>\n",
              "    </tr>\n",
              "  </thead>\n",
              "  <tbody>\n",
              "    <tr>\n",
              "      <th>0</th>\n",
              "      <td>34152</td>\n",
              "      <td>7137</td>\n",
              "      <td>18987</td>\n",
              "      <td>49807</td>\n",
              "      <td>16</td>\n",
              "      <td>0.030253</td>\n",
              "      <td>0.285267</td>\n",
              "      <td>0.030638</td>\n",
              "      <td>0.067985</td>\n",
              "      <td>0.445574</td>\n",
              "      <td>...</td>\n",
              "      <td>0.0</td>\n",
              "      <td>26317981.0</td>\n",
              "      <td>76719597.0</td>\n",
              "      <td>40586896.0</td>\n",
              "      <td>117306493.0</td>\n",
              "      <td>True</td>\n",
              "      <td>True</td>\n",
              "      <td>103</td>\n",
              "      <td>2016</td>\n",
              "      <td>3</td>\n",
              "    </tr>\n",
              "    <tr>\n",
              "      <th>1</th>\n",
              "      <td>29</td>\n",
              "      <td>5</td>\n",
              "      <td>14</td>\n",
              "      <td>22</td>\n",
              "      <td>2</td>\n",
              "      <td>0.038646</td>\n",
              "      <td>0.233765</td>\n",
              "      <td>0.058740</td>\n",
              "      <td>0.489303</td>\n",
              "      <td>0.090981</td>\n",
              "      <td>...</td>\n",
              "      <td>0.0</td>\n",
              "      <td>997.0</td>\n",
              "      <td>5152.0</td>\n",
              "      <td>0.0</td>\n",
              "      <td>5152.0</td>\n",
              "      <td>False</td>\n",
              "      <td>False</td>\n",
              "      <td>85</td>\n",
              "      <td>2019</td>\n",
              "      <td>10</td>\n",
              "    </tr>\n",
              "    <tr>\n",
              "      <th>2</th>\n",
              "      <td>533</td>\n",
              "      <td>72</td>\n",
              "      <td>195</td>\n",
              "      <td>68</td>\n",
              "      <td>0</td>\n",
              "      <td>0.036060</td>\n",
              "      <td>0.333602</td>\n",
              "      <td>0.042019</td>\n",
              "      <td>0.105184</td>\n",
              "      <td>0.345716</td>\n",
              "      <td>...</td>\n",
              "      <td>0.0</td>\n",
              "      <td>3805.0</td>\n",
              "      <td>7109.0</td>\n",
              "      <td>0.0</td>\n",
              "      <td>7109.0</td>\n",
              "      <td>False</td>\n",
              "      <td>False</td>\n",
              "      <td>91</td>\n",
              "      <td>2013</td>\n",
              "      <td>6</td>\n",
              "    </tr>\n",
              "    <tr>\n",
              "      <th>3</th>\n",
              "      <td>749</td>\n",
              "      <td>81</td>\n",
              "      <td>73</td>\n",
              "      <td>190</td>\n",
              "      <td>0</td>\n",
              "      <td>0.066029</td>\n",
              "      <td>0.227398</td>\n",
              "      <td>0.073734</td>\n",
              "      <td>0.073973</td>\n",
              "      <td>0.325812</td>\n",
              "      <td>...</td>\n",
              "      <td>0.0</td>\n",
              "      <td>9994.0</td>\n",
              "      <td>14903.0</td>\n",
              "      <td>877532.0</td>\n",
              "      <td>892435.0</td>\n",
              "      <td>False</td>\n",
              "      <td>False</td>\n",
              "      <td>93</td>\n",
              "      <td>2014</td>\n",
              "      <td>4</td>\n",
              "    </tr>\n",
              "    <tr>\n",
              "      <th>4</th>\n",
              "      <td>1959</td>\n",
              "      <td>113</td>\n",
              "      <td>484</td>\n",
              "      <td>1142</td>\n",
              "      <td>7</td>\n",
              "      <td>0.020444</td>\n",
              "      <td>0.291011</td>\n",
              "      <td>0.028198</td>\n",
              "      <td>0.115785</td>\n",
              "      <td>0.407732</td>\n",
              "      <td>...</td>\n",
              "      <td>0.0</td>\n",
              "      <td>0.0</td>\n",
              "      <td>0.0</td>\n",
              "      <td>17111.0</td>\n",
              "      <td>17111.0</td>\n",
              "      <td>True</td>\n",
              "      <td>True</td>\n",
              "      <td>120</td>\n",
              "      <td>2016</td>\n",
              "      <td>5</td>\n",
              "    </tr>\n",
              "  </tbody>\n",
              "</table>\n",
              "<p>5 rows × 51 columns</p>\n",
              "</div>\n",
              "    <div class=\"colab-df-buttons\">\n",
              "\n",
              "  <div class=\"colab-df-container\">\n",
              "    <button class=\"colab-df-convert\" onclick=\"convertToInteractive('df-0ccd1bff-691f-4155-bc24-6aba43baa9d5')\"\n",
              "            title=\"Convert this dataframe to an interactive table.\"\n",
              "            style=\"display:none;\">\n",
              "\n",
              "  <svg xmlns=\"http://www.w3.org/2000/svg\" height=\"24px\" viewBox=\"0 -960 960 960\">\n",
              "    <path d=\"M120-120v-720h720v720H120Zm60-500h600v-160H180v160Zm220 220h160v-160H400v160Zm0 220h160v-160H400v160ZM180-400h160v-160H180v160Zm440 0h160v-160H620v160ZM180-180h160v-160H180v160Zm440 0h160v-160H620v160Z\"/>\n",
              "  </svg>\n",
              "    </button>\n",
              "\n",
              "  <style>\n",
              "    .colab-df-container {\n",
              "      display:flex;\n",
              "      gap: 12px;\n",
              "    }\n",
              "\n",
              "    .colab-df-convert {\n",
              "      background-color: #E8F0FE;\n",
              "      border: none;\n",
              "      border-radius: 50%;\n",
              "      cursor: pointer;\n",
              "      display: none;\n",
              "      fill: #1967D2;\n",
              "      height: 32px;\n",
              "      padding: 0 0 0 0;\n",
              "      width: 32px;\n",
              "    }\n",
              "\n",
              "    .colab-df-convert:hover {\n",
              "      background-color: #E2EBFA;\n",
              "      box-shadow: 0px 1px 2px rgba(60, 64, 67, 0.3), 0px 1px 3px 1px rgba(60, 64, 67, 0.15);\n",
              "      fill: #174EA6;\n",
              "    }\n",
              "\n",
              "    .colab-df-buttons div {\n",
              "      margin-bottom: 4px;\n",
              "    }\n",
              "\n",
              "    [theme=dark] .colab-df-convert {\n",
              "      background-color: #3B4455;\n",
              "      fill: #D2E3FC;\n",
              "    }\n",
              "\n",
              "    [theme=dark] .colab-df-convert:hover {\n",
              "      background-color: #434B5C;\n",
              "      box-shadow: 0px 1px 3px 1px rgba(0, 0, 0, 0.15);\n",
              "      filter: drop-shadow(0px 1px 2px rgba(0, 0, 0, 0.3));\n",
              "      fill: #FFFFFF;\n",
              "    }\n",
              "  </style>\n",
              "\n",
              "    <script>\n",
              "      const buttonEl =\n",
              "        document.querySelector('#df-0ccd1bff-691f-4155-bc24-6aba43baa9d5 button.colab-df-convert');\n",
              "      buttonEl.style.display =\n",
              "        google.colab.kernel.accessAllowed ? 'block' : 'none';\n",
              "\n",
              "      async function convertToInteractive(key) {\n",
              "        const element = document.querySelector('#df-0ccd1bff-691f-4155-bc24-6aba43baa9d5');\n",
              "        const dataTable =\n",
              "          await google.colab.kernel.invokeFunction('convertToInteractive',\n",
              "                                                    [key], {});\n",
              "        if (!dataTable) return;\n",
              "\n",
              "        const docLinkHtml = 'Like what you see? Visit the ' +\n",
              "          '<a target=\"_blank\" href=https://colab.research.google.com/notebooks/data_table.ipynb>data table notebook</a>'\n",
              "          + ' to learn more about interactive tables.';\n",
              "        element.innerHTML = '';\n",
              "        dataTable['output_type'] = 'display_data';\n",
              "        await google.colab.output.renderOutput(dataTable, element);\n",
              "        const docLink = document.createElement('div');\n",
              "        docLink.innerHTML = docLinkHtml;\n",
              "        element.appendChild(docLink);\n",
              "      }\n",
              "    </script>\n",
              "  </div>\n",
              "\n",
              "\n",
              "<div id=\"df-bbb6c9a0-393c-4141-8886-b6ae8e2b216c\">\n",
              "  <button class=\"colab-df-quickchart\" onclick=\"quickchart('df-bbb6c9a0-393c-4141-8886-b6ae8e2b216c')\"\n",
              "            title=\"Suggest charts\"\n",
              "            style=\"display:none;\">\n",
              "\n",
              "<svg xmlns=\"http://www.w3.org/2000/svg\" height=\"24px\"viewBox=\"0 0 24 24\"\n",
              "     width=\"24px\">\n",
              "    <g>\n",
              "        <path d=\"M19 3H5c-1.1 0-2 .9-2 2v14c0 1.1.9 2 2 2h14c1.1 0 2-.9 2-2V5c0-1.1-.9-2-2-2zM9 17H7v-7h2v7zm4 0h-2V7h2v10zm4 0h-2v-4h2v4z\"/>\n",
              "    </g>\n",
              "</svg>\n",
              "  </button>\n",
              "\n",
              "<style>\n",
              "  .colab-df-quickchart {\n",
              "      --bg-color: #E8F0FE;\n",
              "      --fill-color: #1967D2;\n",
              "      --hover-bg-color: #E2EBFA;\n",
              "      --hover-fill-color: #174EA6;\n",
              "      --disabled-fill-color: #AAA;\n",
              "      --disabled-bg-color: #DDD;\n",
              "  }\n",
              "\n",
              "  [theme=dark] .colab-df-quickchart {\n",
              "      --bg-color: #3B4455;\n",
              "      --fill-color: #D2E3FC;\n",
              "      --hover-bg-color: #434B5C;\n",
              "      --hover-fill-color: #FFFFFF;\n",
              "      --disabled-bg-color: #3B4455;\n",
              "      --disabled-fill-color: #666;\n",
              "  }\n",
              "\n",
              "  .colab-df-quickchart {\n",
              "    background-color: var(--bg-color);\n",
              "    border: none;\n",
              "    border-radius: 50%;\n",
              "    cursor: pointer;\n",
              "    display: none;\n",
              "    fill: var(--fill-color);\n",
              "    height: 32px;\n",
              "    padding: 0;\n",
              "    width: 32px;\n",
              "  }\n",
              "\n",
              "  .colab-df-quickchart:hover {\n",
              "    background-color: var(--hover-bg-color);\n",
              "    box-shadow: 0 1px 2px rgba(60, 64, 67, 0.3), 0 1px 3px 1px rgba(60, 64, 67, 0.15);\n",
              "    fill: var(--button-hover-fill-color);\n",
              "  }\n",
              "\n",
              "  .colab-df-quickchart-complete:disabled,\n",
              "  .colab-df-quickchart-complete:disabled:hover {\n",
              "    background-color: var(--disabled-bg-color);\n",
              "    fill: var(--disabled-fill-color);\n",
              "    box-shadow: none;\n",
              "  }\n",
              "\n",
              "  .colab-df-spinner {\n",
              "    border: 2px solid var(--fill-color);\n",
              "    border-color: transparent;\n",
              "    border-bottom-color: var(--fill-color);\n",
              "    animation:\n",
              "      spin 1s steps(1) infinite;\n",
              "  }\n",
              "\n",
              "  @keyframes spin {\n",
              "    0% {\n",
              "      border-color: transparent;\n",
              "      border-bottom-color: var(--fill-color);\n",
              "      border-left-color: var(--fill-color);\n",
              "    }\n",
              "    20% {\n",
              "      border-color: transparent;\n",
              "      border-left-color: var(--fill-color);\n",
              "      border-top-color: var(--fill-color);\n",
              "    }\n",
              "    30% {\n",
              "      border-color: transparent;\n",
              "      border-left-color: var(--fill-color);\n",
              "      border-top-color: var(--fill-color);\n",
              "      border-right-color: var(--fill-color);\n",
              "    }\n",
              "    40% {\n",
              "      border-color: transparent;\n",
              "      border-right-color: var(--fill-color);\n",
              "      border-top-color: var(--fill-color);\n",
              "    }\n",
              "    60% {\n",
              "      border-color: transparent;\n",
              "      border-right-color: var(--fill-color);\n",
              "    }\n",
              "    80% {\n",
              "      border-color: transparent;\n",
              "      border-right-color: var(--fill-color);\n",
              "      border-bottom-color: var(--fill-color);\n",
              "    }\n",
              "    90% {\n",
              "      border-color: transparent;\n",
              "      border-bottom-color: var(--fill-color);\n",
              "    }\n",
              "  }\n",
              "</style>\n",
              "\n",
              "  <script>\n",
              "    async function quickchart(key) {\n",
              "      const quickchartButtonEl =\n",
              "        document.querySelector('#' + key + ' button');\n",
              "      quickchartButtonEl.disabled = true;  // To prevent multiple clicks.\n",
              "      quickchartButtonEl.classList.add('colab-df-spinner');\n",
              "      try {\n",
              "        const charts = await google.colab.kernel.invokeFunction(\n",
              "            'suggestCharts', [key], {});\n",
              "      } catch (error) {\n",
              "        console.error('Error during call to suggestCharts:', error);\n",
              "      }\n",
              "      quickchartButtonEl.classList.remove('colab-df-spinner');\n",
              "      quickchartButtonEl.classList.add('colab-df-quickchart-complete');\n",
              "    }\n",
              "    (() => {\n",
              "      let quickchartButtonEl =\n",
              "        document.querySelector('#df-bbb6c9a0-393c-4141-8886-b6ae8e2b216c button');\n",
              "      quickchartButtonEl.style.display =\n",
              "        google.colab.kernel.accessAllowed ? 'block' : 'none';\n",
              "    })();\n",
              "  </script>\n",
              "</div>\n",
              "\n",
              "    </div>\n",
              "  </div>\n"
            ],
            "application/vnd.google.colaboratory.intrinsic+json": {
              "type": "dataframe",
              "variable_name": "base_filmes_rf"
            }
          },
          "metadata": {},
          "execution_count": 9
        }
      ]
    },
    {
      "cell_type": "code",
      "source": [
        "base_filmes_rf.tail()"
      ],
      "metadata": {
        "colab": {
          "base_uri": "https://localhost:8080/",
          "height": 256
        },
        "id": "Gr3laLBkxocr",
        "outputId": "c72dc84d-e10f-48de-f03d-49d1fae9ed52"
      },
      "execution_count": 10,
      "outputs": [
        {
          "output_type": "execute_result",
          "data": {
            "text/plain": [
              "     count_valid_tweets  reply_count  retweet_count  like_count  quote_count  \\\n",
              "381               12441         6738          15803      116058         2528   \n",
              "382               23195         4467          17402       27019            4   \n",
              "383                  18            2              2           1            0   \n",
              "384                   7            0              0           6            0   \n",
              "385                   6            0              0           2            0   \n",
              "\n",
              "        anger  anticipation   disgust      fear       joy  ...  \\\n",
              "381  0.110069      0.171559  0.088389  0.095887  0.359749  ...   \n",
              "382  0.042608      0.272256  0.041041  0.022116  0.476920  ...   \n",
              "383  0.017707      0.209200  0.030825  0.017051  0.543696  ...   \n",
              "384  0.037765      0.198211  0.047191  0.032719  0.494483  ...   \n",
              "385  0.052179      0.189661  0.045509  0.168379  0.472248  ...   \n",
              "\n",
              "     BUDGET_DEFLACIONADO  DOMESTIC_OPENING_DEFLACIONADO  \\\n",
              "381           20000000.0                     71117625.0   \n",
              "382                  0.0                      4232490.0   \n",
              "383           38377683.0                     22318231.0   \n",
              "384          208335993.0                     72820923.0   \n",
              "385                  0.0                            0.0   \n",
              "\n",
              "     DOMESTIC_GROSS_DEFLACIONADO  INTERNATIONAL_GROSS_DEFLACIONADO  \\\n",
              "381                  175005930.0                        80100000.0   \n",
              "382                    8409395.0                         8202204.0   \n",
              "383                   72786743.0                        55483164.0   \n",
              "384                  221888481.0                       370232978.0   \n",
              "385                          0.0                            5439.0   \n",
              "\n",
              "     WORLDWIDE_GROSS_DEFLACIONADO  HAVE_SEQUEL  SEQUEL_SPINOFF  RUNTIME  \\\n",
              "381                   255105930.0        False           False      116   \n",
              "382                    16611599.0        False           False      104   \n",
              "383                   128269907.0        False           False       98   \n",
              "384                   592121460.0        False           False      116   \n",
              "385                        5439.0        False           False       82   \n",
              "\n",
              "     REL_YEAR  REL_MONTH  \n",
              "381      2019          3  \n",
              "382      2014          2  \n",
              "383      2013          1  \n",
              "384      2013          6  \n",
              "385      2014          5  \n",
              "\n",
              "[5 rows x 51 columns]"
            ],
            "text/html": [
              "\n",
              "  <div id=\"df-ece4e526-c3fe-441f-b75a-0267e25adc2c\" class=\"colab-df-container\">\n",
              "    <div>\n",
              "<style scoped>\n",
              "    .dataframe tbody tr th:only-of-type {\n",
              "        vertical-align: middle;\n",
              "    }\n",
              "\n",
              "    .dataframe tbody tr th {\n",
              "        vertical-align: top;\n",
              "    }\n",
              "\n",
              "    .dataframe thead th {\n",
              "        text-align: right;\n",
              "    }\n",
              "</style>\n",
              "<table border=\"1\" class=\"dataframe\">\n",
              "  <thead>\n",
              "    <tr style=\"text-align: right;\">\n",
              "      <th></th>\n",
              "      <th>count_valid_tweets</th>\n",
              "      <th>reply_count</th>\n",
              "      <th>retweet_count</th>\n",
              "      <th>like_count</th>\n",
              "      <th>quote_count</th>\n",
              "      <th>anger</th>\n",
              "      <th>anticipation</th>\n",
              "      <th>disgust</th>\n",
              "      <th>fear</th>\n",
              "      <th>joy</th>\n",
              "      <th>...</th>\n",
              "      <th>BUDGET_DEFLACIONADO</th>\n",
              "      <th>DOMESTIC_OPENING_DEFLACIONADO</th>\n",
              "      <th>DOMESTIC_GROSS_DEFLACIONADO</th>\n",
              "      <th>INTERNATIONAL_GROSS_DEFLACIONADO</th>\n",
              "      <th>WORLDWIDE_GROSS_DEFLACIONADO</th>\n",
              "      <th>HAVE_SEQUEL</th>\n",
              "      <th>SEQUEL_SPINOFF</th>\n",
              "      <th>RUNTIME</th>\n",
              "      <th>REL_YEAR</th>\n",
              "      <th>REL_MONTH</th>\n",
              "    </tr>\n",
              "  </thead>\n",
              "  <tbody>\n",
              "    <tr>\n",
              "      <th>381</th>\n",
              "      <td>12441</td>\n",
              "      <td>6738</td>\n",
              "      <td>15803</td>\n",
              "      <td>116058</td>\n",
              "      <td>2528</td>\n",
              "      <td>0.110069</td>\n",
              "      <td>0.171559</td>\n",
              "      <td>0.088389</td>\n",
              "      <td>0.095887</td>\n",
              "      <td>0.359749</td>\n",
              "      <td>...</td>\n",
              "      <td>20000000.0</td>\n",
              "      <td>71117625.0</td>\n",
              "      <td>175005930.0</td>\n",
              "      <td>80100000.0</td>\n",
              "      <td>255105930.0</td>\n",
              "      <td>False</td>\n",
              "      <td>False</td>\n",
              "      <td>116</td>\n",
              "      <td>2019</td>\n",
              "      <td>3</td>\n",
              "    </tr>\n",
              "    <tr>\n",
              "      <th>382</th>\n",
              "      <td>23195</td>\n",
              "      <td>4467</td>\n",
              "      <td>17402</td>\n",
              "      <td>27019</td>\n",
              "      <td>4</td>\n",
              "      <td>0.042608</td>\n",
              "      <td>0.272256</td>\n",
              "      <td>0.041041</td>\n",
              "      <td>0.022116</td>\n",
              "      <td>0.476920</td>\n",
              "      <td>...</td>\n",
              "      <td>0.0</td>\n",
              "      <td>4232490.0</td>\n",
              "      <td>8409395.0</td>\n",
              "      <td>8202204.0</td>\n",
              "      <td>16611599.0</td>\n",
              "      <td>False</td>\n",
              "      <td>False</td>\n",
              "      <td>104</td>\n",
              "      <td>2014</td>\n",
              "      <td>2</td>\n",
              "    </tr>\n",
              "    <tr>\n",
              "      <th>383</th>\n",
              "      <td>18</td>\n",
              "      <td>2</td>\n",
              "      <td>2</td>\n",
              "      <td>1</td>\n",
              "      <td>0</td>\n",
              "      <td>0.017707</td>\n",
              "      <td>0.209200</td>\n",
              "      <td>0.030825</td>\n",
              "      <td>0.017051</td>\n",
              "      <td>0.543696</td>\n",
              "      <td>...</td>\n",
              "      <td>38377683.0</td>\n",
              "      <td>22318231.0</td>\n",
              "      <td>72786743.0</td>\n",
              "      <td>55483164.0</td>\n",
              "      <td>128269907.0</td>\n",
              "      <td>False</td>\n",
              "      <td>False</td>\n",
              "      <td>98</td>\n",
              "      <td>2013</td>\n",
              "      <td>1</td>\n",
              "    </tr>\n",
              "    <tr>\n",
              "      <th>384</th>\n",
              "      <td>7</td>\n",
              "      <td>0</td>\n",
              "      <td>0</td>\n",
              "      <td>6</td>\n",
              "      <td>0</td>\n",
              "      <td>0.037765</td>\n",
              "      <td>0.198211</td>\n",
              "      <td>0.047191</td>\n",
              "      <td>0.032719</td>\n",
              "      <td>0.494483</td>\n",
              "      <td>...</td>\n",
              "      <td>208335993.0</td>\n",
              "      <td>72820923.0</td>\n",
              "      <td>221888481.0</td>\n",
              "      <td>370232978.0</td>\n",
              "      <td>592121460.0</td>\n",
              "      <td>False</td>\n",
              "      <td>False</td>\n",
              "      <td>116</td>\n",
              "      <td>2013</td>\n",
              "      <td>6</td>\n",
              "    </tr>\n",
              "    <tr>\n",
              "      <th>385</th>\n",
              "      <td>6</td>\n",
              "      <td>0</td>\n",
              "      <td>0</td>\n",
              "      <td>2</td>\n",
              "      <td>0</td>\n",
              "      <td>0.052179</td>\n",
              "      <td>0.189661</td>\n",
              "      <td>0.045509</td>\n",
              "      <td>0.168379</td>\n",
              "      <td>0.472248</td>\n",
              "      <td>...</td>\n",
              "      <td>0.0</td>\n",
              "      <td>0.0</td>\n",
              "      <td>0.0</td>\n",
              "      <td>5439.0</td>\n",
              "      <td>5439.0</td>\n",
              "      <td>False</td>\n",
              "      <td>False</td>\n",
              "      <td>82</td>\n",
              "      <td>2014</td>\n",
              "      <td>5</td>\n",
              "    </tr>\n",
              "  </tbody>\n",
              "</table>\n",
              "<p>5 rows × 51 columns</p>\n",
              "</div>\n",
              "    <div class=\"colab-df-buttons\">\n",
              "\n",
              "  <div class=\"colab-df-container\">\n",
              "    <button class=\"colab-df-convert\" onclick=\"convertToInteractive('df-ece4e526-c3fe-441f-b75a-0267e25adc2c')\"\n",
              "            title=\"Convert this dataframe to an interactive table.\"\n",
              "            style=\"display:none;\">\n",
              "\n",
              "  <svg xmlns=\"http://www.w3.org/2000/svg\" height=\"24px\" viewBox=\"0 -960 960 960\">\n",
              "    <path d=\"M120-120v-720h720v720H120Zm60-500h600v-160H180v160Zm220 220h160v-160H400v160Zm0 220h160v-160H400v160ZM180-400h160v-160H180v160Zm440 0h160v-160H620v160ZM180-180h160v-160H180v160Zm440 0h160v-160H620v160Z\"/>\n",
              "  </svg>\n",
              "    </button>\n",
              "\n",
              "  <style>\n",
              "    .colab-df-container {\n",
              "      display:flex;\n",
              "      gap: 12px;\n",
              "    }\n",
              "\n",
              "    .colab-df-convert {\n",
              "      background-color: #E8F0FE;\n",
              "      border: none;\n",
              "      border-radius: 50%;\n",
              "      cursor: pointer;\n",
              "      display: none;\n",
              "      fill: #1967D2;\n",
              "      height: 32px;\n",
              "      padding: 0 0 0 0;\n",
              "      width: 32px;\n",
              "    }\n",
              "\n",
              "    .colab-df-convert:hover {\n",
              "      background-color: #E2EBFA;\n",
              "      box-shadow: 0px 1px 2px rgba(60, 64, 67, 0.3), 0px 1px 3px 1px rgba(60, 64, 67, 0.15);\n",
              "      fill: #174EA6;\n",
              "    }\n",
              "\n",
              "    .colab-df-buttons div {\n",
              "      margin-bottom: 4px;\n",
              "    }\n",
              "\n",
              "    [theme=dark] .colab-df-convert {\n",
              "      background-color: #3B4455;\n",
              "      fill: #D2E3FC;\n",
              "    }\n",
              "\n",
              "    [theme=dark] .colab-df-convert:hover {\n",
              "      background-color: #434B5C;\n",
              "      box-shadow: 0px 1px 3px 1px rgba(0, 0, 0, 0.15);\n",
              "      filter: drop-shadow(0px 1px 2px rgba(0, 0, 0, 0.3));\n",
              "      fill: #FFFFFF;\n",
              "    }\n",
              "  </style>\n",
              "\n",
              "    <script>\n",
              "      const buttonEl =\n",
              "        document.querySelector('#df-ece4e526-c3fe-441f-b75a-0267e25adc2c button.colab-df-convert');\n",
              "      buttonEl.style.display =\n",
              "        google.colab.kernel.accessAllowed ? 'block' : 'none';\n",
              "\n",
              "      async function convertToInteractive(key) {\n",
              "        const element = document.querySelector('#df-ece4e526-c3fe-441f-b75a-0267e25adc2c');\n",
              "        const dataTable =\n",
              "          await google.colab.kernel.invokeFunction('convertToInteractive',\n",
              "                                                    [key], {});\n",
              "        if (!dataTable) return;\n",
              "\n",
              "        const docLinkHtml = 'Like what you see? Visit the ' +\n",
              "          '<a target=\"_blank\" href=https://colab.research.google.com/notebooks/data_table.ipynb>data table notebook</a>'\n",
              "          + ' to learn more about interactive tables.';\n",
              "        element.innerHTML = '';\n",
              "        dataTable['output_type'] = 'display_data';\n",
              "        await google.colab.output.renderOutput(dataTable, element);\n",
              "        const docLink = document.createElement('div');\n",
              "        docLink.innerHTML = docLinkHtml;\n",
              "        element.appendChild(docLink);\n",
              "      }\n",
              "    </script>\n",
              "  </div>\n",
              "\n",
              "\n",
              "<div id=\"df-32845775-cd6a-4f3b-9b3e-4bcd9ef15ffe\">\n",
              "  <button class=\"colab-df-quickchart\" onclick=\"quickchart('df-32845775-cd6a-4f3b-9b3e-4bcd9ef15ffe')\"\n",
              "            title=\"Suggest charts\"\n",
              "            style=\"display:none;\">\n",
              "\n",
              "<svg xmlns=\"http://www.w3.org/2000/svg\" height=\"24px\"viewBox=\"0 0 24 24\"\n",
              "     width=\"24px\">\n",
              "    <g>\n",
              "        <path d=\"M19 3H5c-1.1 0-2 .9-2 2v14c0 1.1.9 2 2 2h14c1.1 0 2-.9 2-2V5c0-1.1-.9-2-2-2zM9 17H7v-7h2v7zm4 0h-2V7h2v10zm4 0h-2v-4h2v4z\"/>\n",
              "    </g>\n",
              "</svg>\n",
              "  </button>\n",
              "\n",
              "<style>\n",
              "  .colab-df-quickchart {\n",
              "      --bg-color: #E8F0FE;\n",
              "      --fill-color: #1967D2;\n",
              "      --hover-bg-color: #E2EBFA;\n",
              "      --hover-fill-color: #174EA6;\n",
              "      --disabled-fill-color: #AAA;\n",
              "      --disabled-bg-color: #DDD;\n",
              "  }\n",
              "\n",
              "  [theme=dark] .colab-df-quickchart {\n",
              "      --bg-color: #3B4455;\n",
              "      --fill-color: #D2E3FC;\n",
              "      --hover-bg-color: #434B5C;\n",
              "      --hover-fill-color: #FFFFFF;\n",
              "      --disabled-bg-color: #3B4455;\n",
              "      --disabled-fill-color: #666;\n",
              "  }\n",
              "\n",
              "  .colab-df-quickchart {\n",
              "    background-color: var(--bg-color);\n",
              "    border: none;\n",
              "    border-radius: 50%;\n",
              "    cursor: pointer;\n",
              "    display: none;\n",
              "    fill: var(--fill-color);\n",
              "    height: 32px;\n",
              "    padding: 0;\n",
              "    width: 32px;\n",
              "  }\n",
              "\n",
              "  .colab-df-quickchart:hover {\n",
              "    background-color: var(--hover-bg-color);\n",
              "    box-shadow: 0 1px 2px rgba(60, 64, 67, 0.3), 0 1px 3px 1px rgba(60, 64, 67, 0.15);\n",
              "    fill: var(--button-hover-fill-color);\n",
              "  }\n",
              "\n",
              "  .colab-df-quickchart-complete:disabled,\n",
              "  .colab-df-quickchart-complete:disabled:hover {\n",
              "    background-color: var(--disabled-bg-color);\n",
              "    fill: var(--disabled-fill-color);\n",
              "    box-shadow: none;\n",
              "  }\n",
              "\n",
              "  .colab-df-spinner {\n",
              "    border: 2px solid var(--fill-color);\n",
              "    border-color: transparent;\n",
              "    border-bottom-color: var(--fill-color);\n",
              "    animation:\n",
              "      spin 1s steps(1) infinite;\n",
              "  }\n",
              "\n",
              "  @keyframes spin {\n",
              "    0% {\n",
              "      border-color: transparent;\n",
              "      border-bottom-color: var(--fill-color);\n",
              "      border-left-color: var(--fill-color);\n",
              "    }\n",
              "    20% {\n",
              "      border-color: transparent;\n",
              "      border-left-color: var(--fill-color);\n",
              "      border-top-color: var(--fill-color);\n",
              "    }\n",
              "    30% {\n",
              "      border-color: transparent;\n",
              "      border-left-color: var(--fill-color);\n",
              "      border-top-color: var(--fill-color);\n",
              "      border-right-color: var(--fill-color);\n",
              "    }\n",
              "    40% {\n",
              "      border-color: transparent;\n",
              "      border-right-color: var(--fill-color);\n",
              "      border-top-color: var(--fill-color);\n",
              "    }\n",
              "    60% {\n",
              "      border-color: transparent;\n",
              "      border-right-color: var(--fill-color);\n",
              "    }\n",
              "    80% {\n",
              "      border-color: transparent;\n",
              "      border-right-color: var(--fill-color);\n",
              "      border-bottom-color: var(--fill-color);\n",
              "    }\n",
              "    90% {\n",
              "      border-color: transparent;\n",
              "      border-bottom-color: var(--fill-color);\n",
              "    }\n",
              "  }\n",
              "</style>\n",
              "\n",
              "  <script>\n",
              "    async function quickchart(key) {\n",
              "      const quickchartButtonEl =\n",
              "        document.querySelector('#' + key + ' button');\n",
              "      quickchartButtonEl.disabled = true;  // To prevent multiple clicks.\n",
              "      quickchartButtonEl.classList.add('colab-df-spinner');\n",
              "      try {\n",
              "        const charts = await google.colab.kernel.invokeFunction(\n",
              "            'suggestCharts', [key], {});\n",
              "      } catch (error) {\n",
              "        console.error('Error during call to suggestCharts:', error);\n",
              "      }\n",
              "      quickchartButtonEl.classList.remove('colab-df-spinner');\n",
              "      quickchartButtonEl.classList.add('colab-df-quickchart-complete');\n",
              "    }\n",
              "    (() => {\n",
              "      let quickchartButtonEl =\n",
              "        document.querySelector('#df-32845775-cd6a-4f3b-9b3e-4bcd9ef15ffe button');\n",
              "      quickchartButtonEl.style.display =\n",
              "        google.colab.kernel.accessAllowed ? 'block' : 'none';\n",
              "    })();\n",
              "  </script>\n",
              "</div>\n",
              "\n",
              "    </div>\n",
              "  </div>\n"
            ],
            "application/vnd.google.colaboratory.intrinsic+json": {
              "type": "dataframe"
            }
          },
          "metadata": {},
          "execution_count": 10
        }
      ]
    },
    {
      "cell_type": "code",
      "source": [
        "base_filmes_rf.info()"
      ],
      "metadata": {
        "colab": {
          "base_uri": "https://localhost:8080/"
        },
        "id": "nMIo7HObxp9X",
        "outputId": "fd499bbe-bb70-4a0a-b16e-bbf84429ffb3"
      },
      "execution_count": 11,
      "outputs": [
        {
          "output_type": "stream",
          "name": "stdout",
          "text": [
            "<class 'pandas.core.frame.DataFrame'>\n",
            "RangeIndex: 386 entries, 0 to 385\n",
            "Data columns (total 51 columns):\n",
            " #   Column                            Non-Null Count  Dtype  \n",
            "---  ------                            --------------  -----  \n",
            " 0   count_valid_tweets                386 non-null    int64  \n",
            " 1   reply_count                       386 non-null    int64  \n",
            " 2   retweet_count                     386 non-null    int64  \n",
            " 3   like_count                        386 non-null    int64  \n",
            " 4   quote_count                       386 non-null    int64  \n",
            " 5   anger                             386 non-null    float64\n",
            " 6   anticipation                      386 non-null    float64\n",
            " 7   disgust                           386 non-null    float64\n",
            " 8   fear                              386 non-null    float64\n",
            " 9   joy                               386 non-null    float64\n",
            " 10  love                              386 non-null    float64\n",
            " 11  optimism                          386 non-null    float64\n",
            " 12  pessimism                         386 non-null    float64\n",
            " 13  sadness                           386 non-null    float64\n",
            " 14  surprise                          386 non-null    float64\n",
            " 15  trust                             386 non-null    float64\n",
            " 16  negative                          386 non-null    float64\n",
            " 17  neutral                           386 non-null    float64\n",
            " 18  positive                          386 non-null    float64\n",
            " 19  DISTRIBUTOR_GROUPED               386 non-null    bool   \n",
            " 20  Drama                             386 non-null    bool   \n",
            " 21  Action                            386 non-null    bool   \n",
            " 22  Comedy                            386 non-null    bool   \n",
            " 23  Horror                            386 non-null    bool   \n",
            " 24  Adventure                         386 non-null    bool   \n",
            " 25  Crime                             386 non-null    bool   \n",
            " 26  Fantasy                           386 non-null    bool   \n",
            " 27  Biography                         386 non-null    bool   \n",
            " 28  Documentary                       386 non-null    bool   \n",
            " 29  Animation                         386 non-null    bool   \n",
            " 30  Thriller                          386 non-null    bool   \n",
            " 31  Mystery                           386 non-null    bool   \n",
            " 32  History                           386 non-null    bool   \n",
            " 33  Sci-Fi                            386 non-null    bool   \n",
            " 34  Romance                           386 non-null    bool   \n",
            " 35  Music                             386 non-null    bool   \n",
            " 36  Family                            386 non-null    bool   \n",
            " 37  Western                           386 non-null    bool   \n",
            " 38  Musical                           386 non-null    bool   \n",
            " 39  War                               386 non-null    bool   \n",
            " 40  MPAA_BIN                          386 non-null    bool   \n",
            " 41  BUDGET_DEFLACIONADO               386 non-null    float64\n",
            " 42  DOMESTIC_OPENING_DEFLACIONADO     386 non-null    float64\n",
            " 43  DOMESTIC_GROSS_DEFLACIONADO       386 non-null    float64\n",
            " 44  INTERNATIONAL_GROSS_DEFLACIONADO  386 non-null    float64\n",
            " 45  WORLDWIDE_GROSS_DEFLACIONADO      386 non-null    float64\n",
            " 46  HAVE_SEQUEL                       386 non-null    bool   \n",
            " 47  SEQUEL_SPINOFF                    386 non-null    bool   \n",
            " 48  RUNTIME                           386 non-null    int64  \n",
            " 49  REL_YEAR                          386 non-null    int64  \n",
            " 50  REL_MONTH                         386 non-null    int64  \n",
            "dtypes: bool(24), float64(19), int64(8)\n",
            "memory usage: 90.6 KB\n"
          ]
        }
      ]
    },
    {
      "cell_type": "code",
      "source": [
        "base_filmes_rf.describe()"
      ],
      "metadata": {
        "colab": {
          "base_uri": "https://localhost:8080/",
          "height": 350
        },
        "id": "lPk4sDObxres",
        "outputId": "337f319b-05e7-48c0-e35b-bc7c9b8b78a2"
      },
      "execution_count": 12,
      "outputs": [
        {
          "output_type": "execute_result",
          "data": {
            "text/plain": [
              "       count_valid_tweets    reply_count  retweet_count    like_count  \\\n",
              "count          386.000000     386.000000     386.000000  3.860000e+02   \n",
              "mean         11758.888601    3453.800518   10816.608808  3.093259e+04   \n",
              "std          48957.030015   14578.212438   45778.359952  1.320501e+05   \n",
              "min              1.000000       0.000000       0.000000  0.000000e+00   \n",
              "25%            120.500000      18.250000      62.750000  1.357500e+02   \n",
              "50%            873.500000     140.500000     516.500000  1.144500e+03   \n",
              "75%           4843.000000    1361.000000    3015.500000  8.034000e+03   \n",
              "max         666937.000000  201893.000000  610350.000000  1.585020e+06   \n",
              "\n",
              "        quote_count       anger  anticipation     disgust        fear  \\\n",
              "count    386.000000  386.000000    386.000000  386.000000  386.000000   \n",
              "mean     806.321244    0.060526      0.231551    0.054197    0.128256   \n",
              "std     4908.515752    0.056927      0.100041    0.044355    0.123551   \n",
              "min        0.000000    0.000348      0.022603    0.000537    0.000412   \n",
              "25%        0.000000    0.023804      0.162112    0.027624    0.045371   \n",
              "50%        6.000000    0.044972      0.231017    0.045453    0.092554   \n",
              "75%       87.750000    0.078271      0.285876    0.070328    0.168617   \n",
              "max    82158.000000    0.391661      0.710871    0.411003    0.669333   \n",
              "\n",
              "              joy  ...     neutral    positive  BUDGET_DEFLACIONADO  \\\n",
              "count  386.000000  ...  386.000000  386.000000         3.860000e+02   \n",
              "mean     0.370371  ...    0.516042    0.323754         7.000014e+06   \n",
              "std      0.147532  ...    0.146955    0.134024         2.077017e+07   \n",
              "min      0.012032  ...    0.027100    0.013580         0.000000e+00   \n",
              "25%      0.268038  ...    0.411381    0.235906         0.000000e+00   \n",
              "50%      0.353105  ...    0.509872    0.310004         0.000000e+00   \n",
              "75%      0.459506  ...    0.623758    0.396693         3.769076e+06   \n",
              "max      0.915706  ...    0.902600    0.969016         2.083360e+08   \n",
              "\n",
              "       DOMESTIC_OPENING_DEFLACIONADO  DOMESTIC_GROSS_DEFLACIONADO  \\\n",
              "count                   3.860000e+02                 3.860000e+02   \n",
              "mean                    6.694070e+06                 1.904722e+07   \n",
              "std                     1.409556e+07                 4.155627e+07   \n",
              "min                     0.000000e+00                 0.000000e+00   \n",
              "25%                     2.211250e+03                 1.036925e+04   \n",
              "50%                     2.391750e+04                 1.971095e+05   \n",
              "75%                     8.462451e+06                 2.037269e+07   \n",
              "max                     1.286397e+08                 3.427817e+08   \n",
              "\n",
              "       INTERNATIONAL_GROSS_DEFLACIONADO  WORLDWIDE_GROSS_DEFLACIONADO  \\\n",
              "count                      3.860000e+02                  3.860000e+02   \n",
              "mean                       2.335277e+07                  4.240000e+07   \n",
              "std                        5.773811e+07                  9.269930e+07   \n",
              "min                        0.000000e+00                  4.380000e+02   \n",
              "25%                        0.000000e+00                  7.190075e+04   \n",
              "50%                        5.917740e+05                  1.466974e+06   \n",
              "75%                        1.625819e+07                  4.237866e+07   \n",
              "max                        3.917264e+08                  7.315751e+08   \n",
              "\n",
              "          RUNTIME     REL_YEAR   REL_MONTH  \n",
              "count  386.000000   386.000000  386.000000  \n",
              "mean    99.098446  2014.909326    6.450777  \n",
              "std     17.258633     4.961626    3.259976  \n",
              "min     24.000000  1982.000000    1.000000  \n",
              "25%     89.000000  2014.000000    4.000000  \n",
              "50%     95.000000  2016.000000    7.000000  \n",
              "75%    105.000000  2018.000000    9.000000  \n",
              "max    192.000000  2019.000000   12.000000  \n",
              "\n",
              "[8 rows x 27 columns]"
            ],
            "text/html": [
              "\n",
              "  <div id=\"df-34632adb-2e54-4014-9f50-be26e34e9c0d\" class=\"colab-df-container\">\n",
              "    <div>\n",
              "<style scoped>\n",
              "    .dataframe tbody tr th:only-of-type {\n",
              "        vertical-align: middle;\n",
              "    }\n",
              "\n",
              "    .dataframe tbody tr th {\n",
              "        vertical-align: top;\n",
              "    }\n",
              "\n",
              "    .dataframe thead th {\n",
              "        text-align: right;\n",
              "    }\n",
              "</style>\n",
              "<table border=\"1\" class=\"dataframe\">\n",
              "  <thead>\n",
              "    <tr style=\"text-align: right;\">\n",
              "      <th></th>\n",
              "      <th>count_valid_tweets</th>\n",
              "      <th>reply_count</th>\n",
              "      <th>retweet_count</th>\n",
              "      <th>like_count</th>\n",
              "      <th>quote_count</th>\n",
              "      <th>anger</th>\n",
              "      <th>anticipation</th>\n",
              "      <th>disgust</th>\n",
              "      <th>fear</th>\n",
              "      <th>joy</th>\n",
              "      <th>...</th>\n",
              "      <th>neutral</th>\n",
              "      <th>positive</th>\n",
              "      <th>BUDGET_DEFLACIONADO</th>\n",
              "      <th>DOMESTIC_OPENING_DEFLACIONADO</th>\n",
              "      <th>DOMESTIC_GROSS_DEFLACIONADO</th>\n",
              "      <th>INTERNATIONAL_GROSS_DEFLACIONADO</th>\n",
              "      <th>WORLDWIDE_GROSS_DEFLACIONADO</th>\n",
              "      <th>RUNTIME</th>\n",
              "      <th>REL_YEAR</th>\n",
              "      <th>REL_MONTH</th>\n",
              "    </tr>\n",
              "  </thead>\n",
              "  <tbody>\n",
              "    <tr>\n",
              "      <th>count</th>\n",
              "      <td>386.000000</td>\n",
              "      <td>386.000000</td>\n",
              "      <td>386.000000</td>\n",
              "      <td>3.860000e+02</td>\n",
              "      <td>386.000000</td>\n",
              "      <td>386.000000</td>\n",
              "      <td>386.000000</td>\n",
              "      <td>386.000000</td>\n",
              "      <td>386.000000</td>\n",
              "      <td>386.000000</td>\n",
              "      <td>...</td>\n",
              "      <td>386.000000</td>\n",
              "      <td>386.000000</td>\n",
              "      <td>3.860000e+02</td>\n",
              "      <td>3.860000e+02</td>\n",
              "      <td>3.860000e+02</td>\n",
              "      <td>3.860000e+02</td>\n",
              "      <td>3.860000e+02</td>\n",
              "      <td>386.000000</td>\n",
              "      <td>386.000000</td>\n",
              "      <td>386.000000</td>\n",
              "    </tr>\n",
              "    <tr>\n",
              "      <th>mean</th>\n",
              "      <td>11758.888601</td>\n",
              "      <td>3453.800518</td>\n",
              "      <td>10816.608808</td>\n",
              "      <td>3.093259e+04</td>\n",
              "      <td>806.321244</td>\n",
              "      <td>0.060526</td>\n",
              "      <td>0.231551</td>\n",
              "      <td>0.054197</td>\n",
              "      <td>0.128256</td>\n",
              "      <td>0.370371</td>\n",
              "      <td>...</td>\n",
              "      <td>0.516042</td>\n",
              "      <td>0.323754</td>\n",
              "      <td>7.000014e+06</td>\n",
              "      <td>6.694070e+06</td>\n",
              "      <td>1.904722e+07</td>\n",
              "      <td>2.335277e+07</td>\n",
              "      <td>4.240000e+07</td>\n",
              "      <td>99.098446</td>\n",
              "      <td>2014.909326</td>\n",
              "      <td>6.450777</td>\n",
              "    </tr>\n",
              "    <tr>\n",
              "      <th>std</th>\n",
              "      <td>48957.030015</td>\n",
              "      <td>14578.212438</td>\n",
              "      <td>45778.359952</td>\n",
              "      <td>1.320501e+05</td>\n",
              "      <td>4908.515752</td>\n",
              "      <td>0.056927</td>\n",
              "      <td>0.100041</td>\n",
              "      <td>0.044355</td>\n",
              "      <td>0.123551</td>\n",
              "      <td>0.147532</td>\n",
              "      <td>...</td>\n",
              "      <td>0.146955</td>\n",
              "      <td>0.134024</td>\n",
              "      <td>2.077017e+07</td>\n",
              "      <td>1.409556e+07</td>\n",
              "      <td>4.155627e+07</td>\n",
              "      <td>5.773811e+07</td>\n",
              "      <td>9.269930e+07</td>\n",
              "      <td>17.258633</td>\n",
              "      <td>4.961626</td>\n",
              "      <td>3.259976</td>\n",
              "    </tr>\n",
              "    <tr>\n",
              "      <th>min</th>\n",
              "      <td>1.000000</td>\n",
              "      <td>0.000000</td>\n",
              "      <td>0.000000</td>\n",
              "      <td>0.000000e+00</td>\n",
              "      <td>0.000000</td>\n",
              "      <td>0.000348</td>\n",
              "      <td>0.022603</td>\n",
              "      <td>0.000537</td>\n",
              "      <td>0.000412</td>\n",
              "      <td>0.012032</td>\n",
              "      <td>...</td>\n",
              "      <td>0.027100</td>\n",
              "      <td>0.013580</td>\n",
              "      <td>0.000000e+00</td>\n",
              "      <td>0.000000e+00</td>\n",
              "      <td>0.000000e+00</td>\n",
              "      <td>0.000000e+00</td>\n",
              "      <td>4.380000e+02</td>\n",
              "      <td>24.000000</td>\n",
              "      <td>1982.000000</td>\n",
              "      <td>1.000000</td>\n",
              "    </tr>\n",
              "    <tr>\n",
              "      <th>25%</th>\n",
              "      <td>120.500000</td>\n",
              "      <td>18.250000</td>\n",
              "      <td>62.750000</td>\n",
              "      <td>1.357500e+02</td>\n",
              "      <td>0.000000</td>\n",
              "      <td>0.023804</td>\n",
              "      <td>0.162112</td>\n",
              "      <td>0.027624</td>\n",
              "      <td>0.045371</td>\n",
              "      <td>0.268038</td>\n",
              "      <td>...</td>\n",
              "      <td>0.411381</td>\n",
              "      <td>0.235906</td>\n",
              "      <td>0.000000e+00</td>\n",
              "      <td>2.211250e+03</td>\n",
              "      <td>1.036925e+04</td>\n",
              "      <td>0.000000e+00</td>\n",
              "      <td>7.190075e+04</td>\n",
              "      <td>89.000000</td>\n",
              "      <td>2014.000000</td>\n",
              "      <td>4.000000</td>\n",
              "    </tr>\n",
              "    <tr>\n",
              "      <th>50%</th>\n",
              "      <td>873.500000</td>\n",
              "      <td>140.500000</td>\n",
              "      <td>516.500000</td>\n",
              "      <td>1.144500e+03</td>\n",
              "      <td>6.000000</td>\n",
              "      <td>0.044972</td>\n",
              "      <td>0.231017</td>\n",
              "      <td>0.045453</td>\n",
              "      <td>0.092554</td>\n",
              "      <td>0.353105</td>\n",
              "      <td>...</td>\n",
              "      <td>0.509872</td>\n",
              "      <td>0.310004</td>\n",
              "      <td>0.000000e+00</td>\n",
              "      <td>2.391750e+04</td>\n",
              "      <td>1.971095e+05</td>\n",
              "      <td>5.917740e+05</td>\n",
              "      <td>1.466974e+06</td>\n",
              "      <td>95.000000</td>\n",
              "      <td>2016.000000</td>\n",
              "      <td>7.000000</td>\n",
              "    </tr>\n",
              "    <tr>\n",
              "      <th>75%</th>\n",
              "      <td>4843.000000</td>\n",
              "      <td>1361.000000</td>\n",
              "      <td>3015.500000</td>\n",
              "      <td>8.034000e+03</td>\n",
              "      <td>87.750000</td>\n",
              "      <td>0.078271</td>\n",
              "      <td>0.285876</td>\n",
              "      <td>0.070328</td>\n",
              "      <td>0.168617</td>\n",
              "      <td>0.459506</td>\n",
              "      <td>...</td>\n",
              "      <td>0.623758</td>\n",
              "      <td>0.396693</td>\n",
              "      <td>3.769076e+06</td>\n",
              "      <td>8.462451e+06</td>\n",
              "      <td>2.037269e+07</td>\n",
              "      <td>1.625819e+07</td>\n",
              "      <td>4.237866e+07</td>\n",
              "      <td>105.000000</td>\n",
              "      <td>2018.000000</td>\n",
              "      <td>9.000000</td>\n",
              "    </tr>\n",
              "    <tr>\n",
              "      <th>max</th>\n",
              "      <td>666937.000000</td>\n",
              "      <td>201893.000000</td>\n",
              "      <td>610350.000000</td>\n",
              "      <td>1.585020e+06</td>\n",
              "      <td>82158.000000</td>\n",
              "      <td>0.391661</td>\n",
              "      <td>0.710871</td>\n",
              "      <td>0.411003</td>\n",
              "      <td>0.669333</td>\n",
              "      <td>0.915706</td>\n",
              "      <td>...</td>\n",
              "      <td>0.902600</td>\n",
              "      <td>0.969016</td>\n",
              "      <td>2.083360e+08</td>\n",
              "      <td>1.286397e+08</td>\n",
              "      <td>3.427817e+08</td>\n",
              "      <td>3.917264e+08</td>\n",
              "      <td>7.315751e+08</td>\n",
              "      <td>192.000000</td>\n",
              "      <td>2019.000000</td>\n",
              "      <td>12.000000</td>\n",
              "    </tr>\n",
              "  </tbody>\n",
              "</table>\n",
              "<p>8 rows × 27 columns</p>\n",
              "</div>\n",
              "    <div class=\"colab-df-buttons\">\n",
              "\n",
              "  <div class=\"colab-df-container\">\n",
              "    <button class=\"colab-df-convert\" onclick=\"convertToInteractive('df-34632adb-2e54-4014-9f50-be26e34e9c0d')\"\n",
              "            title=\"Convert this dataframe to an interactive table.\"\n",
              "            style=\"display:none;\">\n",
              "\n",
              "  <svg xmlns=\"http://www.w3.org/2000/svg\" height=\"24px\" viewBox=\"0 -960 960 960\">\n",
              "    <path d=\"M120-120v-720h720v720H120Zm60-500h600v-160H180v160Zm220 220h160v-160H400v160Zm0 220h160v-160H400v160ZM180-400h160v-160H180v160Zm440 0h160v-160H620v160ZM180-180h160v-160H180v160Zm440 0h160v-160H620v160Z\"/>\n",
              "  </svg>\n",
              "    </button>\n",
              "\n",
              "  <style>\n",
              "    .colab-df-container {\n",
              "      display:flex;\n",
              "      gap: 12px;\n",
              "    }\n",
              "\n",
              "    .colab-df-convert {\n",
              "      background-color: #E8F0FE;\n",
              "      border: none;\n",
              "      border-radius: 50%;\n",
              "      cursor: pointer;\n",
              "      display: none;\n",
              "      fill: #1967D2;\n",
              "      height: 32px;\n",
              "      padding: 0 0 0 0;\n",
              "      width: 32px;\n",
              "    }\n",
              "\n",
              "    .colab-df-convert:hover {\n",
              "      background-color: #E2EBFA;\n",
              "      box-shadow: 0px 1px 2px rgba(60, 64, 67, 0.3), 0px 1px 3px 1px rgba(60, 64, 67, 0.15);\n",
              "      fill: #174EA6;\n",
              "    }\n",
              "\n",
              "    .colab-df-buttons div {\n",
              "      margin-bottom: 4px;\n",
              "    }\n",
              "\n",
              "    [theme=dark] .colab-df-convert {\n",
              "      background-color: #3B4455;\n",
              "      fill: #D2E3FC;\n",
              "    }\n",
              "\n",
              "    [theme=dark] .colab-df-convert:hover {\n",
              "      background-color: #434B5C;\n",
              "      box-shadow: 0px 1px 3px 1px rgba(0, 0, 0, 0.15);\n",
              "      filter: drop-shadow(0px 1px 2px rgba(0, 0, 0, 0.3));\n",
              "      fill: #FFFFFF;\n",
              "    }\n",
              "  </style>\n",
              "\n",
              "    <script>\n",
              "      const buttonEl =\n",
              "        document.querySelector('#df-34632adb-2e54-4014-9f50-be26e34e9c0d button.colab-df-convert');\n",
              "      buttonEl.style.display =\n",
              "        google.colab.kernel.accessAllowed ? 'block' : 'none';\n",
              "\n",
              "      async function convertToInteractive(key) {\n",
              "        const element = document.querySelector('#df-34632adb-2e54-4014-9f50-be26e34e9c0d');\n",
              "        const dataTable =\n",
              "          await google.colab.kernel.invokeFunction('convertToInteractive',\n",
              "                                                    [key], {});\n",
              "        if (!dataTable) return;\n",
              "\n",
              "        const docLinkHtml = 'Like what you see? Visit the ' +\n",
              "          '<a target=\"_blank\" href=https://colab.research.google.com/notebooks/data_table.ipynb>data table notebook</a>'\n",
              "          + ' to learn more about interactive tables.';\n",
              "        element.innerHTML = '';\n",
              "        dataTable['output_type'] = 'display_data';\n",
              "        await google.colab.output.renderOutput(dataTable, element);\n",
              "        const docLink = document.createElement('div');\n",
              "        docLink.innerHTML = docLinkHtml;\n",
              "        element.appendChild(docLink);\n",
              "      }\n",
              "    </script>\n",
              "  </div>\n",
              "\n",
              "\n",
              "<div id=\"df-90ac5cb6-f403-45b8-b6a4-17bd227ee9d4\">\n",
              "  <button class=\"colab-df-quickchart\" onclick=\"quickchart('df-90ac5cb6-f403-45b8-b6a4-17bd227ee9d4')\"\n",
              "            title=\"Suggest charts\"\n",
              "            style=\"display:none;\">\n",
              "\n",
              "<svg xmlns=\"http://www.w3.org/2000/svg\" height=\"24px\"viewBox=\"0 0 24 24\"\n",
              "     width=\"24px\">\n",
              "    <g>\n",
              "        <path d=\"M19 3H5c-1.1 0-2 .9-2 2v14c0 1.1.9 2 2 2h14c1.1 0 2-.9 2-2V5c0-1.1-.9-2-2-2zM9 17H7v-7h2v7zm4 0h-2V7h2v10zm4 0h-2v-4h2v4z\"/>\n",
              "    </g>\n",
              "</svg>\n",
              "  </button>\n",
              "\n",
              "<style>\n",
              "  .colab-df-quickchart {\n",
              "      --bg-color: #E8F0FE;\n",
              "      --fill-color: #1967D2;\n",
              "      --hover-bg-color: #E2EBFA;\n",
              "      --hover-fill-color: #174EA6;\n",
              "      --disabled-fill-color: #AAA;\n",
              "      --disabled-bg-color: #DDD;\n",
              "  }\n",
              "\n",
              "  [theme=dark] .colab-df-quickchart {\n",
              "      --bg-color: #3B4455;\n",
              "      --fill-color: #D2E3FC;\n",
              "      --hover-bg-color: #434B5C;\n",
              "      --hover-fill-color: #FFFFFF;\n",
              "      --disabled-bg-color: #3B4455;\n",
              "      --disabled-fill-color: #666;\n",
              "  }\n",
              "\n",
              "  .colab-df-quickchart {\n",
              "    background-color: var(--bg-color);\n",
              "    border: none;\n",
              "    border-radius: 50%;\n",
              "    cursor: pointer;\n",
              "    display: none;\n",
              "    fill: var(--fill-color);\n",
              "    height: 32px;\n",
              "    padding: 0;\n",
              "    width: 32px;\n",
              "  }\n",
              "\n",
              "  .colab-df-quickchart:hover {\n",
              "    background-color: var(--hover-bg-color);\n",
              "    box-shadow: 0 1px 2px rgba(60, 64, 67, 0.3), 0 1px 3px 1px rgba(60, 64, 67, 0.15);\n",
              "    fill: var(--button-hover-fill-color);\n",
              "  }\n",
              "\n",
              "  .colab-df-quickchart-complete:disabled,\n",
              "  .colab-df-quickchart-complete:disabled:hover {\n",
              "    background-color: var(--disabled-bg-color);\n",
              "    fill: var(--disabled-fill-color);\n",
              "    box-shadow: none;\n",
              "  }\n",
              "\n",
              "  .colab-df-spinner {\n",
              "    border: 2px solid var(--fill-color);\n",
              "    border-color: transparent;\n",
              "    border-bottom-color: var(--fill-color);\n",
              "    animation:\n",
              "      spin 1s steps(1) infinite;\n",
              "  }\n",
              "\n",
              "  @keyframes spin {\n",
              "    0% {\n",
              "      border-color: transparent;\n",
              "      border-bottom-color: var(--fill-color);\n",
              "      border-left-color: var(--fill-color);\n",
              "    }\n",
              "    20% {\n",
              "      border-color: transparent;\n",
              "      border-left-color: var(--fill-color);\n",
              "      border-top-color: var(--fill-color);\n",
              "    }\n",
              "    30% {\n",
              "      border-color: transparent;\n",
              "      border-left-color: var(--fill-color);\n",
              "      border-top-color: var(--fill-color);\n",
              "      border-right-color: var(--fill-color);\n",
              "    }\n",
              "    40% {\n",
              "      border-color: transparent;\n",
              "      border-right-color: var(--fill-color);\n",
              "      border-top-color: var(--fill-color);\n",
              "    }\n",
              "    60% {\n",
              "      border-color: transparent;\n",
              "      border-right-color: var(--fill-color);\n",
              "    }\n",
              "    80% {\n",
              "      border-color: transparent;\n",
              "      border-right-color: var(--fill-color);\n",
              "      border-bottom-color: var(--fill-color);\n",
              "    }\n",
              "    90% {\n",
              "      border-color: transparent;\n",
              "      border-bottom-color: var(--fill-color);\n",
              "    }\n",
              "  }\n",
              "</style>\n",
              "\n",
              "  <script>\n",
              "    async function quickchart(key) {\n",
              "      const quickchartButtonEl =\n",
              "        document.querySelector('#' + key + ' button');\n",
              "      quickchartButtonEl.disabled = true;  // To prevent multiple clicks.\n",
              "      quickchartButtonEl.classList.add('colab-df-spinner');\n",
              "      try {\n",
              "        const charts = await google.colab.kernel.invokeFunction(\n",
              "            'suggestCharts', [key], {});\n",
              "      } catch (error) {\n",
              "        console.error('Error during call to suggestCharts:', error);\n",
              "      }\n",
              "      quickchartButtonEl.classList.remove('colab-df-spinner');\n",
              "      quickchartButtonEl.classList.add('colab-df-quickchart-complete');\n",
              "    }\n",
              "    (() => {\n",
              "      let quickchartButtonEl =\n",
              "        document.querySelector('#df-90ac5cb6-f403-45b8-b6a4-17bd227ee9d4 button');\n",
              "      quickchartButtonEl.style.display =\n",
              "        google.colab.kernel.accessAllowed ? 'block' : 'none';\n",
              "    })();\n",
              "  </script>\n",
              "</div>\n",
              "\n",
              "    </div>\n",
              "  </div>\n"
            ],
            "application/vnd.google.colaboratory.intrinsic+json": {
              "type": "dataframe"
            }
          },
          "metadata": {},
          "execution_count": 12
        }
      ]
    },
    {
      "cell_type": "code",
      "source": [
        "base_filmes_rf.isnull().sum()"
      ],
      "metadata": {
        "colab": {
          "base_uri": "https://localhost:8080/"
        },
        "id": "7aFAdTh_xtdZ",
        "outputId": "4d38010d-6f6f-4796-8981-ecf19c4f9889"
      },
      "execution_count": 13,
      "outputs": [
        {
          "output_type": "execute_result",
          "data": {
            "text/plain": [
              "count_valid_tweets                  0\n",
              "reply_count                         0\n",
              "retweet_count                       0\n",
              "like_count                          0\n",
              "quote_count                         0\n",
              "anger                               0\n",
              "anticipation                        0\n",
              "disgust                             0\n",
              "fear                                0\n",
              "joy                                 0\n",
              "love                                0\n",
              "optimism                            0\n",
              "pessimism                           0\n",
              "sadness                             0\n",
              "surprise                            0\n",
              "trust                               0\n",
              "negative                            0\n",
              "neutral                             0\n",
              "positive                            0\n",
              "DISTRIBUTOR_GROUPED                 0\n",
              "Drama                               0\n",
              "Action                              0\n",
              "Comedy                              0\n",
              "Horror                              0\n",
              "Adventure                           0\n",
              "Crime                               0\n",
              "Fantasy                             0\n",
              "Biography                           0\n",
              "Documentary                         0\n",
              "Animation                           0\n",
              "Thriller                            0\n",
              "Mystery                             0\n",
              "History                             0\n",
              "Sci-Fi                              0\n",
              "Romance                             0\n",
              "Music                               0\n",
              "Family                              0\n",
              "Western                             0\n",
              "Musical                             0\n",
              "War                                 0\n",
              "MPAA_BIN                            0\n",
              "BUDGET_DEFLACIONADO                 0\n",
              "DOMESTIC_OPENING_DEFLACIONADO       0\n",
              "DOMESTIC_GROSS_DEFLACIONADO         0\n",
              "INTERNATIONAL_GROSS_DEFLACIONADO    0\n",
              "WORLDWIDE_GROSS_DEFLACIONADO        0\n",
              "HAVE_SEQUEL                         0\n",
              "SEQUEL_SPINOFF                      0\n",
              "RUNTIME                             0\n",
              "REL_YEAR                            0\n",
              "REL_MONTH                           0\n",
              "dtype: int64"
            ]
          },
          "metadata": {},
          "execution_count": 13
        }
      ]
    },
    {
      "cell_type": "code",
      "source": [
        "base_filmes_rf['HAVE_SEQUEL'].value_counts()"
      ],
      "metadata": {
        "colab": {
          "base_uri": "https://localhost:8080/"
        },
        "id": "2LGaRsjVxvxM",
        "outputId": "c8a060ad-e5e8-4e62-8f0d-d5ff3ccfc393"
      },
      "execution_count": 14,
      "outputs": [
        {
          "output_type": "execute_result",
          "data": {
            "text/plain": [
              "HAVE_SEQUEL\n",
              "False    343\n",
              "True      43\n",
              "Name: count, dtype: int64"
            ]
          },
          "metadata": {},
          "execution_count": 14
        }
      ]
    },
    {
      "cell_type": "code",
      "source": [
        "X = base_filmes_rf.drop(['HAVE_SEQUEL'], axis=1)\n",
        "y = base_filmes_rf['HAVE_SEQUEL']"
      ],
      "metadata": {
        "id": "3atFCh8PxyGz"
      },
      "execution_count": 15,
      "outputs": []
    },
    {
      "cell_type": "markdown",
      "source": [
        "### **Class distribution**"
      ],
      "metadata": {
        "id": "mT9RTyQTyBYa"
      }
    },
    {
      "cell_type": "markdown",
      "source": [
        "### **Random Oversampling**\n",
        "\n",
        "``\"not majority\"`` = resample all classes but the majority class\n",
        "\n"
      ],
      "metadata": {
        "id": "uDXBTBEhyK-D"
      }
    },
    {
      "cell_type": "code",
      "source": [
        "from imblearn.over_sampling import RandomOverSampler\n",
        "\n",
        "#ros = RandomOverSampler(sampling_strategy=1) # Float\n",
        "ros = RandomOverSampler(sampling_strategy=\"not majority\") # String\n",
        "X_res, y_res = ros.fit_resample(X, y)\n",
        "\n",
        "ax = y_res.value_counts().plot.pie(autopct='%.2f')\n",
        "_ = ax.set_title(\"Over-sampling\")"
      ],
      "metadata": {
        "colab": {
          "base_uri": "https://localhost:8080/",
          "height": 428
        },
        "id": "eXbpKO-fyOJ6",
        "outputId": "b53683de-f34f-464f-f972-2b3725e40328"
      },
      "execution_count": 16,
      "outputs": [
        {
          "output_type": "display_data",
          "data": {
            "text/plain": [
              "<Figure size 640x480 with 1 Axes>"
            ],
            "image/png": "[encoded data removed]"
          },
          "metadata": {}
        }
      ]
    },
    {
      "cell_type": "code",
      "source": [
        "X_train, X_test, y_train, y_test = train_test_split(X_res, y_res, random_state=100)"
      ],
      "metadata": {
        "id": "vxJCYybqyZhC"
      },
      "execution_count": 17,
      "outputs": []
    },
    {
      "cell_type": "code",
      "source": [
        "X_train.shape, X_test.shape"
      ],
      "metadata": {
        "colab": {
          "base_uri": "https://localhost:8080/"
        },
        "id": "O8SDVTLKydXJ",
        "outputId": "b8120897-60b5-40eb-ffd9-a40f34b93769"
      },
      "execution_count": 18,
      "outputs": [
        {
          "output_type": "execute_result",
          "data": {
            "text/plain": [
              "((514, 50), (172, 50))"
            ]
          },
          "metadata": {},
          "execution_count": 18
        }
      ]
    },
    {
      "cell_type": "code",
      "source": [
        "len(X_test) / len(X_res)"
      ],
      "metadata": {
        "colab": {
          "base_uri": "https://localhost:8080/"
        },
        "id": "UYA4fT-hykk8",
        "outputId": "e33e2606-0148-4ed6-d83b-f042677e64f2"
      },
      "execution_count": 19,
      "outputs": [
        {
          "output_type": "execute_result",
          "data": {
            "text/plain": [
              "0.25072886297376096"
            ]
          },
          "metadata": {},
          "execution_count": 19
        }
      ]
    },
    {
      "cell_type": "markdown",
      "source": [
        "### Criando o objeto com o classificador XGBoost"
      ],
      "metadata": {
        "id": "VsrKCO1JzEKV"
      }
    },
    {
      "cell_type": "code",
      "source": [
        "classificador_xgb = xgb.XGBClassifier()"
      ],
      "metadata": {
        "id": "90fYO959zOqe"
      },
      "execution_count": 20,
      "outputs": []
    },
    {
      "cell_type": "code",
      "source": [
        "type(classificador_xgb)"
      ],
      "metadata": {
        "colab": {
          "base_uri": "https://localhost:8080/",
          "height": 187
        },
        "id": "wnURgwNkzTds",
        "outputId": "db1de943-7cd6-45be-a0f1-a109e417675e"
      },
      "execution_count": 21,
      "outputs": [
        {
          "output_type": "execute_result",
          "data": {
            "text/plain": [
              "xgboost.sklearn.XGBClassifier"
            ],
            "text/html": [
              "<div style=\"max-width:800px; border: 1px solid var(--colab-border-color);\"><style>\n",
              "      pre.function-repr-contents {\n",
              "        overflow-x: auto;\n",
              "        padding: 8px 12px;\n",
              "        max-height: 500px;\n",
              "      }\n",
              "\n",
              "      pre.function-repr-contents.function-repr-contents-collapsed {\n",
              "        cursor: pointer;\n",
              "        max-height: 100px;\n",
              "      }\n",
              "    </style>\n",
              "    <pre style=\"white-space: initial; background:\n",
              "         var(--colab-secondary-surface-color); padding: 8px 12px;\n",
              "         border-bottom: 1px solid var(--colab-border-color);\"><b>xgboost.sklearn.XGBClassifier</b><br/>def __init__(*, objective: SklObjective=&#x27;binary:logistic&#x27;, **kwargs: Any) -&gt; None</pre><pre class=\"function-repr-contents function-repr-contents-collapsed\" style=\"\"><a class=\"filepath\" style=\"display:none\" href=\"#\">/usr/local/lib/python3.10/dist-packages/xgboost/sklearn.py</a>Implementation of the scikit-learn API for XGBoost classification.\n",
              "See :doc:`/python/sklearn_estimator` for more information.\n",
              "\n",
              "Parameters\n",
              "----------\n",
              "\n",
              "    n_estimators : Optional[int]\n",
              "        Number of boosting rounds.\n",
              "\n",
              "    max_depth :  Optional[int]\n",
              "        Maximum tree depth for base learners.\n",
              "    max_leaves :\n",
              "        Maximum number of leaves; 0 indicates no limit.\n",
              "    max_bin :\n",
              "        If using histogram-based algorithm, maximum number of bins per feature\n",
              "    grow_policy :\n",
              "        Tree growing policy. 0: favor splitting at nodes closest to the node, i.e. grow\n",
              "        depth-wise. 1: favor splitting at nodes with highest loss change.\n",
              "    learning_rate : Optional[float]\n",
              "        Boosting learning rate (xgb&#x27;s &quot;eta&quot;)\n",
              "    verbosity : Optional[int]\n",
              "        The degree of verbosity. Valid values are 0 (silent) - 3 (debug).\n",
              "    objective : typing.Union[str, typing.Callable[[numpy.ndarray, numpy.ndarray], typing.Tuple[numpy.ndarray, numpy.ndarray]], NoneType]\n",
              "        Specify the learning task and the corresponding learning objective or\n",
              "        a custom objective function to be used (see note below).\n",
              "    booster: Optional[str]\n",
              "        Specify which booster to use: gbtree, gblinear or dart.\n",
              "    tree_method: Optional[str]\n",
              "        Specify which tree method to use.  Default to auto.  If this parameter is set to\n",
              "        default, XGBoost will choose the most conservative option available.  It&#x27;s\n",
              "        recommended to study this option from the parameters document :doc:`tree method\n",
              "        &lt;/treemethod&gt;`\n",
              "    n_jobs : Optional[int]\n",
              "        Number of parallel threads used to run xgboost.  When used with other\n",
              "        Scikit-Learn algorithms like grid search, you may choose which algorithm to\n",
              "        parallelize and balance the threads.  Creating thread contention will\n",
              "        significantly slow down both algorithms.\n",
              "    gamma : Optional[float]\n",
              "        (min_split_loss) Minimum loss reduction required to make a further partition on a\n",
              "        leaf node of the tree.\n",
              "    min_child_weight : Optional[float]\n",
              "        Minimum sum of instance weight(hessian) needed in a child.\n",
              "    max_delta_step : Optional[float]\n",
              "        Maximum delta step we allow each tree&#x27;s weight estimation to be.\n",
              "    subsample : Optional[float]\n",
              "        Subsample ratio of the training instance.\n",
              "    sampling_method :\n",
              "        Sampling method. Used only by the GPU version of ``hist`` tree method.\n",
              "          - ``uniform``: select random training instances uniformly.\n",
              "          - ``gradient_based`` select random training instances with higher probability\n",
              "            when the gradient and hessian are larger. (cf. CatBoost)\n",
              "    colsample_bytree : Optional[float]\n",
              "        Subsample ratio of columns when constructing each tree.\n",
              "    colsample_bylevel : Optional[float]\n",
              "        Subsample ratio of columns for each level.\n",
              "    colsample_bynode : Optional[float]\n",
              "        Subsample ratio of columns for each split.\n",
              "    reg_alpha : Optional[float]\n",
              "        L1 regularization term on weights (xgb&#x27;s alpha).\n",
              "    reg_lambda : Optional[float]\n",
              "        L2 regularization term on weights (xgb&#x27;s lambda).\n",
              "    scale_pos_weight : Optional[float]\n",
              "        Balancing of positive and negative weights.\n",
              "    base_score : Optional[float]\n",
              "        The initial prediction score of all instances, global bias.\n",
              "    random_state : Optional[Union[numpy.random.RandomState, int]]\n",
              "        Random number seed.\n",
              "\n",
              "        .. note::\n",
              "\n",
              "           Using gblinear booster with shotgun updater is nondeterministic as\n",
              "           it uses Hogwild algorithm.\n",
              "\n",
              "    missing : float, default np.nan\n",
              "        Value in the data which needs to be present as a missing value.\n",
              "    num_parallel_tree: Optional[int]\n",
              "        Used for boosting random forest.\n",
              "    monotone_constraints : Optional[Union[Dict[str, int], str]]\n",
              "        Constraint of variable monotonicity.  See :doc:`tutorial &lt;/tutorials/monotonic&gt;`\n",
              "        for more information.\n",
              "    interaction_constraints : Optional[Union[str, List[Tuple[str]]]]\n",
              "        Constraints for interaction representing permitted interactions.  The\n",
              "        constraints must be specified in the form of a nested list, e.g. ``[[0, 1], [2,\n",
              "        3, 4]]``, where each inner list is a group of indices of features that are\n",
              "        allowed to interact with each other.  See :doc:`tutorial\n",
              "        &lt;/tutorials/feature_interaction_constraint&gt;` for more information\n",
              "    importance_type: Optional[str]\n",
              "        The feature importance type for the feature_importances\\_ property:\n",
              "\n",
              "        * For tree model, it&#x27;s either &quot;gain&quot;, &quot;weight&quot;, &quot;cover&quot;, &quot;total_gain&quot; or\n",
              "          &quot;total_cover&quot;.\n",
              "        * For linear model, only &quot;weight&quot; is defined and it&#x27;s the normalized coefficients\n",
              "          without bias.\n",
              "\n",
              "    device : Optional[str]\n",
              "\n",
              "        .. versionadded:: 2.0.0\n",
              "\n",
              "        Device ordinal, available options are `cpu`, `cuda`, and `gpu`.\n",
              "\n",
              "    validate_parameters : Optional[bool]\n",
              "\n",
              "        Give warnings for unknown parameter.\n",
              "\n",
              "    enable_categorical : bool\n",
              "\n",
              "        .. versionadded:: 1.5.0\n",
              "\n",
              "        .. note:: This parameter is experimental\n",
              "\n",
              "        Experimental support for categorical data.  When enabled, cudf/pandas.DataFrame\n",
              "        should be used to specify categorical data type.  Also, JSON/UBJSON\n",
              "        serialization format is required.\n",
              "\n",
              "    feature_types : Optional[FeatureTypes]\n",
              "\n",
              "        .. versionadded:: 1.7.0\n",
              "\n",
              "        Used for specifying feature types without constructing a dataframe. See\n",
              "        :py:class:`DMatrix` for details.\n",
              "\n",
              "    max_cat_to_onehot : Optional[int]\n",
              "\n",
              "        .. versionadded:: 1.6.0\n",
              "\n",
              "        .. note:: This parameter is experimental\n",
              "\n",
              "        A threshold for deciding whether XGBoost should use one-hot encoding based split\n",
              "        for categorical data.  When number of categories is lesser than the threshold\n",
              "        then one-hot encoding is chosen, otherwise the categories will be partitioned\n",
              "        into children nodes. Also, `enable_categorical` needs to be set to have\n",
              "        categorical feature support. See :doc:`Categorical Data\n",
              "        &lt;/tutorials/categorical&gt;` and :ref:`cat-param` for details.\n",
              "\n",
              "    max_cat_threshold : Optional[int]\n",
              "\n",
              "        .. versionadded:: 1.7.0\n",
              "\n",
              "        .. note:: This parameter is experimental\n",
              "\n",
              "        Maximum number of categories considered for each split. Used only by\n",
              "        partition-based splits for preventing over-fitting. Also, `enable_categorical`\n",
              "        needs to be set to have categorical feature support. See :doc:`Categorical Data\n",
              "        &lt;/tutorials/categorical&gt;` and :ref:`cat-param` for details.\n",
              "\n",
              "    multi_strategy : Optional[str]\n",
              "\n",
              "        .. versionadded:: 2.0.0\n",
              "\n",
              "        .. note:: This parameter is working-in-progress.\n",
              "\n",
              "        The strategy used for training multi-target models, including multi-target\n",
              "        regression and multi-class classification. See :doc:`/tutorials/multioutput` for\n",
              "        more information.\n",
              "\n",
              "        - ``one_output_per_tree``: One model for each target.\n",
              "        - ``multi_output_tree``:  Use multi-target trees.\n",
              "\n",
              "    eval_metric : Optional[Union[str, List[str], Callable]]\n",
              "\n",
              "        .. versionadded:: 1.6.0\n",
              "\n",
              "        Metric used for monitoring the training result and early stopping.  It can be a\n",
              "        string or list of strings as names of predefined metric in XGBoost (See\n",
              "        doc/parameter.rst), one of the metrics in :py:mod:`sklearn.metrics`, or any other\n",
              "        user defined metric that looks like `sklearn.metrics`.\n",
              "\n",
              "        If custom objective is also provided, then custom metric should implement the\n",
              "        corresponding reverse link function.\n",
              "\n",
              "        Unlike the `scoring` parameter commonly used in scikit-learn, when a callable\n",
              "        object is provided, it&#x27;s assumed to be a cost function and by default XGBoost will\n",
              "        minimize the result during early stopping.\n",
              "\n",
              "        For advanced usage on Early stopping like directly choosing to maximize instead of\n",
              "        minimize, see :py:obj:`xgboost.callback.EarlyStopping`.\n",
              "\n",
              "        See :doc:`Custom Objective and Evaluation Metric &lt;/tutorials/custom_metric_obj&gt;`\n",
              "        for more.\n",
              "\n",
              "        .. note::\n",
              "\n",
              "             This parameter replaces `eval_metric` in :py:meth:`fit` method.  The old\n",
              "             one receives un-transformed prediction regardless of whether custom\n",
              "             objective is being used.\n",
              "\n",
              "        .. code-block:: python\n",
              "\n",
              "            from sklearn.datasets import load_diabetes\n",
              "            from sklearn.metrics import mean_absolute_error\n",
              "            X, y = load_diabetes(return_X_y=True)\n",
              "            reg = xgb.XGBRegressor(\n",
              "                tree_method=&quot;hist&quot;,\n",
              "                eval_metric=mean_absolute_error,\n",
              "            )\n",
              "            reg.fit(X, y, eval_set=[(X, y)])\n",
              "\n",
              "    early_stopping_rounds : Optional[int]\n",
              "\n",
              "        .. versionadded:: 1.6.0\n",
              "\n",
              "        - Activates early stopping. Validation metric needs to improve at least once in\n",
              "          every **early_stopping_rounds** round(s) to continue training.  Requires at\n",
              "          least one item in **eval_set** in :py:meth:`fit`.\n",
              "\n",
              "        - If early stopping occurs, the model will have two additional attributes:\n",
              "          :py:attr:`best_score` and :py:attr:`best_iteration`. These are used by the\n",
              "          :py:meth:`predict` and :py:meth:`apply` methods to determine the optimal\n",
              "          number of trees during inference. If users want to access the full model\n",
              "          (including trees built after early stopping), they can specify the\n",
              "          `iteration_range` in these inference methods. In addition, other utilities\n",
              "          like model plotting can also use the entire model.\n",
              "\n",
              "        - If you prefer to discard the trees after `best_iteration`, consider using the\n",
              "          callback function :py:class:`xgboost.callback.EarlyStopping`.\n",
              "\n",
              "        - If there&#x27;s more than one item in **eval_set**, the last entry will be used for\n",
              "          early stopping.  If there&#x27;s more than one metric in **eval_metric**, the last\n",
              "          metric will be used for early stopping.\n",
              "\n",
              "        .. note::\n",
              "\n",
              "            This parameter replaces `early_stopping_rounds` in :py:meth:`fit` method.\n",
              "\n",
              "    callbacks : Optional[List[TrainingCallback]]\n",
              "        List of callback functions that are applied at end of each iteration.\n",
              "        It is possible to use predefined callbacks by using\n",
              "        :ref:`Callback API &lt;callback_api&gt;`.\n",
              "\n",
              "        .. note::\n",
              "\n",
              "           States in callback are not preserved during training, which means callback\n",
              "           objects can not be reused for multiple training sessions without\n",
              "           reinitialization or deepcopy.\n",
              "\n",
              "        .. code-block:: python\n",
              "\n",
              "            for params in parameters_grid:\n",
              "                # be sure to (re)initialize the callbacks before each run\n",
              "                callbacks = [xgb.callback.LearningRateScheduler(custom_rates)]\n",
              "                reg = xgboost.XGBRegressor(**params, callbacks=callbacks)\n",
              "                reg.fit(X, y)\n",
              "\n",
              "    kwargs : dict, optional\n",
              "        Keyword arguments for XGBoost Booster object.  Full documentation of parameters\n",
              "        can be found :doc:`here &lt;/parameter&gt;`.\n",
              "        Attempting to set a parameter via the constructor args and \\*\\*kwargs\n",
              "        dict simultaneously will result in a TypeError.\n",
              "\n",
              "        .. note:: \\*\\*kwargs unsupported by scikit-learn\n",
              "\n",
              "            \\*\\*kwargs is unsupported by scikit-learn.  We do not guarantee\n",
              "            that parameters passed via this argument will interact properly\n",
              "            with scikit-learn.\n",
              "\n",
              "        .. note::  Custom objective function\n",
              "\n",
              "            A custom objective function can be provided for the ``objective``\n",
              "            parameter. In this case, it should have the signature\n",
              "            ``objective(y_true, y_pred) -&gt; grad, hess``:\n",
              "\n",
              "            y_true: array_like of shape [n_samples]\n",
              "                The target values\n",
              "            y_pred: array_like of shape [n_samples]\n",
              "                The predicted values\n",
              "\n",
              "            grad: array_like of shape [n_samples]\n",
              "                The value of the gradient for each sample point.\n",
              "            hess: array_like of shape [n_samples]\n",
              "                The value of the second derivative for each sample point</pre>\n",
              "      <script>\n",
              "      if (google.colab.kernel.accessAllowed && google.colab.files && google.colab.files.view) {\n",
              "        for (const element of document.querySelectorAll('.filepath')) {\n",
              "          element.style.display = 'block'\n",
              "          element.onclick = (event) => {\n",
              "            event.preventDefault();\n",
              "            event.stopPropagation();\n",
              "            google.colab.files.view(element.textContent, 1408);\n",
              "          };\n",
              "        }\n",
              "      }\n",
              "      for (const element of document.querySelectorAll('.function-repr-contents')) {\n",
              "        element.onclick = (event) => {\n",
              "          event.preventDefault();\n",
              "          event.stopPropagation();\n",
              "          element.classList.toggle('function-repr-contents-collapsed');\n",
              "        };\n",
              "      }\n",
              "      </script>\n",
              "      </div>"
            ]
          },
          "metadata": {},
          "execution_count": 21
        }
      ]
    },
    {
      "cell_type": "markdown",
      "source": [
        "## Compatibilidade com scikit-learn"
      ],
      "metadata": {
        "id": "5V101VZEzs_k"
      }
    },
    {
      "cell_type": "code",
      "source": [
        "from sklearn.model_selection import cross_val_score\n",
        "\n",
        "#Funciona com scikitlearn\n",
        "resultado_cv = cross_val_score(classificador_xgb, X_train, y_train)\n",
        "\n",
        "resultado_cv"
      ],
      "metadata": {
        "colab": {
          "base_uri": "https://localhost:8080/"
        },
        "id": "S0V-4mFNzVkH",
        "outputId": "009166a0-2c81-4baf-d95f-076dbb475a96"
      },
      "execution_count": 22,
      "outputs": [
        {
          "output_type": "execute_result",
          "data": {
            "text/plain": [
              "array([0.96116505, 0.95145631, 0.97087379, 0.98058252, 0.96078431])"
            ]
          },
          "metadata": {},
          "execution_count": 22
        }
      ]
    },
    {
      "cell_type": "code",
      "source": [
        "acuracia_cv = resultado_cv.mean()\n",
        "acuracia_cv"
      ],
      "metadata": {
        "colab": {
          "base_uri": "https://localhost:8080/"
        },
        "id": "jWvYWRAe0LEM",
        "outputId": "e98beddf-110d-48cf-9969-4407c12dde86"
      },
      "execution_count": 23,
      "outputs": [
        {
          "output_type": "execute_result",
          "data": {
            "text/plain": [
              "0.9649723967256806"
            ]
          },
          "metadata": {},
          "execution_count": 23
        }
      ]
    },
    {
      "cell_type": "code",
      "source": [
        "acuracia_cv = 100 * acuracia_cv\n",
        "\n",
        "acuracia_cv"
      ],
      "metadata": {
        "colab": {
          "base_uri": "https://localhost:8080/"
        },
        "id": "vD6ugs7g1h2K",
        "outputId": "628cbbf1-f6b5-4352-9e50-3cddebf8d5e7"
      },
      "execution_count": 24,
      "outputs": [
        {
          "output_type": "execute_result",
          "data": {
            "text/plain": [
              "96.49723967256806"
            ]
          },
          "metadata": {},
          "execution_count": 24
        }
      ]
    },
    {
      "cell_type": "markdown",
      "source": [
        "### Pequena Tunagem (se precisasse mudar a função objetivo - multiclasses)"
      ],
      "metadata": {
        "id": "aIJorjM-13i_"
      }
    },
    {
      "cell_type": "code",
      "source": [
        "classificador_xgb_tunado = xgb.XGBClassifier(max_depth=5,\n",
        "                                             subsample=0.8,\n",
        "                                             n_estimators=400,\n",
        "                                             learning_rate=0.025,\n",
        "                                             min_child_weight=1,\n",
        "                                             random_state=100,\n",
        "                                             reg_alpha=0,\n",
        "                                             reg_lambda=1\n",
        "                                             )\n",
        "100 * cross_val_score(classificador_xgb_tunado, X_train, y_train).mean()"
      ],
      "metadata": {
        "colab": {
          "base_uri": "https://localhost:8080/"
        },
        "id": "YjEfAaCc2uhF",
        "outputId": "bf4752a7-aac5-4bdf-ff2c-f4f7ba82ae50"
      },
      "execution_count": 25,
      "outputs": [
        {
          "output_type": "execute_result",
          "data": {
            "text/plain": [
              "96.49914334665904"
            ]
          },
          "metadata": {},
          "execution_count": 25
        }
      ]
    },
    {
      "cell_type": "markdown",
      "source": [
        "### Tipos de Classificador"
      ],
      "metadata": {
        "id": "cuOodF6_36Ct"
      }
    },
    {
      "cell_type": "code",
      "source": [
        "classificador_xgb_dart = xgb.XGBClassifier(booster='dart'\n",
        "                                          ,n_estimators=200\n",
        "                                          ,learning_rate=0.01\n",
        "                                          ,random_state=100\n",
        "                                          ,reg_alpha=0\n",
        "                                          ,reg_lambda=1\n",
        "                                          )\n",
        "\n",
        "100 * cross_val_score(classificador_xgb_dart, X_train, y_train).mean()"
      ],
      "metadata": {
        "colab": {
          "base_uri": "https://localhost:8080/"
        },
        "id": "-_P_nNS-32I2",
        "outputId": "db616ad4-974d-4f61-931d-8843687d2daa"
      },
      "execution_count": 26,
      "outputs": [
        {
          "output_type": "execute_result",
          "data": {
            "text/plain": [
              "94.93813059204264"
            ]
          },
          "metadata": {},
          "execution_count": 26
        }
      ]
    },
    {
      "cell_type": "code",
      "source": [
        "classificador_xgb_gblinear = xgb.XGBClassifier(booster='gblinear',\n",
        "                                                n_estimators=200,\n",
        "                                                learning_rate=0.01,\n",
        "                                                random_state=100,\n",
        "                                                reg_alpha=0,\n",
        "                                                reg_lambda=1\n",
        "                                              )\n",
        "\n",
        "100 * cross_val_score(classificador_xgb_gblinear, X_train, y_train).mean()"
      ],
      "metadata": {
        "colab": {
          "base_uri": "https://localhost:8080/"
        },
        "id": "LbmAd9Lq4OLM",
        "outputId": "e1937129-9b34-4fb8-c634-6aa910650df8"
      },
      "execution_count": 27,
      "outputs": [
        {
          "output_type": "execute_result",
          "data": {
            "text/plain": [
              "79.56786598134399"
            ]
          },
          "metadata": {},
          "execution_count": 27
        }
      ]
    },
    {
      "cell_type": "code",
      "source": [
        "# Capricho de legibilidade\n",
        "classificador_campeao = classificador_xgb_tunado"
      ],
      "metadata": {
        "id": "Dz8l1R654cw1"
      },
      "execution_count": 28,
      "outputs": []
    },
    {
      "cell_type": "code",
      "source": [
        "# Com o melhor modelo, podemos utilizar a base toda de treino\n",
        "classificador_campeao.fit(X_train, y_train)"
      ],
      "metadata": {
        "colab": {
          "base_uri": "https://localhost:8080/",
          "height": 248
        },
        "id": "xTgByxfE4yOg",
        "outputId": "ce262663-b0be-4dec-d87d-17d831b4d984"
      },
      "execution_count": 29,
      "outputs": [
        {
          "output_type": "execute_result",
          "data": {
            "text/plain": [
              "XGBClassifier(base_score=None, booster=None, callbacks=None,\n",
              "              colsample_bylevel=None, colsample_bynode=None,\n",
              "              colsample_bytree=None, device=None, early_stopping_rounds=None,\n",
              "              enable_categorical=False, eval_metric=None, feature_types=None,\n",
              "              gamma=None, grow_policy=None, importance_type=None,\n",
              "              interaction_constraints=None, learning_rate=0.025, max_bin=None,\n",
              "              max_cat_threshold=None, max_cat_to_onehot=None,\n",
              "              max_delta_step=None, max_depth=5, max_leaves=None,\n",
              "              min_child_weight=1, missing=nan, monotone_constraints=None,\n",
              "              multi_strategy=None, n_estimators=400, n_jobs=None,\n",
              "              num_parallel_tree=None, random_state=100, ...)"
            ],
            "text/html": [
              "<style>#sk-container-id-1 {color: black;background-color: white;}#sk-container-id-1 pre{padding: 0;}#sk-container-id-1 div.sk-toggleable {background-color: white;}#sk-container-id-1 label.sk-toggleable__label {cursor: pointer;display: block;width: 100%;margin-bottom: 0;padding: 0.3em;box-sizing: border-box;text-align: center;}#sk-container-id-1 label.sk-toggleable__label-arrow:before {content: \"▸\";float: left;margin-right: 0.25em;color: #696969;}#sk-container-id-1 label.sk-toggleable__label-arrow:hover:before {color: black;}#sk-container-id-1 div.sk-estimator:hover label.sk-toggleable__label-arrow:before {color: black;}#sk-container-id-1 div.sk-toggleable__content {max-height: 0;max-width: 0;overflow: hidden;text-align: left;background-color: #f0f8ff;}#sk-container-id-1 div.sk-toggleable__content pre {margin: 0.2em;color: black;border-radius: 0.25em;background-color: #f0f8ff;}#sk-container-id-1 input.sk-toggleable__control:checked~div.sk-toggleable__content {max-height: 200px;max-width: 100%;overflow: auto;}#sk-container-id-1 input.sk-toggleable__control:checked~label.sk-toggleable__label-arrow:before {content: \"▾\";}#sk-container-id-1 div.sk-estimator input.sk-toggleable__control:checked~label.sk-toggleable__label {background-color: #d4ebff;}#sk-container-id-1 div.sk-label input.sk-toggleable__control:checked~label.sk-toggleable__label {background-color: #d4ebff;}#sk-container-id-1 input.sk-hidden--visually {border: 0;clip: rect(1px 1px 1px 1px);clip: rect(1px, 1px, 1px, 1px);height: 1px;margin: -1px;overflow: hidden;padding: 0;position: absolute;width: 1px;}#sk-container-id-1 div.sk-estimator {font-family: monospace;background-color: #f0f8ff;border: 1px dotted black;border-radius: 0.25em;box-sizing: border-box;margin-bottom: 0.5em;}#sk-container-id-1 div.sk-estimator:hover {background-color: #d4ebff;}#sk-container-id-1 div.sk-parallel-item::after {content: \"\";width: 100%;border-bottom: 1px solid gray;flex-grow: 1;}#sk-container-id-1 div.sk-label:hover label.sk-toggleable__label {background-color: #d4ebff;}#sk-container-id-1 div.sk-serial::before {content: \"\";position: absolute;border-left: 1px solid gray;box-sizing: border-box;top: 0;bottom: 0;left: 50%;z-index: 0;}#sk-container-id-1 div.sk-serial {display: flex;flex-direction: column;align-items: center;background-color: white;padding-right: 0.2em;padding-left: 0.2em;position: relative;}#sk-container-id-1 div.sk-item {position: relative;z-index: 1;}#sk-container-id-1 div.sk-parallel {display: flex;align-items: stretch;justify-content: center;background-color: white;position: relative;}#sk-container-id-1 div.sk-item::before, #sk-container-id-1 div.sk-parallel-item::before {content: \"\";position: absolute;border-left: 1px solid gray;box-sizing: border-box;top: 0;bottom: 0;left: 50%;z-index: -1;}#sk-container-id-1 div.sk-parallel-item {display: flex;flex-direction: column;z-index: 1;position: relative;background-color: white;}#sk-container-id-1 div.sk-parallel-item:first-child::after {align-self: flex-end;width: 50%;}#sk-container-id-1 div.sk-parallel-item:last-child::after {align-self: flex-start;width: 50%;}#sk-container-id-1 div.sk-parallel-item:only-child::after {width: 0;}#sk-container-id-1 div.sk-dashed-wrapped {border: 1px dashed gray;margin: 0 0.4em 0.5em 0.4em;box-sizing: border-box;padding-bottom: 0.4em;background-color: white;}#sk-container-id-1 div.sk-label label {font-family: monospace;font-weight: bold;display: inline-block;line-height: 1.2em;}#sk-container-id-1 div.sk-label-container {text-align: center;}#sk-container-id-1 div.sk-container {/* jupyter's `normalize.less` sets `[hidden] { display: none; }` but bootstrap.min.css set `[hidden] { display: none !important; }` so we also need the `!important` here to be able to override the default hidden behavior on the sphinx rendered scikit-learn.org. See: https://github.com/scikit-learn/scikit-learn/issues/21755 */display: inline-block !important;position: relative;}#sk-container-id-1 div.sk-text-repr-fallback {display: none;}</style><div id=\"sk-container-id-1\" class=\"sk-top-container\"><div class=\"sk-text-repr-fallback\"><pre>XGBClassifier(base_score=None, booster=None, callbacks=None,\n",
              "              colsample_bylevel=None, colsample_bynode=None,\n",
              "              colsample_bytree=None, device=None, early_stopping_rounds=None,\n",
              "              enable_categorical=False, eval_metric=None, feature_types=None,\n",
              "              gamma=None, grow_policy=None, importance_type=None,\n",
              "              interaction_constraints=None, learning_rate=0.025, max_bin=None,\n",
              "              max_cat_threshold=None, max_cat_to_onehot=None,\n",
              "              max_delta_step=None, max_depth=5, max_leaves=None,\n",
              "              min_child_weight=1, missing=nan, monotone_constraints=None,\n",
              "              multi_strategy=None, n_estimators=400, n_jobs=None,\n",
              "              num_parallel_tree=None, random_state=100, ...)</pre><b>In a Jupyter environment, please rerun this cell to show the HTML representation or trust the notebook. <br />On GitHub, the HTML representation is unable to render, please try loading this page with nbviewer.org.</b></div><div class=\"sk-container\" hidden><div class=\"sk-item\"><div class=\"sk-estimator sk-toggleable\"><input class=\"sk-toggleable__control sk-hidden--visually\" id=\"sk-estimator-id-1\" type=\"checkbox\" checked><label for=\"sk-estimator-id-1\" class=\"sk-toggleable__label sk-toggleable__label-arrow\">XGBClassifier</label><div class=\"sk-toggleable__content\"><pre>XGBClassifier(base_score=None, booster=None, callbacks=None,\n",
              "              colsample_bylevel=None, colsample_bynode=None,\n",
              "              colsample_bytree=None, device=None, early_stopping_rounds=None,\n",
              "              enable_categorical=False, eval_metric=None, feature_types=None,\n",
              "              gamma=None, grow_policy=None, importance_type=None,\n",
              "              interaction_constraints=None, learning_rate=0.025, max_bin=None,\n",
              "              max_cat_threshold=None, max_cat_to_onehot=None,\n",
              "              max_delta_step=None, max_depth=5, max_leaves=None,\n",
              "              min_child_weight=1, missing=nan, monotone_constraints=None,\n",
              "              multi_strategy=None, n_estimators=400, n_jobs=None,\n",
              "              num_parallel_tree=None, random_state=100, ...)</pre></div></div></div></div></div>"
            ]
          },
          "metadata": {},
          "execution_count": 29
        }
      ]
    },
    {
      "cell_type": "code",
      "source": [
        "# Podemos realizar a predição da base de teste!\n",
        "predicoes = classificador_campeao.predict(X_test)\n",
        "\n",
        "predicoes[:10]"
      ],
      "metadata": {
        "colab": {
          "base_uri": "https://localhost:8080/"
        },
        "id": "0GfYZ5Fr46h5",
        "outputId": "2114dbe6-5c35-4259-92f7-d6ea0d28fa63"
      },
      "execution_count": 30,
      "outputs": [
        {
          "output_type": "execute_result",
          "data": {
            "text/plain": [
              "array([0, 0, 1, 1, 0, 0, 1, 1, 1, 1])"
            ]
          },
          "metadata": {},
          "execution_count": 30
        }
      ]
    },
    {
      "cell_type": "code",
      "source": [
        "y_test"
      ],
      "metadata": {
        "colab": {
          "base_uri": "https://localhost:8080/"
        },
        "id": "WIxqIimS5JQm",
        "outputId": "845031c6-a20c-4626-844c-b769ee112887"
      },
      "execution_count": 31,
      "outputs": [
        {
          "output_type": "execute_result",
          "data": {
            "text/plain": [
              "231    False\n",
              "169    False\n",
              "413     True\n",
              "455     True\n",
              "206    False\n",
              "       ...  \n",
              "29      True\n",
              "543     True\n",
              "100    False\n",
              "221    False\n",
              "189    False\n",
              "Name: HAVE_SEQUEL, Length: 172, dtype: bool"
            ]
          },
          "metadata": {},
          "execution_count": 31
        }
      ]
    },
    {
      "cell_type": "code",
      "source": [
        "# Calculando o número de acertos\n",
        "(predicoes == y_test).sum()"
      ],
      "metadata": {
        "colab": {
          "base_uri": "https://localhost:8080/"
        },
        "id": "3k77i1m55Pvr",
        "outputId": "cf4b5100-cee7-42ce-c5d8-ff98ff962033"
      },
      "execution_count": 32,
      "outputs": [
        {
          "output_type": "execute_result",
          "data": {
            "text/plain": [
              "165"
            ]
          },
          "metadata": {},
          "execution_count": 32
        }
      ]
    },
    {
      "cell_type": "code",
      "source": [
        "# Mas qual o tamanho da base de teste?\n",
        "len(y_test)"
      ],
      "metadata": {
        "colab": {
          "base_uri": "https://localhost:8080/"
        },
        "id": "P0SJ6Z935Y1E",
        "outputId": "d66751f7-a63c-4c4a-ee91-dd28c277d9a2"
      },
      "execution_count": 33,
      "outputs": [
        {
          "output_type": "execute_result",
          "data": {
            "text/plain": [
              "172"
            ]
          },
          "metadata": {},
          "execution_count": 33
        }
      ]
    },
    {
      "cell_type": "code",
      "source": [
        "acertos = (predicoes == y_test).sum()\n",
        "total = len(y_test)\n",
        "\n",
        "acuracia = 100 * acertos / total\n",
        "\n",
        "acuracia"
      ],
      "metadata": {
        "colab": {
          "base_uri": "https://localhost:8080/"
        },
        "id": "-r3HQLyM5hr9",
        "outputId": "aa421ed2-c832-402f-a3a2-8a01689c32ca"
      },
      "execution_count": 34,
      "outputs": [
        {
          "output_type": "execute_result",
          "data": {
            "text/plain": [
              "95.93023255813954"
            ]
          },
          "metadata": {},
          "execution_count": 34
        }
      ]
    },
    {
      "cell_type": "code",
      "source": [
        "from sklearn.metrics import confusion_matrix\n",
        "\n",
        "confusion_matrix(y_test, predicoes)"
      ],
      "metadata": {
        "colab": {
          "base_uri": "https://localhost:8080/"
        },
        "id": "mUXvYDoY73dm",
        "outputId": "c9049575-d90d-43d4-ac13-c019192dd039"
      },
      "execution_count": 35,
      "outputs": [
        {
          "output_type": "execute_result",
          "data": {
            "text/plain": [
              "array([[85,  7],\n",
              "       [ 0, 80]])"
            ]
          },
          "metadata": {},
          "execution_count": 35
        }
      ]
    },
    {
      "cell_type": "code",
      "source": [
        "from sklearn.metrics import accuracy_score\n",
        "\n",
        "accuracy_score(y_test, predicoes)"
      ],
      "metadata": {
        "colab": {
          "base_uri": "https://localhost:8080/"
        },
        "id": "Ya4jMNVv5xg_",
        "outputId": "f54cd6a3-230e-42b7-df42-e0ec98fa2c63"
      },
      "execution_count": 36,
      "outputs": [
        {
          "output_type": "execute_result",
          "data": {
            "text/plain": [
              "0.9593023255813954"
            ]
          },
          "metadata": {},
          "execution_count": 36
        }
      ]
    },
    {
      "cell_type": "code",
      "source": [
        "from sklearn.metrics import classification_report\n",
        "\n",
        "print(classification_report(predicoes, y_test))"
      ],
      "metadata": {
        "colab": {
          "base_uri": "https://localhost:8080/"
        },
        "id": "0-hKH6pJ77Ey",
        "outputId": "6d7abd28-87f5-4b18-ba52-b6a46d7e6c90"
      },
      "execution_count": 37,
      "outputs": [
        {
          "output_type": "stream",
          "name": "stdout",
          "text": [
            "              precision    recall  f1-score   support\n",
            "\n",
            "           0       0.92      1.00      0.96        85\n",
            "           1       1.00      0.92      0.96        87\n",
            "\n",
            "    accuracy                           0.96       172\n",
            "   macro avg       0.96      0.96      0.96       172\n",
            "weighted avg       0.96      0.96      0.96       172\n",
            "\n"
          ]
        }
      ]
    },
    {
      "cell_type": "code",
      "source": [
        "features = X.columns\n",
        "importances = classificador_campeao.feature_importances_\n",
        "indices = np.argsort(importances)\n",
        "\n",
        "# customized number\n",
        "num_features = 30\n",
        "\n",
        "plt.title('Feature Importances')\n",
        "plt.barh(range(num_features), importances[indices[-num_features:]], color='b', align='center')\n",
        "plt.yticks(range(num_features), [features[i] for i in indices[-num_features:]])\n",
        "plt.xlabel('Relative Importance')\n",
        "plt.show()"
      ],
      "metadata": {
        "colab": {
          "base_uri": "https://localhost:8080/",
          "height": 472
        },
        "id": "Bez_uS-e7-zU",
        "outputId": "7facd4df-e717-4373-8199-63300b06a42f"
      },
      "execution_count": 38,
      "outputs": [
        {
          "output_type": "display_data",
          "data": {
            "text/plain": [
              "<Figure size 640x480 with 1 Axes>"
            ],
            "image/png": "[encoded data removed]"
          },
          "metadata": {}
        }
      ]
    },
    {
      "cell_type": "code",
      "source": [
        "#fig, ax = plt.subplots()\n",
        "import itertools\n",
        "from operator import itemgetter\n",
        "\n",
        "features = X.columns\n",
        "importances = classificador_campeao.feature_importances_\n",
        "\n",
        "teste = dict(zip(features, importances))\n",
        "\n",
        "s = dict(sorted(teste.items(), key=lambda item: item[1], reverse = True)[:20])\n",
        "\n",
        "#plt.clf()\n",
        "\n",
        "# using some dummy data for this example\n",
        "xs = list(s.values())\n",
        "ys = list(s.keys())\n",
        "\n",
        "# 'bo-' means blue color, round points, solid lines\n",
        "plt.plot(xs,ys, marker='o', linestyle='', markersize=8, color='g')\n",
        "\n",
        "# zip joins x and y coordinates in pairs\n",
        "for x,y in zip(xs,ys):\n",
        "    label = \"{:.3f}\".format(x)\n",
        "    plt.annotate(label, # this is the text\n",
        "                 (x,y), # these are the coordinates to position the label\n",
        "                 textcoords=\"offset points\", # how to position the text\n",
        "                 xytext=(0,10), # distance from text to points (x,y)\n",
        "                 ha='center') # horizontal alignment can be left, right or center\n",
        "\n",
        "plt.show()"
      ],
      "metadata": {
        "id": "UGnFR5cZ9auh",
        "colab": {
          "base_uri": "https://localhost:8080/",
          "height": 438
        },
        "outputId": "f40a2327-28b3-44a0-eec2-02eb7f0878b5"
      },
      "execution_count": 45,
      "outputs": [
        {
          "output_type": "display_data",
          "data": {
            "text/plain": [
              "<Figure size 640x480 with 1 Axes>"
            ],
            "image/png": "[encoded data removed]"
          },
          "metadata": {}
        }
      ]
    },
    {
      "cell_type": "code",
      "source": [],
      "metadata": {
        "id": "CmpiDEgsaFAX"
      },
      "execution_count": null,
      "outputs": []
    }
  ]
}