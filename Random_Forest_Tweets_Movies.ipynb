{
  "nbformat": 4,
  "nbformat_minor": 0,
  "metadata": {
    "colab": {
      "provenance": [],
      "authorship_tag": "ABX9TyOS0lKE+zxW7Uvsw4x4UM3G",
      "include_colab_link": true
    },
    "kernelspec": {
      "name": "python3",
      "display_name": "Python 3"
    },
    "language_info": {
      "name": "python"
    }
  },
  "cells": [
    {
      "cell_type": "markdown",
      "metadata": {
        "id": "view-in-github",
        "colab_type": "text"
      },
      "source": [
        "<a href=\"https://colab.research.google.com/github/stuned/Mestrado/blob/main/Random_Forest_Tweets_Movies.ipynb\" target=\"_parent\"><img src=\"https://colab.research.google.com/assets/colab-badge.svg\" alt=\"Open In Colab\"/></a>"
      ]
    },
    {
      "cell_type": "code",
      "execution_count": 1,
      "metadata": {
        "id": "_Fd_5P3jueK7"
      },
      "outputs": [],
      "source": [
        "import pandas as pd\n",
        "import numpy as np\n",
        "import seaborn as sns\n",
        "import matplotlib.pyplot as plt"
      ]
    },
    {
      "cell_type": "code",
      "source": [
        "! pip install -U imbalanced-learn"
      ],
      "metadata": {
        "colab": {
          "base_uri": "https://localhost:8080/"
        },
        "id": "iQmCUYWn9wqF",
        "outputId": "9a0a508c-9dbc-4480-8c36-bb28a735d015"
      },
      "execution_count": 2,
      "outputs": [
        {
          "output_type": "stream",
          "name": "stdout",
          "text": [
            "Requirement already satisfied: imbalanced-learn in /usr/local/lib/python3.10/dist-packages (0.10.1)\n",
            "Collecting imbalanced-learn\n",
            "  Downloading imbalanced_learn-0.12.2-py3-none-any.whl (257 kB)\n",
            "\u001b[2K     \u001b[90m━━━━━━━━━━━━━━━━━━━━━━━━━━━━━━━━━━━━━━━━\u001b[0m \u001b[32m258.0/258.0 kB\u001b[0m \u001b[31m4.2 MB/s\u001b[0m eta \u001b[36m0:00:00\u001b[0m\n",
            "\u001b[?25hRequirement already satisfied: numpy>=1.17.3 in /usr/local/lib/python3.10/dist-packages (from imbalanced-learn) (1.25.2)\n",
            "Requirement already satisfied: scipy>=1.5.0 in /usr/local/lib/python3.10/dist-packages (from imbalanced-learn) (1.11.4)\n",
            "Requirement already satisfied: scikit-learn>=1.0.2 in /usr/local/lib/python3.10/dist-packages (from imbalanced-learn) (1.2.2)\n",
            "Requirement already satisfied: joblib>=1.1.1 in /usr/local/lib/python3.10/dist-packages (from imbalanced-learn) (1.4.2)\n",
            "Requirement already satisfied: threadpoolctl>=2.0.0 in /usr/local/lib/python3.10/dist-packages (from imbalanced-learn) (3.5.0)\n",
            "Installing collected packages: imbalanced-learn\n",
            "  Attempting uninstall: imbalanced-learn\n",
            "    Found existing installation: imbalanced-learn 0.10.1\n",
            "    Uninstalling imbalanced-learn-0.10.1:\n",
            "      Successfully uninstalled imbalanced-learn-0.10.1\n",
            "Successfully installed imbalanced-learn-0.12.2\n"
          ]
        }
      ]
    },
    {
      "cell_type": "code",
      "source": [
        "from google.colab import drive\n",
        "drive.mount('/content/drive')"
      ],
      "metadata": {
        "colab": {
          "base_uri": "https://localhost:8080/"
        },
        "id": "j8ymPgIDutg4",
        "outputId": "cd1f07ff-1d3b-43c7-9e02-4230b7381e47"
      },
      "execution_count": 4,
      "outputs": [
        {
          "output_type": "stream",
          "name": "stdout",
          "text": [
            "Mounted at /content/drive\n"
          ]
        }
      ]
    },
    {
      "cell_type": "markdown",
      "source": [
        "### **Read data**"
      ],
      "metadata": {
        "id": "_IuyrkQo_prs"
      }
    },
    {
      "cell_type": "code",
      "source": [
        "base_filmes = pd.read_csv ('/content/drive/MyDrive/Mestrado/mestrado - base de dados/movies_full_info_merged.csv', dtype = {'index': str, 'filename': str, 'count_valid_tweets': int, 'reply_count': int, 'retweet_count': int, 'like_count': int, 'quote_count': int, 'anger': float, 'anticipation': float, 'disgust': float, 'fear': float, 'joy': float, 'love': float, 'optimism': float, 'pessimism': float, 'sadness': float, 'surprise': float, 'trust': float, 'negative': float, 'neutral': float, 'positive': float, 'FILME': str, 'ANO': int, 'REL_MONTH_NAME': str, 'REL_MONTH': int, 'REL_DAY': int, 'REL_YEAR': int, 'MARKETS': str, 'DISTRIBUTOR_GROUPED': bool, 'DISTRIBUTOR': str, 'GENRE': str, 'Drama': bool, 'Action': bool, 'Comedy': bool, 'Horror': bool, 'Adventure': bool, 'Crime': bool, 'Fantasy': bool, 'Biography': bool, 'Documentary': bool, 'Animation': bool, 'Thriller': bool, 'Mystery': bool, 'History': bool, 'Sci-Fi': bool, 'Romance': bool, 'Music': bool, 'Family': bool, 'Western': bool, 'Musical': bool, 'War': bool, 'MPAA': str, 'MPAA_BIN': bool, 'RUNTIME_HOUR': str, 'RUNTIME_MINUTES': str, 'RUNTIME': int, 'ACTOR': str, 'CREW': str, 'SINOPSE': str, 'BUDGET': float, 'DOMESTIC_OPENING': float, 'DOMESTIC_GROSS': float, 'INTERNATIONAL_GROSS': float, 'WORLDWIDE_GROSS': float, 'BUDGET_DEFLACIONADO': float, 'DOMESTIC_OPENING_DEFLACIONADO': float, 'DOMESTIC_GROSS_DEFLACIONADO': float, 'INTERNATIONAL_GROSS_DEFLACIONADO': float, 'WORLDWIDE_GROSS_DEFLACIONADO': float, 'SEQUEL': bool, 'HAVE_SEQUEL': bool, 'IS_SPINOFF': bool, 'SEQUEL_SPINOFF': bool, 'INFO': str},\n",
        "                                    engine='python',encoding='utf-8', on_bad_lines='skip', index_col=False)"
      ],
      "metadata": {
        "id": "THWRgD6Ruuc_"
      },
      "execution_count": 5,
      "outputs": []
    },
    {
      "cell_type": "code",
      "source": [
        "base_filmes_rf =  base_filmes[['count_valid_tweets', 'reply_count', 'retweet_count', 'like_count', 'quote_count', 'anger', 'anticipation', 'disgust', 'fear', 'joy', 'love', 'optimism', 'pessimism', 'sadness', 'surprise', 'trust', 'negative', 'neutral', 'positive', 'REL_MONTH', 'REL_YEAR', 'DISTRIBUTOR_GROUPED', 'Drama', 'Action', 'Comedy', 'Horror', 'Adventure', 'Crime', 'Fantasy', 'Biography', 'Documentary', 'Animation', 'Thriller', 'Mystery', 'History', 'Sci-Fi', 'Romance', 'Music', 'Family', 'Western', 'Musical', 'War', 'MPAA_BIN', 'BUDGET_DEFLACIONADO', 'DOMESTIC_OPENING_DEFLACIONADO', 'DOMESTIC_GROSS_DEFLACIONADO', 'INTERNATIONAL_GROSS_DEFLACIONADO', 'WORLDWIDE_GROSS_DEFLACIONADO', 'HAVE_SEQUEL']]\n",
        "# tirar a variavel SEQUEL_SPINOFF\n",
        "# tirar a variavel RUNTIME"
      ],
      "metadata": {
        "id": "EPcrHZog5tyD"
      },
      "execution_count": 6,
      "outputs": []
    },
    {
      "cell_type": "code",
      "source": [
        "base_filmes.shape"
      ],
      "metadata": {
        "colab": {
          "base_uri": "https://localhost:8080/"
        },
        "id": "ESojh2YC9A5M",
        "outputId": "b98b4e92-7949-43c5-9989-d1e846d0369d"
      },
      "execution_count": 7,
      "outputs": [
        {
          "output_type": "execute_result",
          "data": {
            "text/plain": [
              "(386, 74)"
            ]
          },
          "metadata": {},
          "execution_count": 7
        }
      ]
    },
    {
      "cell_type": "code",
      "source": [
        "base_filmes_rf.shape"
      ],
      "metadata": {
        "colab": {
          "base_uri": "https://localhost:8080/"
        },
        "id": "KLXAuCRrKywn",
        "outputId": "ae530af3-12e2-48d6-b453-ba3c732d4ed5"
      },
      "execution_count": 8,
      "outputs": [
        {
          "output_type": "execute_result",
          "data": {
            "text/plain": [
              "(386, 49)"
            ]
          },
          "metadata": {},
          "execution_count": 8
        }
      ]
    },
    {
      "cell_type": "code",
      "source": [
        "base_filmes_rf.head()"
      ],
      "metadata": {
        "colab": {
          "base_uri": "https://localhost:8080/",
          "height": 256
        },
        "id": "SFlRoTznLNU_",
        "outputId": "2118b6a1-dab9-4fae-80c6-c0afa8ccd8ff"
      },
      "execution_count": 9,
      "outputs": [
        {
          "output_type": "execute_result",
          "data": {
            "text/plain": [
              "   count_valid_tweets  reply_count  retweet_count  like_count  quote_count  \\\n",
              "0               34152         7137          18987       49807           16   \n",
              "1                  29            5             14          22            2   \n",
              "2                 533           72            195          68            0   \n",
              "3                 749           81             73         190            0   \n",
              "4                1959          113            484        1142            7   \n",
              "\n",
              "      anger  anticipation   disgust      fear       joy  ...  Western  \\\n",
              "0  0.030253      0.285267  0.030638  0.067985  0.445574  ...    False   \n",
              "1  0.038646      0.233765  0.058740  0.489303  0.090981  ...    False   \n",
              "2  0.036060      0.333602  0.042019  0.105184  0.345716  ...    False   \n",
              "3  0.066029      0.227398  0.073734  0.073973  0.325812  ...    False   \n",
              "4  0.020444      0.291011  0.028198  0.115785  0.407732  ...    False   \n",
              "\n",
              "   Musical    War  MPAA_BIN  BUDGET_DEFLACIONADO  \\\n",
              "0    False  False      True                  0.0   \n",
              "1    False  False     False                  0.0   \n",
              "2    False  False     False                  0.0   \n",
              "3    False  False      True                  0.0   \n",
              "4    False  False     False                  0.0   \n",
              "\n",
              "   DOMESTIC_OPENING_DEFLACIONADO  DOMESTIC_GROSS_DEFLACIONADO  \\\n",
              "0                     26317981.0                   76719597.0   \n",
              "1                          997.0                       5152.0   \n",
              "2                         3805.0                       7109.0   \n",
              "3                         9994.0                      14903.0   \n",
              "4                            0.0                          0.0   \n",
              "\n",
              "   INTERNATIONAL_GROSS_DEFLACIONADO  WORLDWIDE_GROSS_DEFLACIONADO  HAVE_SEQUEL  \n",
              "0                        40586896.0                   117306493.0         True  \n",
              "1                               0.0                        5152.0        False  \n",
              "2                               0.0                        7109.0        False  \n",
              "3                          877532.0                      892435.0        False  \n",
              "4                           17111.0                       17111.0         True  \n",
              "\n",
              "[5 rows x 49 columns]"
            ],
            "text/html": [
              "\n",
              "  <div id=\"df-aa45d2d4-dece-4b3f-8fe9-995b98fd6615\" class=\"colab-df-container\">\n",
              "    <div>\n",
              "<style scoped>\n",
              "    .dataframe tbody tr th:only-of-type {\n",
              "        vertical-align: middle;\n",
              "    }\n",
              "\n",
              "    .dataframe tbody tr th {\n",
              "        vertical-align: top;\n",
              "    }\n",
              "\n",
              "    .dataframe thead th {\n",
              "        text-align: right;\n",
              "    }\n",
              "</style>\n",
              "<table border=\"1\" class=\"dataframe\">\n",
              "  <thead>\n",
              "    <tr style=\"text-align: right;\">\n",
              "      <th></th>\n",
              "      <th>count_valid_tweets</th>\n",
              "      <th>reply_count</th>\n",
              "      <th>retweet_count</th>\n",
              "      <th>like_count</th>\n",
              "      <th>quote_count</th>\n",
              "      <th>anger</th>\n",
              "      <th>anticipation</th>\n",
              "      <th>disgust</th>\n",
              "      <th>fear</th>\n",
              "      <th>joy</th>\n",
              "      <th>...</th>\n",
              "      <th>Western</th>\n",
              "      <th>Musical</th>\n",
              "      <th>War</th>\n",
              "      <th>MPAA_BIN</th>\n",
              "      <th>BUDGET_DEFLACIONADO</th>\n",
              "      <th>DOMESTIC_OPENING_DEFLACIONADO</th>\n",
              "      <th>DOMESTIC_GROSS_DEFLACIONADO</th>\n",
              "      <th>INTERNATIONAL_GROSS_DEFLACIONADO</th>\n",
              "      <th>WORLDWIDE_GROSS_DEFLACIONADO</th>\n",
              "      <th>HAVE_SEQUEL</th>\n",
              "    </tr>\n",
              "  </thead>\n",
              "  <tbody>\n",
              "    <tr>\n",
              "      <th>0</th>\n",
              "      <td>34152</td>\n",
              "      <td>7137</td>\n",
              "      <td>18987</td>\n",
              "      <td>49807</td>\n",
              "      <td>16</td>\n",
              "      <td>0.030253</td>\n",
              "      <td>0.285267</td>\n",
              "      <td>0.030638</td>\n",
              "      <td>0.067985</td>\n",
              "      <td>0.445574</td>\n",
              "      <td>...</td>\n",
              "      <td>False</td>\n",
              "      <td>False</td>\n",
              "      <td>False</td>\n",
              "      <td>True</td>\n",
              "      <td>0.0</td>\n",
              "      <td>26317981.0</td>\n",
              "      <td>76719597.0</td>\n",
              "      <td>40586896.0</td>\n",
              "      <td>117306493.0</td>\n",
              "      <td>True</td>\n",
              "    </tr>\n",
              "    <tr>\n",
              "      <th>1</th>\n",
              "      <td>29</td>\n",
              "      <td>5</td>\n",
              "      <td>14</td>\n",
              "      <td>22</td>\n",
              "      <td>2</td>\n",
              "      <td>0.038646</td>\n",
              "      <td>0.233765</td>\n",
              "      <td>0.058740</td>\n",
              "      <td>0.489303</td>\n",
              "      <td>0.090981</td>\n",
              "      <td>...</td>\n",
              "      <td>False</td>\n",
              "      <td>False</td>\n",
              "      <td>False</td>\n",
              "      <td>False</td>\n",
              "      <td>0.0</td>\n",
              "      <td>997.0</td>\n",
              "      <td>5152.0</td>\n",
              "      <td>0.0</td>\n",
              "      <td>5152.0</td>\n",
              "      <td>False</td>\n",
              "    </tr>\n",
              "    <tr>\n",
              "      <th>2</th>\n",
              "      <td>533</td>\n",
              "      <td>72</td>\n",
              "      <td>195</td>\n",
              "      <td>68</td>\n",
              "      <td>0</td>\n",
              "      <td>0.036060</td>\n",
              "      <td>0.333602</td>\n",
              "      <td>0.042019</td>\n",
              "      <td>0.105184</td>\n",
              "      <td>0.345716</td>\n",
              "      <td>...</td>\n",
              "      <td>False</td>\n",
              "      <td>False</td>\n",
              "      <td>False</td>\n",
              "      <td>False</td>\n",
              "      <td>0.0</td>\n",
              "      <td>3805.0</td>\n",
              "      <td>7109.0</td>\n",
              "      <td>0.0</td>\n",
              "      <td>7109.0</td>\n",
              "      <td>False</td>\n",
              "    </tr>\n",
              "    <tr>\n",
              "      <th>3</th>\n",
              "      <td>749</td>\n",
              "      <td>81</td>\n",
              "      <td>73</td>\n",
              "      <td>190</td>\n",
              "      <td>0</td>\n",
              "      <td>0.066029</td>\n",
              "      <td>0.227398</td>\n",
              "      <td>0.073734</td>\n",
              "      <td>0.073973</td>\n",
              "      <td>0.325812</td>\n",
              "      <td>...</td>\n",
              "      <td>False</td>\n",
              "      <td>False</td>\n",
              "      <td>False</td>\n",
              "      <td>True</td>\n",
              "      <td>0.0</td>\n",
              "      <td>9994.0</td>\n",
              "      <td>14903.0</td>\n",
              "      <td>877532.0</td>\n",
              "      <td>892435.0</td>\n",
              "      <td>False</td>\n",
              "    </tr>\n",
              "    <tr>\n",
              "      <th>4</th>\n",
              "      <td>1959</td>\n",
              "      <td>113</td>\n",
              "      <td>484</td>\n",
              "      <td>1142</td>\n",
              "      <td>7</td>\n",
              "      <td>0.020444</td>\n",
              "      <td>0.291011</td>\n",
              "      <td>0.028198</td>\n",
              "      <td>0.115785</td>\n",
              "      <td>0.407732</td>\n",
              "      <td>...</td>\n",
              "      <td>False</td>\n",
              "      <td>False</td>\n",
              "      <td>False</td>\n",
              "      <td>False</td>\n",
              "      <td>0.0</td>\n",
              "      <td>0.0</td>\n",
              "      <td>0.0</td>\n",
              "      <td>17111.0</td>\n",
              "      <td>17111.0</td>\n",
              "      <td>True</td>\n",
              "    </tr>\n",
              "  </tbody>\n",
              "</table>\n",
              "<p>5 rows × 49 columns</p>\n",
              "</div>\n",
              "    <div class=\"colab-df-buttons\">\n",
              "\n",
              "  <div class=\"colab-df-container\">\n",
              "    <button class=\"colab-df-convert\" onclick=\"convertToInteractive('df-aa45d2d4-dece-4b3f-8fe9-995b98fd6615')\"\n",
              "            title=\"Convert this dataframe to an interactive table.\"\n",
              "            style=\"display:none;\">\n",
              "\n",
              "  <svg xmlns=\"http://www.w3.org/2000/svg\" height=\"24px\" viewBox=\"0 -960 960 960\">\n",
              "    <path d=\"M120-120v-720h720v720H120Zm60-500h600v-160H180v160Zm220 220h160v-160H400v160Zm0 220h160v-160H400v160ZM180-400h160v-160H180v160Zm440 0h160v-160H620v160ZM180-180h160v-160H180v160Zm440 0h160v-160H620v160Z\"/>\n",
              "  </svg>\n",
              "    </button>\n",
              "\n",
              "  <style>\n",
              "    .colab-df-container {\n",
              "      display:flex;\n",
              "      gap: 12px;\n",
              "    }\n",
              "\n",
              "    .colab-df-convert {\n",
              "      background-color: #E8F0FE;\n",
              "      border: none;\n",
              "      border-radius: 50%;\n",
              "      cursor: pointer;\n",
              "      display: none;\n",
              "      fill: #1967D2;\n",
              "      height: 32px;\n",
              "      padding: 0 0 0 0;\n",
              "      width: 32px;\n",
              "    }\n",
              "\n",
              "    .colab-df-convert:hover {\n",
              "      background-color: #E2EBFA;\n",
              "      box-shadow: 0px 1px 2px rgba(60, 64, 67, 0.3), 0px 1px 3px 1px rgba(60, 64, 67, 0.15);\n",
              "      fill: #174EA6;\n",
              "    }\n",
              "\n",
              "    .colab-df-buttons div {\n",
              "      margin-bottom: 4px;\n",
              "    }\n",
              "\n",
              "    [theme=dark] .colab-df-convert {\n",
              "      background-color: #3B4455;\n",
              "      fill: #D2E3FC;\n",
              "    }\n",
              "\n",
              "    [theme=dark] .colab-df-convert:hover {\n",
              "      background-color: #434B5C;\n",
              "      box-shadow: 0px 1px 3px 1px rgba(0, 0, 0, 0.15);\n",
              "      filter: drop-shadow(0px 1px 2px rgba(0, 0, 0, 0.3));\n",
              "      fill: #FFFFFF;\n",
              "    }\n",
              "  </style>\n",
              "\n",
              "    <script>\n",
              "      const buttonEl =\n",
              "        document.querySelector('#df-aa45d2d4-dece-4b3f-8fe9-995b98fd6615 button.colab-df-convert');\n",
              "      buttonEl.style.display =\n",
              "        google.colab.kernel.accessAllowed ? 'block' : 'none';\n",
              "\n",
              "      async function convertToInteractive(key) {\n",
              "        const element = document.querySelector('#df-aa45d2d4-dece-4b3f-8fe9-995b98fd6615');\n",
              "        const dataTable =\n",
              "          await google.colab.kernel.invokeFunction('convertToInteractive',\n",
              "                                                    [key], {});\n",
              "        if (!dataTable) return;\n",
              "\n",
              "        const docLinkHtml = 'Like what you see? Visit the ' +\n",
              "          '<a target=\"_blank\" href=https://colab.research.google.com/notebooks/data_table.ipynb>data table notebook</a>'\n",
              "          + ' to learn more about interactive tables.';\n",
              "        element.innerHTML = '';\n",
              "        dataTable['output_type'] = 'display_data';\n",
              "        await google.colab.output.renderOutput(dataTable, element);\n",
              "        const docLink = document.createElement('div');\n",
              "        docLink.innerHTML = docLinkHtml;\n",
              "        element.appendChild(docLink);\n",
              "      }\n",
              "    </script>\n",
              "  </div>\n",
              "\n",
              "\n",
              "<div id=\"df-0cc09f37-7f7a-41f2-9cbc-ce0a332f702b\">\n",
              "  <button class=\"colab-df-quickchart\" onclick=\"quickchart('df-0cc09f37-7f7a-41f2-9cbc-ce0a332f702b')\"\n",
              "            title=\"Suggest charts\"\n",
              "            style=\"display:none;\">\n",
              "\n",
              "<svg xmlns=\"http://www.w3.org/2000/svg\" height=\"24px\"viewBox=\"0 0 24 24\"\n",
              "     width=\"24px\">\n",
              "    <g>\n",
              "        <path d=\"M19 3H5c-1.1 0-2 .9-2 2v14c0 1.1.9 2 2 2h14c1.1 0 2-.9 2-2V5c0-1.1-.9-2-2-2zM9 17H7v-7h2v7zm4 0h-2V7h2v10zm4 0h-2v-4h2v4z\"/>\n",
              "    </g>\n",
              "</svg>\n",
              "  </button>\n",
              "\n",
              "<style>\n",
              "  .colab-df-quickchart {\n",
              "      --bg-color: #E8F0FE;\n",
              "      --fill-color: #1967D2;\n",
              "      --hover-bg-color: #E2EBFA;\n",
              "      --hover-fill-color: #174EA6;\n",
              "      --disabled-fill-color: #AAA;\n",
              "      --disabled-bg-color: #DDD;\n",
              "  }\n",
              "\n",
              "  [theme=dark] .colab-df-quickchart {\n",
              "      --bg-color: #3B4455;\n",
              "      --fill-color: #D2E3FC;\n",
              "      --hover-bg-color: #434B5C;\n",
              "      --hover-fill-color: #FFFFFF;\n",
              "      --disabled-bg-color: #3B4455;\n",
              "      --disabled-fill-color: #666;\n",
              "  }\n",
              "\n",
              "  .colab-df-quickchart {\n",
              "    background-color: var(--bg-color);\n",
              "    border: none;\n",
              "    border-radius: 50%;\n",
              "    cursor: pointer;\n",
              "    display: none;\n",
              "    fill: var(--fill-color);\n",
              "    height: 32px;\n",
              "    padding: 0;\n",
              "    width: 32px;\n",
              "  }\n",
              "\n",
              "  .colab-df-quickchart:hover {\n",
              "    background-color: var(--hover-bg-color);\n",
              "    box-shadow: 0 1px 2px rgba(60, 64, 67, 0.3), 0 1px 3px 1px rgba(60, 64, 67, 0.15);\n",
              "    fill: var(--button-hover-fill-color);\n",
              "  }\n",
              "\n",
              "  .colab-df-quickchart-complete:disabled,\n",
              "  .colab-df-quickchart-complete:disabled:hover {\n",
              "    background-color: var(--disabled-bg-color);\n",
              "    fill: var(--disabled-fill-color);\n",
              "    box-shadow: none;\n",
              "  }\n",
              "\n",
              "  .colab-df-spinner {\n",
              "    border: 2px solid var(--fill-color);\n",
              "    border-color: transparent;\n",
              "    border-bottom-color: var(--fill-color);\n",
              "    animation:\n",
              "      spin 1s steps(1) infinite;\n",
              "  }\n",
              "\n",
              "  @keyframes spin {\n",
              "    0% {\n",
              "      border-color: transparent;\n",
              "      border-bottom-color: var(--fill-color);\n",
              "      border-left-color: var(--fill-color);\n",
              "    }\n",
              "    20% {\n",
              "      border-color: transparent;\n",
              "      border-left-color: var(--fill-color);\n",
              "      border-top-color: var(--fill-color);\n",
              "    }\n",
              "    30% {\n",
              "      border-color: transparent;\n",
              "      border-left-color: var(--fill-color);\n",
              "      border-top-color: var(--fill-color);\n",
              "      border-right-color: var(--fill-color);\n",
              "    }\n",
              "    40% {\n",
              "      border-color: transparent;\n",
              "      border-right-color: var(--fill-color);\n",
              "      border-top-color: var(--fill-color);\n",
              "    }\n",
              "    60% {\n",
              "      border-color: transparent;\n",
              "      border-right-color: var(--fill-color);\n",
              "    }\n",
              "    80% {\n",
              "      border-color: transparent;\n",
              "      border-right-color: var(--fill-color);\n",
              "      border-bottom-color: var(--fill-color);\n",
              "    }\n",
              "    90% {\n",
              "      border-color: transparent;\n",
              "      border-bottom-color: var(--fill-color);\n",
              "    }\n",
              "  }\n",
              "</style>\n",
              "\n",
              "  <script>\n",
              "    async function quickchart(key) {\n",
              "      const quickchartButtonEl =\n",
              "        document.querySelector('#' + key + ' button');\n",
              "      quickchartButtonEl.disabled = true;  // To prevent multiple clicks.\n",
              "      quickchartButtonEl.classList.add('colab-df-spinner');\n",
              "      try {\n",
              "        const charts = await google.colab.kernel.invokeFunction(\n",
              "            'suggestCharts', [key], {});\n",
              "      } catch (error) {\n",
              "        console.error('Error during call to suggestCharts:', error);\n",
              "      }\n",
              "      quickchartButtonEl.classList.remove('colab-df-spinner');\n",
              "      quickchartButtonEl.classList.add('colab-df-quickchart-complete');\n",
              "    }\n",
              "    (() => {\n",
              "      let quickchartButtonEl =\n",
              "        document.querySelector('#df-0cc09f37-7f7a-41f2-9cbc-ce0a332f702b button');\n",
              "      quickchartButtonEl.style.display =\n",
              "        google.colab.kernel.accessAllowed ? 'block' : 'none';\n",
              "    })();\n",
              "  </script>\n",
              "</div>\n",
              "\n",
              "    </div>\n",
              "  </div>\n"
            ],
            "application/vnd.google.colaboratory.intrinsic+json": {
              "type": "dataframe",
              "variable_name": "base_filmes_rf"
            }
          },
          "metadata": {},
          "execution_count": 9
        }
      ]
    },
    {
      "cell_type": "code",
      "source": [
        "base_filmes_rf.tail()"
      ],
      "metadata": {
        "colab": {
          "base_uri": "https://localhost:8080/",
          "height": 256
        },
        "id": "RkcA72Is9D3R",
        "outputId": "d8d4117f-c83b-4665-c89f-90cc21df7b53"
      },
      "execution_count": 10,
      "outputs": [
        {
          "output_type": "execute_result",
          "data": {
            "text/plain": [
              "     count_valid_tweets  reply_count  retweet_count  like_count  quote_count  \\\n",
              "381               12441         6738          15803      116058         2528   \n",
              "382               23195         4467          17402       27019            4   \n",
              "383                  18            2              2           1            0   \n",
              "384                   7            0              0           6            0   \n",
              "385                   6            0              0           2            0   \n",
              "\n",
              "        anger  anticipation   disgust      fear       joy  ...  Western  \\\n",
              "381  0.110069      0.171559  0.088389  0.095887  0.359749  ...    False   \n",
              "382  0.042608      0.272256  0.041041  0.022116  0.476920  ...    False   \n",
              "383  0.017707      0.209200  0.030825  0.017051  0.543696  ...    False   \n",
              "384  0.037765      0.198211  0.047191  0.032719  0.494483  ...    False   \n",
              "385  0.052179      0.189661  0.045509  0.168379  0.472248  ...    False   \n",
              "\n",
              "     Musical    War  MPAA_BIN  BUDGET_DEFLACIONADO  \\\n",
              "381    False  False      True           20000000.0   \n",
              "382    False  False      True                  0.0   \n",
              "383    False  False      True           38377683.0   \n",
              "384    False  False      True          208335993.0   \n",
              "385    False  False     False                  0.0   \n",
              "\n",
              "     DOMESTIC_OPENING_DEFLACIONADO  DOMESTIC_GROSS_DEFLACIONADO  \\\n",
              "381                     71117625.0                  175005930.0   \n",
              "382                      4232490.0                    8409395.0   \n",
              "383                     22318231.0                   72786743.0   \n",
              "384                     72820923.0                  221888481.0   \n",
              "385                            0.0                          0.0   \n",
              "\n",
              "     INTERNATIONAL_GROSS_DEFLACIONADO  WORLDWIDE_GROSS_DEFLACIONADO  \\\n",
              "381                        80100000.0                   255105930.0   \n",
              "382                         8202204.0                    16611599.0   \n",
              "383                        55483164.0                   128269907.0   \n",
              "384                       370232978.0                   592121460.0   \n",
              "385                            5439.0                        5439.0   \n",
              "\n",
              "     HAVE_SEQUEL  \n",
              "381        False  \n",
              "382        False  \n",
              "383        False  \n",
              "384        False  \n",
              "385        False  \n",
              "\n",
              "[5 rows x 49 columns]"
            ],
            "text/html": [
              "\n",
              "  <div id=\"df-d07d7ac2-84e3-4002-af23-f7eb83765a9c\" class=\"colab-df-container\">\n",
              "    <div>\n",
              "<style scoped>\n",
              "    .dataframe tbody tr th:only-of-type {\n",
              "        vertical-align: middle;\n",
              "    }\n",
              "\n",
              "    .dataframe tbody tr th {\n",
              "        vertical-align: top;\n",
              "    }\n",
              "\n",
              "    .dataframe thead th {\n",
              "        text-align: right;\n",
              "    }\n",
              "</style>\n",
              "<table border=\"1\" class=\"dataframe\">\n",
              "  <thead>\n",
              "    <tr style=\"text-align: right;\">\n",
              "      <th></th>\n",
              "      <th>count_valid_tweets</th>\n",
              "      <th>reply_count</th>\n",
              "      <th>retweet_count</th>\n",
              "      <th>like_count</th>\n",
              "      <th>quote_count</th>\n",
              "      <th>anger</th>\n",
              "      <th>anticipation</th>\n",
              "      <th>disgust</th>\n",
              "      <th>fear</th>\n",
              "      <th>joy</th>\n",
              "      <th>...</th>\n",
              "      <th>Western</th>\n",
              "      <th>Musical</th>\n",
              "      <th>War</th>\n",
              "      <th>MPAA_BIN</th>\n",
              "      <th>BUDGET_DEFLACIONADO</th>\n",
              "      <th>DOMESTIC_OPENING_DEFLACIONADO</th>\n",
              "      <th>DOMESTIC_GROSS_DEFLACIONADO</th>\n",
              "      <th>INTERNATIONAL_GROSS_DEFLACIONADO</th>\n",
              "      <th>WORLDWIDE_GROSS_DEFLACIONADO</th>\n",
              "      <th>HAVE_SEQUEL</th>\n",
              "    </tr>\n",
              "  </thead>\n",
              "  <tbody>\n",
              "    <tr>\n",
              "      <th>381</th>\n",
              "      <td>12441</td>\n",
              "      <td>6738</td>\n",
              "      <td>15803</td>\n",
              "      <td>116058</td>\n",
              "      <td>2528</td>\n",
              "      <td>0.110069</td>\n",
              "      <td>0.171559</td>\n",
              "      <td>0.088389</td>\n",
              "      <td>0.095887</td>\n",
              "      <td>0.359749</td>\n",
              "      <td>...</td>\n",
              "      <td>False</td>\n",
              "      <td>False</td>\n",
              "      <td>False</td>\n",
              "      <td>True</td>\n",
              "      <td>20000000.0</td>\n",
              "      <td>71117625.0</td>\n",
              "      <td>175005930.0</td>\n",
              "      <td>80100000.0</td>\n",
              "      <td>255105930.0</td>\n",
              "      <td>False</td>\n",
              "    </tr>\n",
              "    <tr>\n",
              "      <th>382</th>\n",
              "      <td>23195</td>\n",
              "      <td>4467</td>\n",
              "      <td>17402</td>\n",
              "      <td>27019</td>\n",
              "      <td>4</td>\n",
              "      <td>0.042608</td>\n",
              "      <td>0.272256</td>\n",
              "      <td>0.041041</td>\n",
              "      <td>0.022116</td>\n",
              "      <td>0.476920</td>\n",
              "      <td>...</td>\n",
              "      <td>False</td>\n",
              "      <td>False</td>\n",
              "      <td>False</td>\n",
              "      <td>True</td>\n",
              "      <td>0.0</td>\n",
              "      <td>4232490.0</td>\n",
              "      <td>8409395.0</td>\n",
              "      <td>8202204.0</td>\n",
              "      <td>16611599.0</td>\n",
              "      <td>False</td>\n",
              "    </tr>\n",
              "    <tr>\n",
              "      <th>383</th>\n",
              "      <td>18</td>\n",
              "      <td>2</td>\n",
              "      <td>2</td>\n",
              "      <td>1</td>\n",
              "      <td>0</td>\n",
              "      <td>0.017707</td>\n",
              "      <td>0.209200</td>\n",
              "      <td>0.030825</td>\n",
              "      <td>0.017051</td>\n",
              "      <td>0.543696</td>\n",
              "      <td>...</td>\n",
              "      <td>False</td>\n",
              "      <td>False</td>\n",
              "      <td>False</td>\n",
              "      <td>True</td>\n",
              "      <td>38377683.0</td>\n",
              "      <td>22318231.0</td>\n",
              "      <td>72786743.0</td>\n",
              "      <td>55483164.0</td>\n",
              "      <td>128269907.0</td>\n",
              "      <td>False</td>\n",
              "    </tr>\n",
              "    <tr>\n",
              "      <th>384</th>\n",
              "      <td>7</td>\n",
              "      <td>0</td>\n",
              "      <td>0</td>\n",
              "      <td>6</td>\n",
              "      <td>0</td>\n",
              "      <td>0.037765</td>\n",
              "      <td>0.198211</td>\n",
              "      <td>0.047191</td>\n",
              "      <td>0.032719</td>\n",
              "      <td>0.494483</td>\n",
              "      <td>...</td>\n",
              "      <td>False</td>\n",
              "      <td>False</td>\n",
              "      <td>False</td>\n",
              "      <td>True</td>\n",
              "      <td>208335993.0</td>\n",
              "      <td>72820923.0</td>\n",
              "      <td>221888481.0</td>\n",
              "      <td>370232978.0</td>\n",
              "      <td>592121460.0</td>\n",
              "      <td>False</td>\n",
              "    </tr>\n",
              "    <tr>\n",
              "      <th>385</th>\n",
              "      <td>6</td>\n",
              "      <td>0</td>\n",
              "      <td>0</td>\n",
              "      <td>2</td>\n",
              "      <td>0</td>\n",
              "      <td>0.052179</td>\n",
              "      <td>0.189661</td>\n",
              "      <td>0.045509</td>\n",
              "      <td>0.168379</td>\n",
              "      <td>0.472248</td>\n",
              "      <td>...</td>\n",
              "      <td>False</td>\n",
              "      <td>False</td>\n",
              "      <td>False</td>\n",
              "      <td>False</td>\n",
              "      <td>0.0</td>\n",
              "      <td>0.0</td>\n",
              "      <td>0.0</td>\n",
              "      <td>5439.0</td>\n",
              "      <td>5439.0</td>\n",
              "      <td>False</td>\n",
              "    </tr>\n",
              "  </tbody>\n",
              "</table>\n",
              "<p>5 rows × 49 columns</p>\n",
              "</div>\n",
              "    <div class=\"colab-df-buttons\">\n",
              "\n",
              "  <div class=\"colab-df-container\">\n",
              "    <button class=\"colab-df-convert\" onclick=\"convertToInteractive('df-d07d7ac2-84e3-4002-af23-f7eb83765a9c')\"\n",
              "            title=\"Convert this dataframe to an interactive table.\"\n",
              "            style=\"display:none;\">\n",
              "\n",
              "  <svg xmlns=\"http://www.w3.org/2000/svg\" height=\"24px\" viewBox=\"0 -960 960 960\">\n",
              "    <path d=\"M120-120v-720h720v720H120Zm60-500h600v-160H180v160Zm220 220h160v-160H400v160Zm0 220h160v-160H400v160ZM180-400h160v-160H180v160Zm440 0h160v-160H620v160ZM180-180h160v-160H180v160Zm440 0h160v-160H620v160Z\"/>\n",
              "  </svg>\n",
              "    </button>\n",
              "\n",
              "  <style>\n",
              "    .colab-df-container {\n",
              "      display:flex;\n",
              "      gap: 12px;\n",
              "    }\n",
              "\n",
              "    .colab-df-convert {\n",
              "      background-color: #E8F0FE;\n",
              "      border: none;\n",
              "      border-radius: 50%;\n",
              "      cursor: pointer;\n",
              "      display: none;\n",
              "      fill: #1967D2;\n",
              "      height: 32px;\n",
              "      padding: 0 0 0 0;\n",
              "      width: 32px;\n",
              "    }\n",
              "\n",
              "    .colab-df-convert:hover {\n",
              "      background-color: #E2EBFA;\n",
              "      box-shadow: 0px 1px 2px rgba(60, 64, 67, 0.3), 0px 1px 3px 1px rgba(60, 64, 67, 0.15);\n",
              "      fill: #174EA6;\n",
              "    }\n",
              "\n",
              "    .colab-df-buttons div {\n",
              "      margin-bottom: 4px;\n",
              "    }\n",
              "\n",
              "    [theme=dark] .colab-df-convert {\n",
              "      background-color: #3B4455;\n",
              "      fill: #D2E3FC;\n",
              "    }\n",
              "\n",
              "    [theme=dark] .colab-df-convert:hover {\n",
              "      background-color: #434B5C;\n",
              "      box-shadow: 0px 1px 3px 1px rgba(0, 0, 0, 0.15);\n",
              "      filter: drop-shadow(0px 1px 2px rgba(0, 0, 0, 0.3));\n",
              "      fill: #FFFFFF;\n",
              "    }\n",
              "  </style>\n",
              "\n",
              "    <script>\n",
              "      const buttonEl =\n",
              "        document.querySelector('#df-d07d7ac2-84e3-4002-af23-f7eb83765a9c button.colab-df-convert');\n",
              "      buttonEl.style.display =\n",
              "        google.colab.kernel.accessAllowed ? 'block' : 'none';\n",
              "\n",
              "      async function convertToInteractive(key) {\n",
              "        const element = document.querySelector('#df-d07d7ac2-84e3-4002-af23-f7eb83765a9c');\n",
              "        const dataTable =\n",
              "          await google.colab.kernel.invokeFunction('convertToInteractive',\n",
              "                                                    [key], {});\n",
              "        if (!dataTable) return;\n",
              "\n",
              "        const docLinkHtml = 'Like what you see? Visit the ' +\n",
              "          '<a target=\"_blank\" href=https://colab.research.google.com/notebooks/data_table.ipynb>data table notebook</a>'\n",
              "          + ' to learn more about interactive tables.';\n",
              "        element.innerHTML = '';\n",
              "        dataTable['output_type'] = 'display_data';\n",
              "        await google.colab.output.renderOutput(dataTable, element);\n",
              "        const docLink = document.createElement('div');\n",
              "        docLink.innerHTML = docLinkHtml;\n",
              "        element.appendChild(docLink);\n",
              "      }\n",
              "    </script>\n",
              "  </div>\n",
              "\n",
              "\n",
              "<div id=\"df-bf251031-f263-4e5e-b1ff-096342f0f8a6\">\n",
              "  <button class=\"colab-df-quickchart\" onclick=\"quickchart('df-bf251031-f263-4e5e-b1ff-096342f0f8a6')\"\n",
              "            title=\"Suggest charts\"\n",
              "            style=\"display:none;\">\n",
              "\n",
              "<svg xmlns=\"http://www.w3.org/2000/svg\" height=\"24px\"viewBox=\"0 0 24 24\"\n",
              "     width=\"24px\">\n",
              "    <g>\n",
              "        <path d=\"M19 3H5c-1.1 0-2 .9-2 2v14c0 1.1.9 2 2 2h14c1.1 0 2-.9 2-2V5c0-1.1-.9-2-2-2zM9 17H7v-7h2v7zm4 0h-2V7h2v10zm4 0h-2v-4h2v4z\"/>\n",
              "    </g>\n",
              "</svg>\n",
              "  </button>\n",
              "\n",
              "<style>\n",
              "  .colab-df-quickchart {\n",
              "      --bg-color: #E8F0FE;\n",
              "      --fill-color: #1967D2;\n",
              "      --hover-bg-color: #E2EBFA;\n",
              "      --hover-fill-color: #174EA6;\n",
              "      --disabled-fill-color: #AAA;\n",
              "      --disabled-bg-color: #DDD;\n",
              "  }\n",
              "\n",
              "  [theme=dark] .colab-df-quickchart {\n",
              "      --bg-color: #3B4455;\n",
              "      --fill-color: #D2E3FC;\n",
              "      --hover-bg-color: #434B5C;\n",
              "      --hover-fill-color: #FFFFFF;\n",
              "      --disabled-bg-color: #3B4455;\n",
              "      --disabled-fill-color: #666;\n",
              "  }\n",
              "\n",
              "  .colab-df-quickchart {\n",
              "    background-color: var(--bg-color);\n",
              "    border: none;\n",
              "    border-radius: 50%;\n",
              "    cursor: pointer;\n",
              "    display: none;\n",
              "    fill: var(--fill-color);\n",
              "    height: 32px;\n",
              "    padding: 0;\n",
              "    width: 32px;\n",
              "  }\n",
              "\n",
              "  .colab-df-quickchart:hover {\n",
              "    background-color: var(--hover-bg-color);\n",
              "    box-shadow: 0 1px 2px rgba(60, 64, 67, 0.3), 0 1px 3px 1px rgba(60, 64, 67, 0.15);\n",
              "    fill: var(--button-hover-fill-color);\n",
              "  }\n",
              "\n",
              "  .colab-df-quickchart-complete:disabled,\n",
              "  .colab-df-quickchart-complete:disabled:hover {\n",
              "    background-color: var(--disabled-bg-color);\n",
              "    fill: var(--disabled-fill-color);\n",
              "    box-shadow: none;\n",
              "  }\n",
              "\n",
              "  .colab-df-spinner {\n",
              "    border: 2px solid var(--fill-color);\n",
              "    border-color: transparent;\n",
              "    border-bottom-color: var(--fill-color);\n",
              "    animation:\n",
              "      spin 1s steps(1) infinite;\n",
              "  }\n",
              "\n",
              "  @keyframes spin {\n",
              "    0% {\n",
              "      border-color: transparent;\n",
              "      border-bottom-color: var(--fill-color);\n",
              "      border-left-color: var(--fill-color);\n",
              "    }\n",
              "    20% {\n",
              "      border-color: transparent;\n",
              "      border-left-color: var(--fill-color);\n",
              "      border-top-color: var(--fill-color);\n",
              "    }\n",
              "    30% {\n",
              "      border-color: transparent;\n",
              "      border-left-color: var(--fill-color);\n",
              "      border-top-color: var(--fill-color);\n",
              "      border-right-color: var(--fill-color);\n",
              "    }\n",
              "    40% {\n",
              "      border-color: transparent;\n",
              "      border-right-color: var(--fill-color);\n",
              "      border-top-color: var(--fill-color);\n",
              "    }\n",
              "    60% {\n",
              "      border-color: transparent;\n",
              "      border-right-color: var(--fill-color);\n",
              "    }\n",
              "    80% {\n",
              "      border-color: transparent;\n",
              "      border-right-color: var(--fill-color);\n",
              "      border-bottom-color: var(--fill-color);\n",
              "    }\n",
              "    90% {\n",
              "      border-color: transparent;\n",
              "      border-bottom-color: var(--fill-color);\n",
              "    }\n",
              "  }\n",
              "</style>\n",
              "\n",
              "  <script>\n",
              "    async function quickchart(key) {\n",
              "      const quickchartButtonEl =\n",
              "        document.querySelector('#' + key + ' button');\n",
              "      quickchartButtonEl.disabled = true;  // To prevent multiple clicks.\n",
              "      quickchartButtonEl.classList.add('colab-df-spinner');\n",
              "      try {\n",
              "        const charts = await google.colab.kernel.invokeFunction(\n",
              "            'suggestCharts', [key], {});\n",
              "      } catch (error) {\n",
              "        console.error('Error during call to suggestCharts:', error);\n",
              "      }\n",
              "      quickchartButtonEl.classList.remove('colab-df-spinner');\n",
              "      quickchartButtonEl.classList.add('colab-df-quickchart-complete');\n",
              "    }\n",
              "    (() => {\n",
              "      let quickchartButtonEl =\n",
              "        document.querySelector('#df-bf251031-f263-4e5e-b1ff-096342f0f8a6 button');\n",
              "      quickchartButtonEl.style.display =\n",
              "        google.colab.kernel.accessAllowed ? 'block' : 'none';\n",
              "    })();\n",
              "  </script>\n",
              "</div>\n",
              "\n",
              "    </div>\n",
              "  </div>\n"
            ],
            "application/vnd.google.colaboratory.intrinsic+json": {
              "type": "dataframe"
            }
          },
          "metadata": {},
          "execution_count": 10
        }
      ]
    },
    {
      "cell_type": "code",
      "source": [
        "base_filmes_rf.info()"
      ],
      "metadata": {
        "colab": {
          "base_uri": "https://localhost:8080/"
        },
        "id": "Opi-WibZ9Hqw",
        "outputId": "6d7d4354-ce2f-42a9-a762-12a5e19bb525"
      },
      "execution_count": 11,
      "outputs": [
        {
          "output_type": "stream",
          "name": "stdout",
          "text": [
            "<class 'pandas.core.frame.DataFrame'>\n",
            "RangeIndex: 386 entries, 0 to 385\n",
            "Data columns (total 49 columns):\n",
            " #   Column                            Non-Null Count  Dtype  \n",
            "---  ------                            --------------  -----  \n",
            " 0   count_valid_tweets                386 non-null    int64  \n",
            " 1   reply_count                       386 non-null    int64  \n",
            " 2   retweet_count                     386 non-null    int64  \n",
            " 3   like_count                        386 non-null    int64  \n",
            " 4   quote_count                       386 non-null    int64  \n",
            " 5   anger                             386 non-null    float64\n",
            " 6   anticipation                      386 non-null    float64\n",
            " 7   disgust                           386 non-null    float64\n",
            " 8   fear                              386 non-null    float64\n",
            " 9   joy                               386 non-null    float64\n",
            " 10  love                              386 non-null    float64\n",
            " 11  optimism                          386 non-null    float64\n",
            " 12  pessimism                         386 non-null    float64\n",
            " 13  sadness                           386 non-null    float64\n",
            " 14  surprise                          386 non-null    float64\n",
            " 15  trust                             386 non-null    float64\n",
            " 16  negative                          386 non-null    float64\n",
            " 17  neutral                           386 non-null    float64\n",
            " 18  positive                          386 non-null    float64\n",
            " 19  REL_MONTH                         386 non-null    int64  \n",
            " 20  REL_YEAR                          386 non-null    int64  \n",
            " 21  DISTRIBUTOR_GROUPED               386 non-null    bool   \n",
            " 22  Drama                             386 non-null    bool   \n",
            " 23  Action                            386 non-null    bool   \n",
            " 24  Comedy                            386 non-null    bool   \n",
            " 25  Horror                            386 non-null    bool   \n",
            " 26  Adventure                         386 non-null    bool   \n",
            " 27  Crime                             386 non-null    bool   \n",
            " 28  Fantasy                           386 non-null    bool   \n",
            " 29  Biography                         386 non-null    bool   \n",
            " 30  Documentary                       386 non-null    bool   \n",
            " 31  Animation                         386 non-null    bool   \n",
            " 32  Thriller                          386 non-null    bool   \n",
            " 33  Mystery                           386 non-null    bool   \n",
            " 34  History                           386 non-null    bool   \n",
            " 35  Sci-Fi                            386 non-null    bool   \n",
            " 36  Romance                           386 non-null    bool   \n",
            " 37  Music                             386 non-null    bool   \n",
            " 38  Family                            386 non-null    bool   \n",
            " 39  Western                           386 non-null    bool   \n",
            " 40  Musical                           386 non-null    bool   \n",
            " 41  War                               386 non-null    bool   \n",
            " 42  MPAA_BIN                          386 non-null    bool   \n",
            " 43  BUDGET_DEFLACIONADO               386 non-null    float64\n",
            " 44  DOMESTIC_OPENING_DEFLACIONADO     386 non-null    float64\n",
            " 45  DOMESTIC_GROSS_DEFLACIONADO       386 non-null    float64\n",
            " 46  INTERNATIONAL_GROSS_DEFLACIONADO  386 non-null    float64\n",
            " 47  WORLDWIDE_GROSS_DEFLACIONADO      386 non-null    float64\n",
            " 48  HAVE_SEQUEL                       386 non-null    bool   \n",
            "dtypes: bool(23), float64(19), int64(7)\n",
            "memory usage: 87.2 KB\n"
          ]
        }
      ]
    },
    {
      "cell_type": "code",
      "source": [
        "base_filmes_rf.describe()"
      ],
      "metadata": {
        "colab": {
          "base_uri": "https://localhost:8080/",
          "height": 350
        },
        "id": "QJp4rpJa9J4L",
        "outputId": "7bd89b42-a194-4309-9d19-4158460807a1"
      },
      "execution_count": 12,
      "outputs": [
        {
          "output_type": "execute_result",
          "data": {
            "text/plain": [
              "       count_valid_tweets    reply_count  retweet_count    like_count  \\\n",
              "count          386.000000     386.000000     386.000000  3.860000e+02   \n",
              "mean         11758.888601    3453.800518   10816.608808  3.093259e+04   \n",
              "std          48957.030015   14578.212438   45778.359952  1.320501e+05   \n",
              "min              1.000000       0.000000       0.000000  0.000000e+00   \n",
              "25%            120.500000      18.250000      62.750000  1.357500e+02   \n",
              "50%            873.500000     140.500000     516.500000  1.144500e+03   \n",
              "75%           4843.000000    1361.000000    3015.500000  8.034000e+03   \n",
              "max         666937.000000  201893.000000  610350.000000  1.585020e+06   \n",
              "\n",
              "        quote_count       anger  anticipation     disgust        fear  \\\n",
              "count    386.000000  386.000000    386.000000  386.000000  386.000000   \n",
              "mean     806.321244    0.060526      0.231551    0.054197    0.128256   \n",
              "std     4908.515752    0.056927      0.100041    0.044355    0.123551   \n",
              "min        0.000000    0.000348      0.022603    0.000537    0.000412   \n",
              "25%        0.000000    0.023804      0.162112    0.027624    0.045371   \n",
              "50%        6.000000    0.044972      0.231017    0.045453    0.092554   \n",
              "75%       87.750000    0.078271      0.285876    0.070328    0.168617   \n",
              "max    82158.000000    0.391661      0.710871    0.411003    0.669333   \n",
              "\n",
              "              joy  ...    negative     neutral    positive   REL_MONTH  \\\n",
              "count  386.000000  ...  386.000000  386.000000  386.000000  386.000000   \n",
              "mean     0.370371  ...    0.160205    0.516042    0.323754    6.450777   \n",
              "std      0.147532  ...    0.108066    0.146955    0.134024    3.259976   \n",
              "min      0.012032  ...    0.001497    0.027100    0.013580    1.000000   \n",
              "25%      0.268038  ...    0.080427    0.411381    0.235906    4.000000   \n",
              "50%      0.353105  ...    0.137857    0.509872    0.310004    7.000000   \n",
              "75%      0.459506  ...    0.222262    0.623758    0.396693    9.000000   \n",
              "max      0.915706  ...    0.844728    0.902600    0.969016   12.000000   \n",
              "\n",
              "          REL_YEAR  BUDGET_DEFLACIONADO  DOMESTIC_OPENING_DEFLACIONADO  \\\n",
              "count   386.000000         3.860000e+02                   3.860000e+02   \n",
              "mean   2014.909326         7.000014e+06                   6.694070e+06   \n",
              "std       4.961626         2.077017e+07                   1.409556e+07   \n",
              "min    1982.000000         0.000000e+00                   0.000000e+00   \n",
              "25%    2014.000000         0.000000e+00                   2.211250e+03   \n",
              "50%    2016.000000         0.000000e+00                   2.391750e+04   \n",
              "75%    2018.000000         3.769076e+06                   8.462451e+06   \n",
              "max    2019.000000         2.083360e+08                   1.286397e+08   \n",
              "\n",
              "       DOMESTIC_GROSS_DEFLACIONADO  INTERNATIONAL_GROSS_DEFLACIONADO  \\\n",
              "count                 3.860000e+02                      3.860000e+02   \n",
              "mean                  1.904722e+07                      2.335277e+07   \n",
              "std                   4.155627e+07                      5.773811e+07   \n",
              "min                   0.000000e+00                      0.000000e+00   \n",
              "25%                   1.036925e+04                      0.000000e+00   \n",
              "50%                   1.971095e+05                      5.917740e+05   \n",
              "75%                   2.037269e+07                      1.625819e+07   \n",
              "max                   3.427817e+08                      3.917264e+08   \n",
              "\n",
              "       WORLDWIDE_GROSS_DEFLACIONADO  \n",
              "count                  3.860000e+02  \n",
              "mean                   4.240000e+07  \n",
              "std                    9.269930e+07  \n",
              "min                    4.380000e+02  \n",
              "25%                    7.190075e+04  \n",
              "50%                    1.466974e+06  \n",
              "75%                    4.237866e+07  \n",
              "max                    7.315751e+08  \n",
              "\n",
              "[8 rows x 26 columns]"
            ],
            "text/html": [
              "\n",
              "  <div id=\"df-e44b7336-eab3-4ceb-9faf-df16ee74e06a\" class=\"colab-df-container\">\n",
              "    <div>\n",
              "<style scoped>\n",
              "    .dataframe tbody tr th:only-of-type {\n",
              "        vertical-align: middle;\n",
              "    }\n",
              "\n",
              "    .dataframe tbody tr th {\n",
              "        vertical-align: top;\n",
              "    }\n",
              "\n",
              "    .dataframe thead th {\n",
              "        text-align: right;\n",
              "    }\n",
              "</style>\n",
              "<table border=\"1\" class=\"dataframe\">\n",
              "  <thead>\n",
              "    <tr style=\"text-align: right;\">\n",
              "      <th></th>\n",
              "      <th>count_valid_tweets</th>\n",
              "      <th>reply_count</th>\n",
              "      <th>retweet_count</th>\n",
              "      <th>like_count</th>\n",
              "      <th>quote_count</th>\n",
              "      <th>anger</th>\n",
              "      <th>anticipation</th>\n",
              "      <th>disgust</th>\n",
              "      <th>fear</th>\n",
              "      <th>joy</th>\n",
              "      <th>...</th>\n",
              "      <th>negative</th>\n",
              "      <th>neutral</th>\n",
              "      <th>positive</th>\n",
              "      <th>REL_MONTH</th>\n",
              "      <th>REL_YEAR</th>\n",
              "      <th>BUDGET_DEFLACIONADO</th>\n",
              "      <th>DOMESTIC_OPENING_DEFLACIONADO</th>\n",
              "      <th>DOMESTIC_GROSS_DEFLACIONADO</th>\n",
              "      <th>INTERNATIONAL_GROSS_DEFLACIONADO</th>\n",
              "      <th>WORLDWIDE_GROSS_DEFLACIONADO</th>\n",
              "    </tr>\n",
              "  </thead>\n",
              "  <tbody>\n",
              "    <tr>\n",
              "      <th>count</th>\n",
              "      <td>386.000000</td>\n",
              "      <td>386.000000</td>\n",
              "      <td>386.000000</td>\n",
              "      <td>3.860000e+02</td>\n",
              "      <td>386.000000</td>\n",
              "      <td>386.000000</td>\n",
              "      <td>386.000000</td>\n",
              "      <td>386.000000</td>\n",
              "      <td>386.000000</td>\n",
              "      <td>386.000000</td>\n",
              "      <td>...</td>\n",
              "      <td>386.000000</td>\n",
              "      <td>386.000000</td>\n",
              "      <td>386.000000</td>\n",
              "      <td>386.000000</td>\n",
              "      <td>386.000000</td>\n",
              "      <td>3.860000e+02</td>\n",
              "      <td>3.860000e+02</td>\n",
              "      <td>3.860000e+02</td>\n",
              "      <td>3.860000e+02</td>\n",
              "      <td>3.860000e+02</td>\n",
              "    </tr>\n",
              "    <tr>\n",
              "      <th>mean</th>\n",
              "      <td>11758.888601</td>\n",
              "      <td>3453.800518</td>\n",
              "      <td>10816.608808</td>\n",
              "      <td>3.093259e+04</td>\n",
              "      <td>806.321244</td>\n",
              "      <td>0.060526</td>\n",
              "      <td>0.231551</td>\n",
              "      <td>0.054197</td>\n",
              "      <td>0.128256</td>\n",
              "      <td>0.370371</td>\n",
              "      <td>...</td>\n",
              "      <td>0.160205</td>\n",
              "      <td>0.516042</td>\n",
              "      <td>0.323754</td>\n",
              "      <td>6.450777</td>\n",
              "      <td>2014.909326</td>\n",
              "      <td>7.000014e+06</td>\n",
              "      <td>6.694070e+06</td>\n",
              "      <td>1.904722e+07</td>\n",
              "      <td>2.335277e+07</td>\n",
              "      <td>4.240000e+07</td>\n",
              "    </tr>\n",
              "    <tr>\n",
              "      <th>std</th>\n",
              "      <td>48957.030015</td>\n",
              "      <td>14578.212438</td>\n",
              "      <td>45778.359952</td>\n",
              "      <td>1.320501e+05</td>\n",
              "      <td>4908.515752</td>\n",
              "      <td>0.056927</td>\n",
              "      <td>0.100041</td>\n",
              "      <td>0.044355</td>\n",
              "      <td>0.123551</td>\n",
              "      <td>0.147532</td>\n",
              "      <td>...</td>\n",
              "      <td>0.108066</td>\n",
              "      <td>0.146955</td>\n",
              "      <td>0.134024</td>\n",
              "      <td>3.259976</td>\n",
              "      <td>4.961626</td>\n",
              "      <td>2.077017e+07</td>\n",
              "      <td>1.409556e+07</td>\n",
              "      <td>4.155627e+07</td>\n",
              "      <td>5.773811e+07</td>\n",
              "      <td>9.269930e+07</td>\n",
              "    </tr>\n",
              "    <tr>\n",
              "      <th>min</th>\n",
              "      <td>1.000000</td>\n",
              "      <td>0.000000</td>\n",
              "      <td>0.000000</td>\n",
              "      <td>0.000000e+00</td>\n",
              "      <td>0.000000</td>\n",
              "      <td>0.000348</td>\n",
              "      <td>0.022603</td>\n",
              "      <td>0.000537</td>\n",
              "      <td>0.000412</td>\n",
              "      <td>0.012032</td>\n",
              "      <td>...</td>\n",
              "      <td>0.001497</td>\n",
              "      <td>0.027100</td>\n",
              "      <td>0.013580</td>\n",
              "      <td>1.000000</td>\n",
              "      <td>1982.000000</td>\n",
              "      <td>0.000000e+00</td>\n",
              "      <td>0.000000e+00</td>\n",
              "      <td>0.000000e+00</td>\n",
              "      <td>0.000000e+00</td>\n",
              "      <td>4.380000e+02</td>\n",
              "    </tr>\n",
              "    <tr>\n",
              "      <th>25%</th>\n",
              "      <td>120.500000</td>\n",
              "      <td>18.250000</td>\n",
              "      <td>62.750000</td>\n",
              "      <td>1.357500e+02</td>\n",
              "      <td>0.000000</td>\n",
              "      <td>0.023804</td>\n",
              "      <td>0.162112</td>\n",
              "      <td>0.027624</td>\n",
              "      <td>0.045371</td>\n",
              "      <td>0.268038</td>\n",
              "      <td>...</td>\n",
              "      <td>0.080427</td>\n",
              "      <td>0.411381</td>\n",
              "      <td>0.235906</td>\n",
              "      <td>4.000000</td>\n",
              "      <td>2014.000000</td>\n",
              "      <td>0.000000e+00</td>\n",
              "      <td>2.211250e+03</td>\n",
              "      <td>1.036925e+04</td>\n",
              "      <td>0.000000e+00</td>\n",
              "      <td>7.190075e+04</td>\n",
              "    </tr>\n",
              "    <tr>\n",
              "      <th>50%</th>\n",
              "      <td>873.500000</td>\n",
              "      <td>140.500000</td>\n",
              "      <td>516.500000</td>\n",
              "      <td>1.144500e+03</td>\n",
              "      <td>6.000000</td>\n",
              "      <td>0.044972</td>\n",
              "      <td>0.231017</td>\n",
              "      <td>0.045453</td>\n",
              "      <td>0.092554</td>\n",
              "      <td>0.353105</td>\n",
              "      <td>...</td>\n",
              "      <td>0.137857</td>\n",
              "      <td>0.509872</td>\n",
              "      <td>0.310004</td>\n",
              "      <td>7.000000</td>\n",
              "      <td>2016.000000</td>\n",
              "      <td>0.000000e+00</td>\n",
              "      <td>2.391750e+04</td>\n",
              "      <td>1.971095e+05</td>\n",
              "      <td>5.917740e+05</td>\n",
              "      <td>1.466974e+06</td>\n",
              "    </tr>\n",
              "    <tr>\n",
              "      <th>75%</th>\n",
              "      <td>4843.000000</td>\n",
              "      <td>1361.000000</td>\n",
              "      <td>3015.500000</td>\n",
              "      <td>8.034000e+03</td>\n",
              "      <td>87.750000</td>\n",
              "      <td>0.078271</td>\n",
              "      <td>0.285876</td>\n",
              "      <td>0.070328</td>\n",
              "      <td>0.168617</td>\n",
              "      <td>0.459506</td>\n",
              "      <td>...</td>\n",
              "      <td>0.222262</td>\n",
              "      <td>0.623758</td>\n",
              "      <td>0.396693</td>\n",
              "      <td>9.000000</td>\n",
              "      <td>2018.000000</td>\n",
              "      <td>3.769076e+06</td>\n",
              "      <td>8.462451e+06</td>\n",
              "      <td>2.037269e+07</td>\n",
              "      <td>1.625819e+07</td>\n",
              "      <td>4.237866e+07</td>\n",
              "    </tr>\n",
              "    <tr>\n",
              "      <th>max</th>\n",
              "      <td>666937.000000</td>\n",
              "      <td>201893.000000</td>\n",
              "      <td>610350.000000</td>\n",
              "      <td>1.585020e+06</td>\n",
              "      <td>82158.000000</td>\n",
              "      <td>0.391661</td>\n",
              "      <td>0.710871</td>\n",
              "      <td>0.411003</td>\n",
              "      <td>0.669333</td>\n",
              "      <td>0.915706</td>\n",
              "      <td>...</td>\n",
              "      <td>0.844728</td>\n",
              "      <td>0.902600</td>\n",
              "      <td>0.969016</td>\n",
              "      <td>12.000000</td>\n",
              "      <td>2019.000000</td>\n",
              "      <td>2.083360e+08</td>\n",
              "      <td>1.286397e+08</td>\n",
              "      <td>3.427817e+08</td>\n",
              "      <td>3.917264e+08</td>\n",
              "      <td>7.315751e+08</td>\n",
              "    </tr>\n",
              "  </tbody>\n",
              "</table>\n",
              "<p>8 rows × 26 columns</p>\n",
              "</div>\n",
              "    <div class=\"colab-df-buttons\">\n",
              "\n",
              "  <div class=\"colab-df-container\">\n",
              "    <button class=\"colab-df-convert\" onclick=\"convertToInteractive('df-e44b7336-eab3-4ceb-9faf-df16ee74e06a')\"\n",
              "            title=\"Convert this dataframe to an interactive table.\"\n",
              "            style=\"display:none;\">\n",
              "\n",
              "  <svg xmlns=\"http://www.w3.org/2000/svg\" height=\"24px\" viewBox=\"0 -960 960 960\">\n",
              "    <path d=\"M120-120v-720h720v720H120Zm60-500h600v-160H180v160Zm220 220h160v-160H400v160Zm0 220h160v-160H400v160ZM180-400h160v-160H180v160Zm440 0h160v-160H620v160ZM180-180h160v-160H180v160Zm440 0h160v-160H620v160Z\"/>\n",
              "  </svg>\n",
              "    </button>\n",
              "\n",
              "  <style>\n",
              "    .colab-df-container {\n",
              "      display:flex;\n",
              "      gap: 12px;\n",
              "    }\n",
              "\n",
              "    .colab-df-convert {\n",
              "      background-color: #E8F0FE;\n",
              "      border: none;\n",
              "      border-radius: 50%;\n",
              "      cursor: pointer;\n",
              "      display: none;\n",
              "      fill: #1967D2;\n",
              "      height: 32px;\n",
              "      padding: 0 0 0 0;\n",
              "      width: 32px;\n",
              "    }\n",
              "\n",
              "    .colab-df-convert:hover {\n",
              "      background-color: #E2EBFA;\n",
              "      box-shadow: 0px 1px 2px rgba(60, 64, 67, 0.3), 0px 1px 3px 1px rgba(60, 64, 67, 0.15);\n",
              "      fill: #174EA6;\n",
              "    }\n",
              "\n",
              "    .colab-df-buttons div {\n",
              "      margin-bottom: 4px;\n",
              "    }\n",
              "\n",
              "    [theme=dark] .colab-df-convert {\n",
              "      background-color: #3B4455;\n",
              "      fill: #D2E3FC;\n",
              "    }\n",
              "\n",
              "    [theme=dark] .colab-df-convert:hover {\n",
              "      background-color: #434B5C;\n",
              "      box-shadow: 0px 1px 3px 1px rgba(0, 0, 0, 0.15);\n",
              "      filter: drop-shadow(0px 1px 2px rgba(0, 0, 0, 0.3));\n",
              "      fill: #FFFFFF;\n",
              "    }\n",
              "  </style>\n",
              "\n",
              "    <script>\n",
              "      const buttonEl =\n",
              "        document.querySelector('#df-e44b7336-eab3-4ceb-9faf-df16ee74e06a button.colab-df-convert');\n",
              "      buttonEl.style.display =\n",
              "        google.colab.kernel.accessAllowed ? 'block' : 'none';\n",
              "\n",
              "      async function convertToInteractive(key) {\n",
              "        const element = document.querySelector('#df-e44b7336-eab3-4ceb-9faf-df16ee74e06a');\n",
              "        const dataTable =\n",
              "          await google.colab.kernel.invokeFunction('convertToInteractive',\n",
              "                                                    [key], {});\n",
              "        if (!dataTable) return;\n",
              "\n",
              "        const docLinkHtml = 'Like what you see? Visit the ' +\n",
              "          '<a target=\"_blank\" href=https://colab.research.google.com/notebooks/data_table.ipynb>data table notebook</a>'\n",
              "          + ' to learn more about interactive tables.';\n",
              "        element.innerHTML = '';\n",
              "        dataTable['output_type'] = 'display_data';\n",
              "        await google.colab.output.renderOutput(dataTable, element);\n",
              "        const docLink = document.createElement('div');\n",
              "        docLink.innerHTML = docLinkHtml;\n",
              "        element.appendChild(docLink);\n",
              "      }\n",
              "    </script>\n",
              "  </div>\n",
              "\n",
              "\n",
              "<div id=\"df-c27d4fc8-e68a-4edb-9e4e-fc0dbfa837ec\">\n",
              "  <button class=\"colab-df-quickchart\" onclick=\"quickchart('df-c27d4fc8-e68a-4edb-9e4e-fc0dbfa837ec')\"\n",
              "            title=\"Suggest charts\"\n",
              "            style=\"display:none;\">\n",
              "\n",
              "<svg xmlns=\"http://www.w3.org/2000/svg\" height=\"24px\"viewBox=\"0 0 24 24\"\n",
              "     width=\"24px\">\n",
              "    <g>\n",
              "        <path d=\"M19 3H5c-1.1 0-2 .9-2 2v14c0 1.1.9 2 2 2h14c1.1 0 2-.9 2-2V5c0-1.1-.9-2-2-2zM9 17H7v-7h2v7zm4 0h-2V7h2v10zm4 0h-2v-4h2v4z\"/>\n",
              "    </g>\n",
              "</svg>\n",
              "  </button>\n",
              "\n",
              "<style>\n",
              "  .colab-df-quickchart {\n",
              "      --bg-color: #E8F0FE;\n",
              "      --fill-color: #1967D2;\n",
              "      --hover-bg-color: #E2EBFA;\n",
              "      --hover-fill-color: #174EA6;\n",
              "      --disabled-fill-color: #AAA;\n",
              "      --disabled-bg-color: #DDD;\n",
              "  }\n",
              "\n",
              "  [theme=dark] .colab-df-quickchart {\n",
              "      --bg-color: #3B4455;\n",
              "      --fill-color: #D2E3FC;\n",
              "      --hover-bg-color: #434B5C;\n",
              "      --hover-fill-color: #FFFFFF;\n",
              "      --disabled-bg-color: #3B4455;\n",
              "      --disabled-fill-color: #666;\n",
              "  }\n",
              "\n",
              "  .colab-df-quickchart {\n",
              "    background-color: var(--bg-color);\n",
              "    border: none;\n",
              "    border-radius: 50%;\n",
              "    cursor: pointer;\n",
              "    display: none;\n",
              "    fill: var(--fill-color);\n",
              "    height: 32px;\n",
              "    padding: 0;\n",
              "    width: 32px;\n",
              "  }\n",
              "\n",
              "  .colab-df-quickchart:hover {\n",
              "    background-color: var(--hover-bg-color);\n",
              "    box-shadow: 0 1px 2px rgba(60, 64, 67, 0.3), 0 1px 3px 1px rgba(60, 64, 67, 0.15);\n",
              "    fill: var(--button-hover-fill-color);\n",
              "  }\n",
              "\n",
              "  .colab-df-quickchart-complete:disabled,\n",
              "  .colab-df-quickchart-complete:disabled:hover {\n",
              "    background-color: var(--disabled-bg-color);\n",
              "    fill: var(--disabled-fill-color);\n",
              "    box-shadow: none;\n",
              "  }\n",
              "\n",
              "  .colab-df-spinner {\n",
              "    border: 2px solid var(--fill-color);\n",
              "    border-color: transparent;\n",
              "    border-bottom-color: var(--fill-color);\n",
              "    animation:\n",
              "      spin 1s steps(1) infinite;\n",
              "  }\n",
              "\n",
              "  @keyframes spin {\n",
              "    0% {\n",
              "      border-color: transparent;\n",
              "      border-bottom-color: var(--fill-color);\n",
              "      border-left-color: var(--fill-color);\n",
              "    }\n",
              "    20% {\n",
              "      border-color: transparent;\n",
              "      border-left-color: var(--fill-color);\n",
              "      border-top-color: var(--fill-color);\n",
              "    }\n",
              "    30% {\n",
              "      border-color: transparent;\n",
              "      border-left-color: var(--fill-color);\n",
              "      border-top-color: var(--fill-color);\n",
              "      border-right-color: var(--fill-color);\n",
              "    }\n",
              "    40% {\n",
              "      border-color: transparent;\n",
              "      border-right-color: var(--fill-color);\n",
              "      border-top-color: var(--fill-color);\n",
              "    }\n",
              "    60% {\n",
              "      border-color: transparent;\n",
              "      border-right-color: var(--fill-color);\n",
              "    }\n",
              "    80% {\n",
              "      border-color: transparent;\n",
              "      border-right-color: var(--fill-color);\n",
              "      border-bottom-color: var(--fill-color);\n",
              "    }\n",
              "    90% {\n",
              "      border-color: transparent;\n",
              "      border-bottom-color: var(--fill-color);\n",
              "    }\n",
              "  }\n",
              "</style>\n",
              "\n",
              "  <script>\n",
              "    async function quickchart(key) {\n",
              "      const quickchartButtonEl =\n",
              "        document.querySelector('#' + key + ' button');\n",
              "      quickchartButtonEl.disabled = true;  // To prevent multiple clicks.\n",
              "      quickchartButtonEl.classList.add('colab-df-spinner');\n",
              "      try {\n",
              "        const charts = await google.colab.kernel.invokeFunction(\n",
              "            'suggestCharts', [key], {});\n",
              "      } catch (error) {\n",
              "        console.error('Error during call to suggestCharts:', error);\n",
              "      }\n",
              "      quickchartButtonEl.classList.remove('colab-df-spinner');\n",
              "      quickchartButtonEl.classList.add('colab-df-quickchart-complete');\n",
              "    }\n",
              "    (() => {\n",
              "      let quickchartButtonEl =\n",
              "        document.querySelector('#df-c27d4fc8-e68a-4edb-9e4e-fc0dbfa837ec button');\n",
              "      quickchartButtonEl.style.display =\n",
              "        google.colab.kernel.accessAllowed ? 'block' : 'none';\n",
              "    })();\n",
              "  </script>\n",
              "</div>\n",
              "\n",
              "    </div>\n",
              "  </div>\n"
            ],
            "application/vnd.google.colaboratory.intrinsic+json": {
              "type": "dataframe"
            }
          },
          "metadata": {},
          "execution_count": 12
        }
      ]
    },
    {
      "cell_type": "code",
      "source": [
        "base_filmes_rf.isnull().sum()"
      ],
      "metadata": {
        "colab": {
          "base_uri": "https://localhost:8080/"
        },
        "id": "JdC2zFEz9Pl1",
        "outputId": "7c42c888-ac55-42e0-8861-27081b59d6a6"
      },
      "execution_count": 13,
      "outputs": [
        {
          "output_type": "execute_result",
          "data": {
            "text/plain": [
              "count_valid_tweets                  0\n",
              "reply_count                         0\n",
              "retweet_count                       0\n",
              "like_count                          0\n",
              "quote_count                         0\n",
              "anger                               0\n",
              "anticipation                        0\n",
              "disgust                             0\n",
              "fear                                0\n",
              "joy                                 0\n",
              "love                                0\n",
              "optimism                            0\n",
              "pessimism                           0\n",
              "sadness                             0\n",
              "surprise                            0\n",
              "trust                               0\n",
              "negative                            0\n",
              "neutral                             0\n",
              "positive                            0\n",
              "REL_MONTH                           0\n",
              "REL_YEAR                            0\n",
              "DISTRIBUTOR_GROUPED                 0\n",
              "Drama                               0\n",
              "Action                              0\n",
              "Comedy                              0\n",
              "Horror                              0\n",
              "Adventure                           0\n",
              "Crime                               0\n",
              "Fantasy                             0\n",
              "Biography                           0\n",
              "Documentary                         0\n",
              "Animation                           0\n",
              "Thriller                            0\n",
              "Mystery                             0\n",
              "History                             0\n",
              "Sci-Fi                              0\n",
              "Romance                             0\n",
              "Music                               0\n",
              "Family                              0\n",
              "Western                             0\n",
              "Musical                             0\n",
              "War                                 0\n",
              "MPAA_BIN                            0\n",
              "BUDGET_DEFLACIONADO                 0\n",
              "DOMESTIC_OPENING_DEFLACIONADO       0\n",
              "DOMESTIC_GROSS_DEFLACIONADO         0\n",
              "INTERNATIONAL_GROSS_DEFLACIONADO    0\n",
              "WORLDWIDE_GROSS_DEFLACIONADO        0\n",
              "HAVE_SEQUEL                         0\n",
              "dtype: int64"
            ]
          },
          "metadata": {},
          "execution_count": 13
        }
      ]
    },
    {
      "cell_type": "code",
      "source": [
        "base_filmes_rf['HAVE_SEQUEL'].value_counts()"
      ],
      "metadata": {
        "colab": {
          "base_uri": "https://localhost:8080/"
        },
        "id": "GmifQ7HB9Xfz",
        "outputId": "89287165-3ea9-4d51-ffb5-94811cfeebdf"
      },
      "execution_count": 14,
      "outputs": [
        {
          "output_type": "execute_result",
          "data": {
            "text/plain": [
              "HAVE_SEQUEL\n",
              "False    343\n",
              "True      43\n",
              "Name: count, dtype: int64"
            ]
          },
          "metadata": {},
          "execution_count": 14
        }
      ]
    },
    {
      "cell_type": "markdown",
      "source": [
        "### **Class distribution**"
      ],
      "metadata": {
        "id": "Wfa6-KfkAMGv"
      }
    },
    {
      "cell_type": "code",
      "source": [
        "X = base_filmes_rf.drop(['HAVE_SEQUEL'], axis=1)\n",
        "y = base_filmes_rf['HAVE_SEQUEL']\n",
        "\n",
        "#trocar para a variavel SEQUEL_SPINOFF"
      ],
      "metadata": {
        "id": "sTPJD_s__yon"
      },
      "execution_count": 15,
      "outputs": []
    },
    {
      "cell_type": "code",
      "source": [
        "y.value_counts()"
      ],
      "metadata": {
        "colab": {
          "base_uri": "https://localhost:8080/"
        },
        "id": "cXv-FZ3uAB2P",
        "outputId": "9c37a62c-16ab-416b-8740-1378582b2133"
      },
      "execution_count": 16,
      "outputs": [
        {
          "output_type": "execute_result",
          "data": {
            "text/plain": [
              "HAVE_SEQUEL\n",
              "False    343\n",
              "True      43\n",
              "Name: count, dtype: int64"
            ]
          },
          "metadata": {},
          "execution_count": 16
        }
      ]
    },
    {
      "cell_type": "code",
      "source": [
        "# Show pie plot (Approach 1)\n",
        "y.value_counts().plot.pie(autopct='%.2f')"
      ],
      "metadata": {
        "colab": {
          "base_uri": "https://localhost:8080/",
          "height": 424
        },
        "id": "Q_QBQJHiAErB",
        "outputId": "c33e5094-6f34-4227-9540-bdb7ef2561dc"
      },
      "execution_count": 17,
      "outputs": [
        {
          "output_type": "execute_result",
          "data": {
            "text/plain": [
              "<Axes: ylabel='count'>"
            ]
          },
          "metadata": {},
          "execution_count": 17
        },
        {
          "output_type": "display_data",
          "data": {
            "text/plain": [
              "<Figure size 640x480 with 1 Axes>"
            ],
            "image/png": "[encoded data removed]"
          },
          "metadata": {}
        }
      ]
    },
    {
      "cell_type": "code",
      "source": [
        "# Show pie plot (Approach 2) '%.f.2'\n",
        "sns.set()\n",
        "movies = y.value_counts()\n",
        "movies.plot(kind='pie', title='Number of movies that have sequel', figsize=[8,8],\n",
        "          autopct=lambda p: '{:.2f}%({:.0f})'.format(p,(p/100)*movies.sum()))\n",
        "plt.show()"
      ],
      "metadata": {
        "colab": {
          "base_uri": "https://localhost:8080/",
          "height": 675
        },
        "id": "7u2LokuzAPoW",
        "outputId": "5a07a37e-4b24-4b69-e938-3dff8f13c908"
      },
      "execution_count": 18,
      "outputs": [
        {
          "output_type": "display_data",
          "data": {
            "text/plain": [
              "<Figure size 800x800 with 1 Axes>"
            ],
            "image/png": "[encoded data removed]"
          },
          "metadata": {}
        }
      ]
    },
    {
      "cell_type": "markdown",
      "source": [
        "### **Random Undersampling**\n",
        "\n",
        "``'not minority'`` = resample all classes but the minority class"
      ],
      "metadata": {
        "id": "qpKEBZGBBN8f"
      }
    },
    {
      "cell_type": "code",
      "source": [
        "#from imblearn.under_sampling import RandomUnderSampler\n",
        "\n",
        "# rus = RandomUnderSampler(sampling_strategy=1) # Numerical value\n",
        "#rus = RandomUnderSampler(sampling_strategy=\"not minority\") # String\n",
        "#X_res, y_res = rus.fit_resample(X, y)\n",
        "\n",
        "#ax = y_res.value_counts().plot.pie(autopct='%.2f')\n",
        "#_ = ax.set_title(\"Under-sampling\")"
      ],
      "metadata": {
        "id": "xJWX8hlpBQIt"
      },
      "execution_count": 19,
      "outputs": []
    },
    {
      "cell_type": "code",
      "source": [
        "#y_res.value_counts()"
      ],
      "metadata": {
        "id": "zxDyEguzCZgo"
      },
      "execution_count": 20,
      "outputs": []
    },
    {
      "cell_type": "markdown",
      "source": [
        "### **Random Oversampling**\n",
        "\n",
        "``\"not majority\"`` = resample all classes but the majority class\n",
        "\n"
      ],
      "metadata": {
        "id": "2nZPY-SuC6V8"
      }
    },
    {
      "cell_type": "code",
      "source": [
        "from imblearn.over_sampling import RandomOverSampler\n",
        "\n",
        "#ros = RandomOverSampler(sampling_strategy=1) # Float\n",
        "ros = RandomOverSampler(sampling_strategy=\"not majority\") # String\n",
        "X_res, y_res = ros.fit_resample(X, y)\n",
        "\n",
        "ax = y_res.value_counts().plot.pie(autopct='%.2f')\n",
        "_ = ax.set_title(\"Over-sampling\")"
      ],
      "metadata": {
        "colab": {
          "base_uri": "https://localhost:8080/",
          "height": 428
        },
        "id": "ovvJpGkAC8LM",
        "outputId": "91549619-aaab-4960-b936-cb8b6f358c18"
      },
      "execution_count": 21,
      "outputs": [
        {
          "output_type": "display_data",
          "data": {
            "text/plain": [
              "<Figure size 640x480 with 1 Axes>"
            ],
            "image/png": "[encoded data removed]"
          },
          "metadata": {}
        }
      ]
    },
    {
      "cell_type": "code",
      "source": [
        "y_res.value_counts()"
      ],
      "metadata": {
        "colab": {
          "base_uri": "https://localhost:8080/"
        },
        "id": "0H10kJwUC-hi",
        "outputId": "238979af-7feb-4a24-8678-ae56fef56693"
      },
      "execution_count": 22,
      "outputs": [
        {
          "output_type": "execute_result",
          "data": {
            "text/plain": [
              "HAVE_SEQUEL\n",
              "True     343\n",
              "False    343\n",
              "Name: count, dtype: int64"
            ]
          },
          "metadata": {},
          "execution_count": 22
        }
      ]
    },
    {
      "cell_type": "markdown",
      "source": [
        "### **Performing RF**"
      ],
      "metadata": {
        "id": "vlcDGWgtbam-"
      }
    },
    {
      "cell_type": "code",
      "source": [
        "X_res.shape"
      ],
      "metadata": {
        "colab": {
          "base_uri": "https://localhost:8080/"
        },
        "id": "j4uokA-1DBrE",
        "outputId": "cc945184-c1c5-458c-c082-fc59de66868f"
      },
      "execution_count": 23,
      "outputs": [
        {
          "output_type": "execute_result",
          "data": {
            "text/plain": [
              "(686, 48)"
            ]
          },
          "metadata": {},
          "execution_count": 23
        }
      ]
    },
    {
      "cell_type": "code",
      "source": [
        "y_res.shape"
      ],
      "metadata": {
        "colab": {
          "base_uri": "https://localhost:8080/"
        },
        "id": "BpCLcJ8IF7fd",
        "outputId": "76f96090-7239-49c8-df9b-6f418a44e6d9"
      },
      "execution_count": 24,
      "outputs": [
        {
          "output_type": "execute_result",
          "data": {
            "text/plain": [
              "(686,)"
            ]
          },
          "metadata": {},
          "execution_count": 24
        }
      ]
    },
    {
      "cell_type": "code",
      "source": [
        "from sklearn.model_selection import train_test_split\n",
        "\n",
        "X_train, X_test, y_train, y_test = train_test_split(X_res, y_res, random_state=100)"
      ],
      "metadata": {
        "id": "Im5z_uz1ksq7"
      },
      "execution_count": 25,
      "outputs": []
    },
    {
      "cell_type": "code",
      "source": [
        "X_train.shape"
      ],
      "metadata": {
        "colab": {
          "base_uri": "https://localhost:8080/"
        },
        "id": "AAszhyUXkxlG",
        "outputId": "7d0fb128-e02f-4b93-b212-ba493be11582"
      },
      "execution_count": 26,
      "outputs": [
        {
          "output_type": "execute_result",
          "data": {
            "text/plain": [
              "(514, 48)"
            ]
          },
          "metadata": {},
          "execution_count": 26
        }
      ]
    },
    {
      "cell_type": "code",
      "source": [
        "y_train.shape"
      ],
      "metadata": {
        "colab": {
          "base_uri": "https://localhost:8080/"
        },
        "id": "Q1W9ozFjk4Kq",
        "outputId": "9ae2591c-b9c2-4727-81a5-fe7b5c6f389e"
      },
      "execution_count": 27,
      "outputs": [
        {
          "output_type": "execute_result",
          "data": {
            "text/plain": [
              "(514,)"
            ]
          },
          "metadata": {},
          "execution_count": 27
        }
      ]
    },
    {
      "cell_type": "code",
      "source": [
        "from sklearn.ensemble import RandomForestClassifier\n",
        "\n",
        "clf = RandomForestClassifier(criterion=\"gini\",\n",
        "                             max_depth= 15,\n",
        "                             min_samples_split= 3,\n",
        "                             n_estimators = 150,\n",
        "                             random_state= 100\n",
        "                             )"
      ],
      "metadata": {
        "id": "EcapUI9NGrtA"
      },
      "execution_count": 28,
      "outputs": []
    },
    {
      "cell_type": "code",
      "source": [
        "clf.fit(X_train, y_train)"
      ],
      "metadata": {
        "colab": {
          "base_uri": "https://localhost:8080/",
          "height": 92
        },
        "id": "ZEcW0hFUHuEt",
        "outputId": "11c59c46-1b1d-4d64-9cfb-1ca5d227451b"
      },
      "execution_count": 29,
      "outputs": [
        {
          "output_type": "execute_result",
          "data": {
            "text/plain": [
              "RandomForestClassifier(max_depth=15, min_samples_split=3, n_estimators=150,\n",
              "                       random_state=100)"
            ],
            "text/html": [
              "<style>#sk-container-id-1 {color: black;background-color: white;}#sk-container-id-1 pre{padding: 0;}#sk-container-id-1 div.sk-toggleable {background-color: white;}#sk-container-id-1 label.sk-toggleable__label {cursor: pointer;display: block;width: 100%;margin-bottom: 0;padding: 0.3em;box-sizing: border-box;text-align: center;}#sk-container-id-1 label.sk-toggleable__label-arrow:before {content: \"▸\";float: left;margin-right: 0.25em;color: #696969;}#sk-container-id-1 label.sk-toggleable__label-arrow:hover:before {color: black;}#sk-container-id-1 div.sk-estimator:hover label.sk-toggleable__label-arrow:before {color: black;}#sk-container-id-1 div.sk-toggleable__content {max-height: 0;max-width: 0;overflow: hidden;text-align: left;background-color: #f0f8ff;}#sk-container-id-1 div.sk-toggleable__content pre {margin: 0.2em;color: black;border-radius: 0.25em;background-color: #f0f8ff;}#sk-container-id-1 input.sk-toggleable__control:checked~div.sk-toggleable__content {max-height: 200px;max-width: 100%;overflow: auto;}#sk-container-id-1 input.sk-toggleable__control:checked~label.sk-toggleable__label-arrow:before {content: \"▾\";}#sk-container-id-1 div.sk-estimator input.sk-toggleable__control:checked~label.sk-toggleable__label {background-color: #d4ebff;}#sk-container-id-1 div.sk-label input.sk-toggleable__control:checked~label.sk-toggleable__label {background-color: #d4ebff;}#sk-container-id-1 input.sk-hidden--visually {border: 0;clip: rect(1px 1px 1px 1px);clip: rect(1px, 1px, 1px, 1px);height: 1px;margin: -1px;overflow: hidden;padding: 0;position: absolute;width: 1px;}#sk-container-id-1 div.sk-estimator {font-family: monospace;background-color: #f0f8ff;border: 1px dotted black;border-radius: 0.25em;box-sizing: border-box;margin-bottom: 0.5em;}#sk-container-id-1 div.sk-estimator:hover {background-color: #d4ebff;}#sk-container-id-1 div.sk-parallel-item::after {content: \"\";width: 100%;border-bottom: 1px solid gray;flex-grow: 1;}#sk-container-id-1 div.sk-label:hover label.sk-toggleable__label {background-color: #d4ebff;}#sk-container-id-1 div.sk-serial::before {content: \"\";position: absolute;border-left: 1px solid gray;box-sizing: border-box;top: 0;bottom: 0;left: 50%;z-index: 0;}#sk-container-id-1 div.sk-serial {display: flex;flex-direction: column;align-items: center;background-color: white;padding-right: 0.2em;padding-left: 0.2em;position: relative;}#sk-container-id-1 div.sk-item {position: relative;z-index: 1;}#sk-container-id-1 div.sk-parallel {display: flex;align-items: stretch;justify-content: center;background-color: white;position: relative;}#sk-container-id-1 div.sk-item::before, #sk-container-id-1 div.sk-parallel-item::before {content: \"\";position: absolute;border-left: 1px solid gray;box-sizing: border-box;top: 0;bottom: 0;left: 50%;z-index: -1;}#sk-container-id-1 div.sk-parallel-item {display: flex;flex-direction: column;z-index: 1;position: relative;background-color: white;}#sk-container-id-1 div.sk-parallel-item:first-child::after {align-self: flex-end;width: 50%;}#sk-container-id-1 div.sk-parallel-item:last-child::after {align-self: flex-start;width: 50%;}#sk-container-id-1 div.sk-parallel-item:only-child::after {width: 0;}#sk-container-id-1 div.sk-dashed-wrapped {border: 1px dashed gray;margin: 0 0.4em 0.5em 0.4em;box-sizing: border-box;padding-bottom: 0.4em;background-color: white;}#sk-container-id-1 div.sk-label label {font-family: monospace;font-weight: bold;display: inline-block;line-height: 1.2em;}#sk-container-id-1 div.sk-label-container {text-align: center;}#sk-container-id-1 div.sk-container {/* jupyter's `normalize.less` sets `[hidden] { display: none; }` but bootstrap.min.css set `[hidden] { display: none !important; }` so we also need the `!important` here to be able to override the default hidden behavior on the sphinx rendered scikit-learn.org. See: https://github.com/scikit-learn/scikit-learn/issues/21755 */display: inline-block !important;position: relative;}#sk-container-id-1 div.sk-text-repr-fallback {display: none;}</style><div id=\"sk-container-id-1\" class=\"sk-top-container\"><div class=\"sk-text-repr-fallback\"><pre>RandomForestClassifier(max_depth=15, min_samples_split=3, n_estimators=150,\n",
              "                       random_state=100)</pre><b>In a Jupyter environment, please rerun this cell to show the HTML representation or trust the notebook. <br />On GitHub, the HTML representation is unable to render, please try loading this page with nbviewer.org.</b></div><div class=\"sk-container\" hidden><div class=\"sk-item\"><div class=\"sk-estimator sk-toggleable\"><input class=\"sk-toggleable__control sk-hidden--visually\" id=\"sk-estimator-id-1\" type=\"checkbox\" checked><label for=\"sk-estimator-id-1\" class=\"sk-toggleable__label sk-toggleable__label-arrow\">RandomForestClassifier</label><div class=\"sk-toggleable__content\"><pre>RandomForestClassifier(max_depth=15, min_samples_split=3, n_estimators=150,\n",
              "                       random_state=100)</pre></div></div></div></div></div>"
            ]
          },
          "metadata": {},
          "execution_count": 29
        }
      ]
    },
    {
      "cell_type": "code",
      "source": [
        "clf.feature_importances_"
      ],
      "metadata": {
        "colab": {
          "base_uri": "https://localhost:8080/"
        },
        "id": "KFGwus-DH8xS",
        "outputId": "d94bf954-bdbf-4e0f-c9ab-c3d7be2bc7ee"
      },
      "execution_count": 30,
      "outputs": [
        {
          "output_type": "execute_result",
          "data": {
            "text/plain": [
              "array([4.46059399e-02, 3.81364109e-02, 2.91984300e-02, 3.07184399e-02,\n",
              "       2.04456100e-02, 2.01941192e-02, 3.87859004e-02, 2.05366441e-02,\n",
              "       2.20601185e-02, 2.79943292e-02, 2.20692025e-02, 4.95617974e-02,\n",
              "       2.59481812e-02, 1.90160686e-02, 2.56108713e-02, 3.21975605e-02,\n",
              "       1.95866280e-02, 3.41804902e-02, 4.30868122e-02, 1.55597868e-02,\n",
              "       2.43965859e-02, 6.45039105e-03, 6.52700840e-03, 3.14910528e-03,\n",
              "       3.23290143e-03, 7.16133487e-04, 8.12347695e-03, 8.74880939e-04,\n",
              "       2.94457755e-03, 4.00578824e-05, 4.15051680e-05, 3.31070914e-05,\n",
              "       3.25011523e-03, 5.44352348e-03, 0.00000000e+00, 3.22595787e-03,\n",
              "       2.10096697e-03, 1.36271446e-04, 5.60118432e-04, 2.60699862e-04,\n",
              "       0.00000000e+00, 1.35243658e-03, 5.87092985e-03, 3.29426748e-02,\n",
              "       6.69950322e-02, 6.89640733e-02, 9.81283083e-02, 7.47458199e-02])"
            ]
          },
          "metadata": {},
          "execution_count": 30
        }
      ]
    },
    {
      "cell_type": "code",
      "source": [
        "base_filmes_rf.columns"
      ],
      "metadata": {
        "colab": {
          "base_uri": "https://localhost:8080/"
        },
        "id": "zjYwHkkHLysl",
        "outputId": "65313693-13e9-42a0-dde0-1b7f6c3e9410"
      },
      "execution_count": 31,
      "outputs": [
        {
          "output_type": "execute_result",
          "data": {
            "text/plain": [
              "Index(['count_valid_tweets', 'reply_count', 'retweet_count', 'like_count',\n",
              "       'quote_count', 'anger', 'anticipation', 'disgust', 'fear', 'joy',\n",
              "       'love', 'optimism', 'pessimism', 'sadness', 'surprise', 'trust',\n",
              "       'negative', 'neutral', 'positive', 'REL_MONTH', 'REL_YEAR',\n",
              "       'DISTRIBUTOR_GROUPED', 'Drama', 'Action', 'Comedy', 'Horror',\n",
              "       'Adventure', 'Crime', 'Fantasy', 'Biography', 'Documentary',\n",
              "       'Animation', 'Thriller', 'Mystery', 'History', 'Sci-Fi', 'Romance',\n",
              "       'Music', 'Family', 'Western', 'Musical', 'War', 'MPAA_BIN',\n",
              "       'BUDGET_DEFLACIONADO', 'DOMESTIC_OPENING_DEFLACIONADO',\n",
              "       'DOMESTIC_GROSS_DEFLACIONADO', 'INTERNATIONAL_GROSS_DEFLACIONADO',\n",
              "       'WORLDWIDE_GROSS_DEFLACIONADO', 'HAVE_SEQUEL'],\n",
              "      dtype='object')"
            ]
          },
          "metadata": {},
          "execution_count": 31
        }
      ]
    },
    {
      "cell_type": "code",
      "source": [
        "y_pred = clf.predict(X_test)"
      ],
      "metadata": {
        "id": "6FgaCjFWL19s"
      },
      "execution_count": 32,
      "outputs": []
    },
    {
      "cell_type": "code",
      "source": [
        "y_pred"
      ],
      "metadata": {
        "colab": {
          "base_uri": "https://localhost:8080/"
        },
        "id": "M9KnbOx1L83p",
        "outputId": "45d11979-19cb-48c7-9c42-25eb02c3b566"
      },
      "execution_count": 33,
      "outputs": [
        {
          "output_type": "execute_result",
          "data": {
            "text/plain": [
              "array([False, False,  True,  True, False, False,  True,  True,  True,\n",
              "        True,  True,  True,  True, False,  True, False, False, False,\n",
              "        True,  True,  True,  True, False,  True, False, False, False,\n",
              "       False, False, False, False, False, False,  True,  True,  True,\n",
              "       False,  True, False,  True, False, False, False, False,  True,\n",
              "       False,  True, False, False,  True, False, False, False, False,\n",
              "       False,  True,  True,  True,  True,  True, False, False, False,\n",
              "        True, False, False, False, False, False, False,  True, False,\n",
              "        True,  True,  True,  True, False,  True, False, False, False,\n",
              "       False,  True,  True, False, False,  True,  True, False,  True,\n",
              "        True,  True,  True, False,  True,  True,  True,  True,  True,\n",
              "        True, False, False, False,  True, False, False, False,  True,\n",
              "        True,  True, False, False, False,  True,  True, False, False,\n",
              "       False,  True, False, False,  True,  True, False, False,  True,\n",
              "        True,  True, False,  True,  True, False,  True, False,  True,\n",
              "        True,  True,  True, False,  True, False, False,  True,  True,\n",
              "       False, False,  True, False, False,  True,  True, False, False,\n",
              "        True,  True,  True, False,  True,  True, False, False, False,\n",
              "       False, False, False, False, False,  True,  True,  True, False,\n",
              "       False])"
            ]
          },
          "metadata": {},
          "execution_count": 33
        }
      ]
    },
    {
      "cell_type": "code",
      "source": [
        "from sklearn.metrics import confusion_matrix\n",
        "\n",
        "confusion_matrix(y_test, y_pred)"
      ],
      "metadata": {
        "colab": {
          "base_uri": "https://localhost:8080/"
        },
        "id": "KA689wehL-dZ",
        "outputId": "ee7cb678-fdf3-4c99-b5fd-365844a6323c"
      },
      "execution_count": 34,
      "outputs": [
        {
          "output_type": "execute_result",
          "data": {
            "text/plain": [
              "array([[89,  3],\n",
              "       [ 1, 79]])"
            ]
          },
          "metadata": {},
          "execution_count": 34
        }
      ]
    },
    {
      "cell_type": "code",
      "source": [
        "from sklearn.metrics import accuracy_score\n",
        "\n",
        "accuracy_score(y_test, y_pred)"
      ],
      "metadata": {
        "colab": {
          "base_uri": "https://localhost:8080/"
        },
        "id": "dZtOv-KSMKJk",
        "outputId": "f8896637-455c-4495-8f26-ebac7105f398"
      },
      "execution_count": 35,
      "outputs": [
        {
          "output_type": "execute_result",
          "data": {
            "text/plain": [
              "0.9767441860465116"
            ]
          },
          "metadata": {},
          "execution_count": 35
        }
      ]
    },
    {
      "cell_type": "code",
      "source": [
        "from sklearn.model_selection import cross_val_score\n",
        "cross_val_score(clf, X_train, y_train)"
      ],
      "metadata": {
        "colab": {
          "base_uri": "https://localhost:8080/"
        },
        "id": "E6iwZMujMYiq",
        "outputId": "a1c3c5dc-2e36-4bad-c384-7b2cd5487856"
      },
      "execution_count": 36,
      "outputs": [
        {
          "output_type": "execute_result",
          "data": {
            "text/plain": [
              "array([0.96116505, 0.96116505, 0.96116505, 0.98058252, 0.97058824])"
            ]
          },
          "metadata": {},
          "execution_count": 36
        }
      ]
    },
    {
      "cell_type": "code",
      "source": [
        "from sklearn.metrics import classification_report\n",
        "\n",
        "print(classification_report(y_pred, y_test))"
      ],
      "metadata": {
        "colab": {
          "base_uri": "https://localhost:8080/"
        },
        "id": "gofdmTbWMqKz",
        "outputId": "07e1304a-47d6-4597-e4b4-1cc399b88ef6"
      },
      "execution_count": 37,
      "outputs": [
        {
          "output_type": "stream",
          "name": "stdout",
          "text": [
            "              precision    recall  f1-score   support\n",
            "\n",
            "       False       0.97      0.99      0.98        90\n",
            "        True       0.99      0.96      0.98        82\n",
            "\n",
            "    accuracy                           0.98       172\n",
            "   macro avg       0.98      0.98      0.98       172\n",
            "weighted avg       0.98      0.98      0.98       172\n",
            "\n"
          ]
        }
      ]
    },
    {
      "cell_type": "code",
      "source": [
        "features = X.columns\n",
        "importances = clf.feature_importances_\n",
        "indices = np.argsort(importances)\n",
        "\n",
        "# customized number\n",
        "num_features = 20\n",
        "\n",
        "plt.title('Feature Importances')\n",
        "plt.barh(range(num_features), importances[indices[-num_features:]], color='b', align='center')\n",
        "plt.yticks(range(num_features), [features[i] for i in indices[-num_features:]])\n",
        "plt.xlabel('Relative Importance')\n",
        "plt.show()"
      ],
      "metadata": {
        "colab": {
          "base_uri": "https://localhost:8080/",
          "height": 480
        },
        "id": "s_gLMwH8N5Ao",
        "outputId": "bf0d2e43-2e5f-4e7a-d9cc-526f5459e20f"
      },
      "execution_count": 38,
      "outputs": [
        {
          "output_type": "display_data",
          "data": {
            "text/plain": [
              "<Figure size 640x480 with 1 Axes>"
            ],
            "image/png": "[encoded data removed]"
          },
          "metadata": {}
        }
      ]
    },
    {
      "cell_type": "code",
      "source": [
        "#fig, ax = plt.subplots()\n",
        "import itertools\n",
        "from operator import itemgetter\n",
        "\n",
        "features = X.columns\n",
        "importances = clf.feature_importances_\n",
        "\n",
        "teste = dict(zip(features, importances))\n",
        "\n",
        "s = dict(sorted(teste.items(), key=lambda item: item[1], reverse = True)[:20])\n",
        "\n",
        "plt.clf()\n",
        "\n",
        "# using some dummy data for this example\n",
        "xs = list(s.values())\n",
        "ys = list(s.keys())\n",
        "\n",
        "# 'bo-' means blue color, round points, solid lines\n",
        "plt.plot(xs,ys, marker='o', linestyle='', markersize=8, color='g')\n",
        "\n",
        "# zip joins x and y coordinates in pairs\n",
        "for x,y in zip(xs,ys):\n",
        "    label = \"{:.3f}\".format(x)\n",
        "    plt.annotate(label, # this is the text\n",
        "                 (x,y), # these are the coordinates to position the label\n",
        "                 textcoords=\"offset points\", # how to position the text\n",
        "                 xytext=(0,10), # distance from text to points (x,y)\n",
        "                 ha='center') # horizontal alignment can be left, right or center\n",
        "\n",
        "plt.show()\n"
      ],
      "metadata": {
        "colab": {
          "base_uri": "https://localhost:8080/",
          "height": 445
        },
        "id": "KtY7U9fYxTUD",
        "outputId": "9b72eb54-6f8d-49d2-dd35-ba52c3cbc278"
      },
      "execution_count": 39,
      "outputs": [
        {
          "output_type": "display_data",
          "data": {
            "text/plain": [
              "<Figure size 640x480 with 1 Axes>"
            ],
            "image/png": "[encoded data removed]"
          },
          "metadata": {}
        }
      ]
    },
    {
      "cell_type": "code",
      "source": [],
      "metadata": {
        "id": "nxycDyQzJPZb"
      },
      "execution_count": 39,
      "outputs": []
    }
  ]
}